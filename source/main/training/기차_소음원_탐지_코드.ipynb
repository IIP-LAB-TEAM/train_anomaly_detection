{
  "cells": [
    {
      "cell_type": "markdown",
      "metadata": {
        "id": "L1mV6yfnwUtb"
      },
      "source": [
        "# 기차 대차 이상 소음원 탐지 모델"
      ]
    },
    {
      "cell_type": "code",
      "execution_count": 1,
      "metadata": {
        "id": "jVhUhNhTv-jx"
      },
      "outputs": [],
      "source": [
        "# Author jhCOR"
      ]
    },
    {
      "cell_type": "markdown",
      "metadata": {
        "id": "6EPhFob4woNW"
      },
      "source": [
        "### 드라이브 마운트 /  라이브러리 임포트 / 라이브러리 설치"
      ]
    },
    {
      "cell_type": "code",
      "execution_count": 2,
      "metadata": {
        "colab": {
          "base_uri": "https://localhost:8080/"
        },
        "id": "u9nPnyFAgTUg",
        "outputId": "a6bbc824-a1c6-48bd-f581-7627c2930de8"
      },
      "outputs": [
        {
          "output_type": "stream",
          "name": "stdout",
          "text": [
            "Drive already mounted at /content/drive; to attempt to forcibly remount, call drive.mount(\"/content/drive\", force_remount=True).\n"
          ]
        }
      ],
      "source": [
        "from google.colab import drive\n",
        "drive.mount('/content/drive')"
      ]
    },
    {
      "cell_type": "code",
      "execution_count": 3,
      "metadata": {
        "colab": {
          "base_uri": "https://localhost:8080/"
        },
        "id": "G6Iz8nBbdhY2",
        "outputId": "9dcac70f-4d2d-40f3-def6-accfa4d5d0e5"
      },
      "outputs": [
        {
          "output_type": "stream",
          "name": "stdout",
          "text": [
            "Requirement already satisfied: tensorflow_addons in /usr/local/lib/python3.10/dist-packages (0.21.0)\n",
            "Requirement already satisfied: packaging in /usr/local/lib/python3.10/dist-packages (from tensorflow_addons) (23.2)\n",
            "Requirement already satisfied: typeguard<3.0.0,>=2.7 in /usr/local/lib/python3.10/dist-packages (from tensorflow_addons) (2.13.3)\n"
          ]
        }
      ],
      "source": [
        "!pip install tensorflow_addons"
      ]
    },
    {
      "cell_type": "code",
      "execution_count": 4,
      "metadata": {
        "id": "LNiTlcgND6I5"
      },
      "outputs": [],
      "source": [
        "import torchaudio.functional as F\n",
        "import torch.nn as nn\n",
        "import torchaudio\n",
        "import torch\n",
        "\n",
        "import pandas as pd\n",
        "import numpy as np\n",
        "import librosa\n",
        "import glob\n",
        "import os\n",
        "import re\n",
        "from tqdm import tqdm\n",
        "import random\n",
        "import copy\n",
        "\n",
        "import matplotlib.pyplot as plt\n",
        "from datetime import datetime\n",
        "from pathlib import Path\n",
        "import torch.optim as optim\n",
        "from torch.utils.data import Dataset\n",
        "from collections.abc import Iterable\n",
        "from torch.utils.data import DataLoader, random_split\n",
        "\n",
        "from torchvision.models import resnet18"
      ]
    },
    {
      "cell_type": "markdown",
      "metadata": {
        "id": "ev8vqBr2xHUM"
      },
      "source": [
        "### 시드 고정 / device설정 / 실험 세팅 값 설정"
      ]
    },
    {
      "cell_type": "code",
      "execution_count": 5,
      "metadata": {
        "colab": {
          "base_uri": "https://localhost:8080/"
        },
        "id": "rKP2SbcRBdNE",
        "outputId": "e8e85b1c-6abb-475f-cfa5-5bf3ce7db2b1"
      },
      "outputs": [
        {
          "output_type": "stream",
          "name": "stdout",
          "text": [
            "cuda\n",
            "Current cuda device: 0\n",
            "Count of using GPUs: 1\n"
          ]
        }
      ],
      "source": [
        "print(\"cuda\" if torch.cuda.is_available() else \"cpu\")\n",
        "device = \"cpu\"\n",
        "if torch.cuda.is_available():\n",
        "    device = \"cuda\"\n",
        "    print('Current cuda device:', torch.cuda.current_device())\n",
        "    print('Count of using GPUs:', torch.cuda.device_count())\n",
        "\n",
        "#################\n",
        "\n",
        "config = {'sr' : 25600, 'device':device, 'n_mels':80, 'core':os.cpu_count(), \"train_ratio\":0.6,\n",
        "           \"valid_ratio\":0.2, \"test_ratio\":0.2, \"path\":\"./best_model.pt\", \"seed\": 42, \"n_epoch\" :25}\n",
        "\n",
        "#################\n",
        "\n",
        "dirPath = \"/content/drive/MyDrive/Artificial_Intelligence/ai_data/기차대차소음/S206_wav\"\n",
        "csvPath = \"/content/drive/MyDrive/Artificial_Intelligence/ai_data/기차대차소음/metadata.csv\"\n",
        "othersourcePath = \"/content/drive/MyDrive/Artificial_Intelligence/ai_data/MTAT_SMALL\"\n",
        "model_save_path = \"./best_model.pt\""
      ]
    },
    {
      "cell_type": "code",
      "execution_count": 6,
      "metadata": {
        "id": "BbNCeraIt-oB"
      },
      "outputs": [],
      "source": [
        "def restrict_seed(seed):\n",
        "    print(\"시드 고정: \", seed)\n",
        "    random.seed(seed)\n",
        "    np.random.seed(seed)\n",
        "    torch.manual_seed(seed)\n",
        "    torch.cuda.manual_seed(seed)\n",
        "    torch.cuda.manual_seed_all(seed)\n",
        "    torch.backends.cudnn.deterministic = True\n",
        "    torch.backends.cudnn.benchmark = False\n",
        "\n",
        "def isIterable(target):\n",
        "    return True if isinstance(target, Iterable) else False\n",
        "\n",
        "def plot_spectrogram(spectrogram, title=None, ylabel=\"freq_bin\"):\n",
        "    plt.clf()\n",
        "    fig, axs = plt.subplots(1, 1, figsize=(10, 4))\n",
        "    axs.set_title(title or \"Spectrogram\")\n",
        "    axs.set_ylabel(ylabel)\n",
        "    axs.set_xlabel(\"frame\")\n",
        "    im = axs.imshow(librosa.power_to_db(spectrogram), origin=\"lower\", aspect=\"auto\")\n",
        "    fig.colorbar(im, ax=axs)\n",
        "    plt.show(block=False)"
      ]
    },
    {
      "cell_type": "code",
      "execution_count": 7,
      "metadata": {
        "colab": {
          "base_uri": "https://localhost:8080/"
        },
        "id": "-pnryF9LBkz-",
        "outputId": "969e93ca-5d06-4291-e2eb-f184cdd5c334"
      },
      "outputs": [
        {
          "output_type": "stream",
          "name": "stdout",
          "text": [
            "시드 고정:  42\n",
            "{'sr': 25600, 'device': 'cuda', 'n_mels': 80, 'core': 8, 'train_ratio': 0.6, 'valid_ratio': 0.2, 'test_ratio': 0.2, 'path': './best_model.pt', 'seed': 42, 'n_epoch': 25}\n"
          ]
        }
      ],
      "source": [
        "restrict_seed(config['seed'])\n",
        "print(config)"
      ]
    },
    {
      "cell_type": "markdown",
      "metadata": {
        "id": "JB9ViXVnxY4B"
      },
      "source": [
        "### 데이터셋 정의"
      ]
    },
    {
      "cell_type": "code",
      "execution_count": 8,
      "metadata": {
        "id": "v0g9gfOqfd9m"
      },
      "outputs": [],
      "source": [
        "class soundDataset(Dataset):\n",
        "    def __init__(self, dir_path, csv_path, mode=\"train\", config=None, other_sound_path=None, mixSoundRatio=0, randomShift=True):\n",
        "        self.mel_converter = torchaudio.transforms.MelSpectrogram(sample_rate=config['sr'], n_mels=config['n_mels'])\n",
        "        self.db_converter = torchaudio.transforms.AmplitudeToDB()\n",
        "        self.dir = dir_path\n",
        "        self.mixSoundRatio = mixSoundRatio\n",
        "        self.randomShift = randomShift\n",
        "        self.config = config\n",
        "\n",
        "        assert other_sound_path is not None, \"it must be filled\"\n",
        "        self.other_sound_dir = other_sound_path\n",
        "\n",
        "        colume_list = ['title',  'Car_type', 'Horn', 'Position', 'S206_position','Length', 'Car_num', 'path']\n",
        "\n",
        "        metaData = pd.read_csv(csv_path)\n",
        "        metaData = metaData[colume_list]\n",
        "        metaData = metaData.sort_values(by=\"Car_type\")\n",
        "        metaData['label'] = metaData['Horn'].apply(lambda x: 1 if x == \"Yes\" else 0)\n",
        "        metaData['Position'] = metaData['Position'].fillna(-1)\n",
        "\n",
        "        self.meta = metaData\n",
        "        self.meta = self._check_all_file_exist()\n",
        "        self.meta['length'] = self._check_all_file_size()\n",
        "        display(self.meta)\n",
        "        print(\"Horn Yes 개수\", len(self.meta[self.meta['Horn']==\"Yes\" ]), \"Horn No 개수\", len(self.meta[self.meta['Horn']==\"No\" ]))\n",
        "\n",
        "    def _get_other_sound(self):\n",
        "    # 병합할 다른 소리 파일 가져오기\n",
        "        _meta = pd.read_csv( self.other_sound_dir + \"/meta.csv\", index_col=[0] )\n",
        "\n",
        "        _meta = _meta['mp3_path']\n",
        "        path = _meta.iloc[random.randrange(1,len(_meta))]\n",
        "\n",
        "        waveform, sample_rate = torchaudio.load( self.other_sound_dir / Path(str(path)).with_suffix('.mp3'))\n",
        "        audio_sample = F.resample(waveform, sample_rate, self.config['sr'], lowpass_filter_width=6)\n",
        "        audio_sample = audio_sample.squeeze()\n",
        "        return audio_sample\n",
        "\n",
        "    def _check_all_file_exist(self):\n",
        "    # 파일-음원 매칭을 체크하여 소리 파일이 없는 경우 제외\n",
        "        for i in range(len(self.meta['path'])):\n",
        "            path = self.meta['path'].iloc[i]\n",
        "            if not os.path.exists(self.dir / Path(path).with_suffix('.wav')):\n",
        "                meata_data = self.meta [self.meta['path']!=path]\n",
        "                return meata_data\n",
        "\n",
        "    def _check_all_file_size(self):\n",
        "\n",
        "        length_list = []\n",
        "        for i in range(len(self.meta['path'])):\n",
        "            waveform, sample_rate = torchaudio.load(self.dir / Path(self.meta['path'].iloc[i]).with_suffix('.wav'))\n",
        "            audio_sample = F.resample(waveform, sample_rate, self.config['sr'], lowpass_filter_width=6)\n",
        "\n",
        "            length_list.append(len(audio_sample))\n",
        "        return length_list\n",
        "\n",
        "    def minmaxScaler(self, data):\n",
        "    # 정규화 수행\n",
        "        data_min, data_max = data.min(), data.max()\n",
        "        new_lower, new_upper = -1, 1\n",
        "        scaled_data = (data - data_min)/(data_max - data_min)*(new_upper - new_lower) + new_lower\n",
        "        return scaled_data\n",
        "\n",
        "    def mixOtherSound(self, audio_sample, mix_rate=1.0):\n",
        "    # 시험 데이터를 실 데이터로 전이시키는 함수\n",
        "        other_sound = self._get_other_sound()\n",
        "\n",
        "        if len(other_sound) > len(audio_sample):\n",
        "            other_sound = other_sound[:len(audio_sample)]\n",
        "        else:\n",
        "            other_sound = torch.cat((other_sound, other_sound), 0)\n",
        "            other_sound = other_sound[:len(audio_sample)]\n",
        "\n",
        "            front = int( (len(audio_sample) - len(other_sound)) / 4 )\n",
        "            back = (len(audio_sample) - len(other_sound)) - front\n",
        "            other_sound = nn.functional.pad(other_sound, (front, back) , 'constant', value=0)\n",
        "\n",
        "        scaled_audio_data = self.minmaxScaler(audio_sample)\n",
        "        scaled_other_data = self.minmaxScaler(other_sound)\n",
        "\n",
        "        audio_sample = scaled_audio_data + (scaled_other_data*mix_rate)\n",
        "\n",
        "        return audio_sample\n",
        "\n",
        "    def __getitem__(self, idx):\n",
        "        row =  self.meta.iloc[idx]\n",
        "        path = row['path']\n",
        "        label = row['label']\n",
        "\n",
        "        waveform, sample_rate = torchaudio.load(self.dir / Path(path).with_suffix('.wav'))\n",
        "        audio_sample = F.resample(waveform, sample_rate, self.config['sr'], lowpass_filter_width=6)\n",
        "        audio_sample = audio_sample.squeeze()\n",
        "\n",
        "        if self.randomShift is True:\n",
        "            random_distance = random.randint(0, int(len(audio_sample)/5))\n",
        "            random_padding = torch.zeros(random_distance)\n",
        "\n",
        "            audio_sample = torch.cat((random_padding, audio_sample), 0)\n",
        "\n",
        "        if self.mixSoundRatio == \"random_ratio\":\n",
        "            random_ratio = random.randrange(2, 7, 1)\n",
        "            random_ratio = random_ratio*0.1\n",
        "            if random_ratio > 0:\n",
        "                audio_sample = self.mixOtherSound(audio_sample, mix_rate=random_ratio)\n",
        "\n",
        "        feature = self.db_converter(self.mel_converter(audio_sample))\n",
        "        label = nn.functional.one_hot(torch.tensor(label), num_classes=2)\n",
        "\n",
        "        return feature, label\n",
        "\n",
        "    def __len__(self):\n",
        "        return len(self.meta)\n",
        "\n",
        "def collate_padder(batch):\n",
        "# 각 시퀀스를 패딩\n",
        "    sequence_lengths = [item[0].size(1) for item in batch]\n",
        "    max_length = max(sequence_lengths)\n",
        "\n",
        "    padded_features = [torch.nn.functional.pad(item[0], (0, max_length - item[0].size(1))) for item in batch]\n",
        "\n",
        "    labels = [item[1] for item in batch]\n",
        "    return torch.stack(padded_features, dim=0), torch.stack(labels, dim=0).float()"
      ]
    },
    {
      "cell_type": "code",
      "execution_count": 9,
      "metadata": {
        "colab": {
          "base_uri": "https://localhost:8080/",
          "height": 607
        },
        "id": "qq0oJs4Y6yTK",
        "outputId": "116a7d8c-c16e-497b-eb3a-f5edbe06a503"
      },
      "outputs": [
        {
          "output_type": "stream",
          "name": "stderr",
          "text": [
            "/usr/local/lib/python3.10/dist-packages/torchaudio/functional/functional.py:576: UserWarning: At least one mel filterbank has all zero values. The value for `n_mels` (80) may be set too high. Or, the value for `n_freqs` (201) may be set too low.\n",
            "  warnings.warn(\n",
            "<ipython-input-8-adf2ef2f9cd1>:23: SettingWithCopyWarning: \n",
            "A value is trying to be set on a copy of a slice from a DataFrame.\n",
            "Try using .loc[row_indexer,col_indexer] = value instead\n",
            "\n",
            "See the caveats in the documentation: https://pandas.pydata.org/pandas-docs/stable/user_guide/indexing.html#returning-a-view-versus-a-copy\n",
            "  self.meta['length'] = self._check_all_file_size()\n"
          ]
        },
        {
          "output_type": "display_data",
          "data": {
            "text/plain": [
              "           title Car_type Horn  Position  S206_position  Length  Car_num  \\\n",
              "0   test_01.tdms     수소열차  Yes      22.0             22      44        2   \n",
              "62   test_5.tdms     수소열차   No      -1.0             22      44        2   \n",
              "63   test_6.tdms     수소열차   No      -1.0             22      44        2   \n",
              "64   test_7.tdms     수소열차   No      -1.0             22      44        2   \n",
              "65   test_8.tdms     수소열차   No      -1.0             22      44        2   \n",
              "..           ...      ...  ...       ...            ...     ...      ...   \n",
              "43  test_11.tdms   차세대전동차  Yes      61.0             22     122        6   \n",
              "44  test_12.tdms   차세대전동차  Yes      61.0             22     122        6   \n",
              "45  test_13.tdms   차세대전동차  Yes      61.0             22     122        6   \n",
              "31  test_08.tdms   차세대전동차  Yes      61.0             22     122        6   \n",
              "80  test_12.tdms   차세대전동차   No      -1.0             22     122        6   \n",
              "\n",
              "                                            path  label  length  \n",
              "0   221102_hydrogen_S206_Num_0_Horn_Yes_2_22.wav      1       1  \n",
              "62     221109_hydrogen_S206_Num_4_Horn_No_2_.wav      0       1  \n",
              "63     221109_hydrogen_S206_Num_5_Horn_No_2_.wav      0       1  \n",
              "64     221109_hydrogen_S206_Num_6_Horn_No_2_.wav      0       1  \n",
              "65     221109_hydrogen_S206_Num_7_Horn_No_2_.wav      0       1  \n",
              "..                                           ...    ...     ...  \n",
              "43  221107_nextgen_S206_Num_10_Horn_Yes_6_61.wav      1       1  \n",
              "44  221107_nextgen_S206_Num_11_Horn_Yes_6_61.wav      1       1  \n",
              "45  221107_nextgen_S206_Num_12_Horn_Yes_6_61.wav      1       1  \n",
              "31   221104_nextgen_S206_Num_7_Horn_Yes_6_61.wav      1       1  \n",
              "80     221110_nextgen_S206_Num_11_Horn_No_6_.wav      0       1  \n",
              "\n",
              "[80 rows x 10 columns]"
            ],
            "text/html": [
              "\n",
              "  <div id=\"df-92ba7006-a031-4038-a86c-d3cbb4ebe34a\" class=\"colab-df-container\">\n",
              "    <div>\n",
              "<style scoped>\n",
              "    .dataframe tbody tr th:only-of-type {\n",
              "        vertical-align: middle;\n",
              "    }\n",
              "\n",
              "    .dataframe tbody tr th {\n",
              "        vertical-align: top;\n",
              "    }\n",
              "\n",
              "    .dataframe thead th {\n",
              "        text-align: right;\n",
              "    }\n",
              "</style>\n",
              "<table border=\"1\" class=\"dataframe\">\n",
              "  <thead>\n",
              "    <tr style=\"text-align: right;\">\n",
              "      <th></th>\n",
              "      <th>title</th>\n",
              "      <th>Car_type</th>\n",
              "      <th>Horn</th>\n",
              "      <th>Position</th>\n",
              "      <th>S206_position</th>\n",
              "      <th>Length</th>\n",
              "      <th>Car_num</th>\n",
              "      <th>path</th>\n",
              "      <th>label</th>\n",
              "      <th>length</th>\n",
              "    </tr>\n",
              "  </thead>\n",
              "  <tbody>\n",
              "    <tr>\n",
              "      <th>0</th>\n",
              "      <td>test_01.tdms</td>\n",
              "      <td>수소열차</td>\n",
              "      <td>Yes</td>\n",
              "      <td>22.0</td>\n",
              "      <td>22</td>\n",
              "      <td>44</td>\n",
              "      <td>2</td>\n",
              "      <td>221102_hydrogen_S206_Num_0_Horn_Yes_2_22.wav</td>\n",
              "      <td>1</td>\n",
              "      <td>1</td>\n",
              "    </tr>\n",
              "    <tr>\n",
              "      <th>62</th>\n",
              "      <td>test_5.tdms</td>\n",
              "      <td>수소열차</td>\n",
              "      <td>No</td>\n",
              "      <td>-1.0</td>\n",
              "      <td>22</td>\n",
              "      <td>44</td>\n",
              "      <td>2</td>\n",
              "      <td>221109_hydrogen_S206_Num_4_Horn_No_2_.wav</td>\n",
              "      <td>0</td>\n",
              "      <td>1</td>\n",
              "    </tr>\n",
              "    <tr>\n",
              "      <th>63</th>\n",
              "      <td>test_6.tdms</td>\n",
              "      <td>수소열차</td>\n",
              "      <td>No</td>\n",
              "      <td>-1.0</td>\n",
              "      <td>22</td>\n",
              "      <td>44</td>\n",
              "      <td>2</td>\n",
              "      <td>221109_hydrogen_S206_Num_5_Horn_No_2_.wav</td>\n",
              "      <td>0</td>\n",
              "      <td>1</td>\n",
              "    </tr>\n",
              "    <tr>\n",
              "      <th>64</th>\n",
              "      <td>test_7.tdms</td>\n",
              "      <td>수소열차</td>\n",
              "      <td>No</td>\n",
              "      <td>-1.0</td>\n",
              "      <td>22</td>\n",
              "      <td>44</td>\n",
              "      <td>2</td>\n",
              "      <td>221109_hydrogen_S206_Num_6_Horn_No_2_.wav</td>\n",
              "      <td>0</td>\n",
              "      <td>1</td>\n",
              "    </tr>\n",
              "    <tr>\n",
              "      <th>65</th>\n",
              "      <td>test_8.tdms</td>\n",
              "      <td>수소열차</td>\n",
              "      <td>No</td>\n",
              "      <td>-1.0</td>\n",
              "      <td>22</td>\n",
              "      <td>44</td>\n",
              "      <td>2</td>\n",
              "      <td>221109_hydrogen_S206_Num_7_Horn_No_2_.wav</td>\n",
              "      <td>0</td>\n",
              "      <td>1</td>\n",
              "    </tr>\n",
              "    <tr>\n",
              "      <th>...</th>\n",
              "      <td>...</td>\n",
              "      <td>...</td>\n",
              "      <td>...</td>\n",
              "      <td>...</td>\n",
              "      <td>...</td>\n",
              "      <td>...</td>\n",
              "      <td>...</td>\n",
              "      <td>...</td>\n",
              "      <td>...</td>\n",
              "      <td>...</td>\n",
              "    </tr>\n",
              "    <tr>\n",
              "      <th>43</th>\n",
              "      <td>test_11.tdms</td>\n",
              "      <td>차세대전동차</td>\n",
              "      <td>Yes</td>\n",
              "      <td>61.0</td>\n",
              "      <td>22</td>\n",
              "      <td>122</td>\n",
              "      <td>6</td>\n",
              "      <td>221107_nextgen_S206_Num_10_Horn_Yes_6_61.wav</td>\n",
              "      <td>1</td>\n",
              "      <td>1</td>\n",
              "    </tr>\n",
              "    <tr>\n",
              "      <th>44</th>\n",
              "      <td>test_12.tdms</td>\n",
              "      <td>차세대전동차</td>\n",
              "      <td>Yes</td>\n",
              "      <td>61.0</td>\n",
              "      <td>22</td>\n",
              "      <td>122</td>\n",
              "      <td>6</td>\n",
              "      <td>221107_nextgen_S206_Num_11_Horn_Yes_6_61.wav</td>\n",
              "      <td>1</td>\n",
              "      <td>1</td>\n",
              "    </tr>\n",
              "    <tr>\n",
              "      <th>45</th>\n",
              "      <td>test_13.tdms</td>\n",
              "      <td>차세대전동차</td>\n",
              "      <td>Yes</td>\n",
              "      <td>61.0</td>\n",
              "      <td>22</td>\n",
              "      <td>122</td>\n",
              "      <td>6</td>\n",
              "      <td>221107_nextgen_S206_Num_12_Horn_Yes_6_61.wav</td>\n",
              "      <td>1</td>\n",
              "      <td>1</td>\n",
              "    </tr>\n",
              "    <tr>\n",
              "      <th>31</th>\n",
              "      <td>test_08.tdms</td>\n",
              "      <td>차세대전동차</td>\n",
              "      <td>Yes</td>\n",
              "      <td>61.0</td>\n",
              "      <td>22</td>\n",
              "      <td>122</td>\n",
              "      <td>6</td>\n",
              "      <td>221104_nextgen_S206_Num_7_Horn_Yes_6_61.wav</td>\n",
              "      <td>1</td>\n",
              "      <td>1</td>\n",
              "    </tr>\n",
              "    <tr>\n",
              "      <th>80</th>\n",
              "      <td>test_12.tdms</td>\n",
              "      <td>차세대전동차</td>\n",
              "      <td>No</td>\n",
              "      <td>-1.0</td>\n",
              "      <td>22</td>\n",
              "      <td>122</td>\n",
              "      <td>6</td>\n",
              "      <td>221110_nextgen_S206_Num_11_Horn_No_6_.wav</td>\n",
              "      <td>0</td>\n",
              "      <td>1</td>\n",
              "    </tr>\n",
              "  </tbody>\n",
              "</table>\n",
              "<p>80 rows × 10 columns</p>\n",
              "</div>\n",
              "    <div class=\"colab-df-buttons\">\n",
              "\n",
              "  <div class=\"colab-df-container\">\n",
              "    <button class=\"colab-df-convert\" onclick=\"convertToInteractive('df-92ba7006-a031-4038-a86c-d3cbb4ebe34a')\"\n",
              "            title=\"Convert this dataframe to an interactive table.\"\n",
              "            style=\"display:none;\">\n",
              "\n",
              "  <svg xmlns=\"http://www.w3.org/2000/svg\" height=\"24px\" viewBox=\"0 -960 960 960\">\n",
              "    <path d=\"M120-120v-720h720v720H120Zm60-500h600v-160H180v160Zm220 220h160v-160H400v160Zm0 220h160v-160H400v160ZM180-400h160v-160H180v160Zm440 0h160v-160H620v160ZM180-180h160v-160H180v160Zm440 0h160v-160H620v160Z\"/>\n",
              "  </svg>\n",
              "    </button>\n",
              "\n",
              "  <style>\n",
              "    .colab-df-container {\n",
              "      display:flex;\n",
              "      gap: 12px;\n",
              "    }\n",
              "\n",
              "    .colab-df-convert {\n",
              "      background-color: #E8F0FE;\n",
              "      border: none;\n",
              "      border-radius: 50%;\n",
              "      cursor: pointer;\n",
              "      display: none;\n",
              "      fill: #1967D2;\n",
              "      height: 32px;\n",
              "      padding: 0 0 0 0;\n",
              "      width: 32px;\n",
              "    }\n",
              "\n",
              "    .colab-df-convert:hover {\n",
              "      background-color: #E2EBFA;\n",
              "      box-shadow: 0px 1px 2px rgba(60, 64, 67, 0.3), 0px 1px 3px 1px rgba(60, 64, 67, 0.15);\n",
              "      fill: #174EA6;\n",
              "    }\n",
              "\n",
              "    .colab-df-buttons div {\n",
              "      margin-bottom: 4px;\n",
              "    }\n",
              "\n",
              "    [theme=dark] .colab-df-convert {\n",
              "      background-color: #3B4455;\n",
              "      fill: #D2E3FC;\n",
              "    }\n",
              "\n",
              "    [theme=dark] .colab-df-convert:hover {\n",
              "      background-color: #434B5C;\n",
              "      box-shadow: 0px 1px 3px 1px rgba(0, 0, 0, 0.15);\n",
              "      filter: drop-shadow(0px 1px 2px rgba(0, 0, 0, 0.3));\n",
              "      fill: #FFFFFF;\n",
              "    }\n",
              "  </style>\n",
              "\n",
              "    <script>\n",
              "      const buttonEl =\n",
              "        document.querySelector('#df-92ba7006-a031-4038-a86c-d3cbb4ebe34a button.colab-df-convert');\n",
              "      buttonEl.style.display =\n",
              "        google.colab.kernel.accessAllowed ? 'block' : 'none';\n",
              "\n",
              "      async function convertToInteractive(key) {\n",
              "        const element = document.querySelector('#df-92ba7006-a031-4038-a86c-d3cbb4ebe34a');\n",
              "        const dataTable =\n",
              "          await google.colab.kernel.invokeFunction('convertToInteractive',\n",
              "                                                    [key], {});\n",
              "        if (!dataTable) return;\n",
              "\n",
              "        const docLinkHtml = 'Like what you see? Visit the ' +\n",
              "          '<a target=\"_blank\" href=https://colab.research.google.com/notebooks/data_table.ipynb>data table notebook</a>'\n",
              "          + ' to learn more about interactive tables.';\n",
              "        element.innerHTML = '';\n",
              "        dataTable['output_type'] = 'display_data';\n",
              "        await google.colab.output.renderOutput(dataTable, element);\n",
              "        const docLink = document.createElement('div');\n",
              "        docLink.innerHTML = docLinkHtml;\n",
              "        element.appendChild(docLink);\n",
              "      }\n",
              "    </script>\n",
              "  </div>\n",
              "\n",
              "\n",
              "<div id=\"df-04d716c2-2509-4c8f-93c8-0ebe44829883\">\n",
              "  <button class=\"colab-df-quickchart\" onclick=\"quickchart('df-04d716c2-2509-4c8f-93c8-0ebe44829883')\"\n",
              "            title=\"Suggest charts.\"\n",
              "            style=\"display:none;\">\n",
              "\n",
              "<svg xmlns=\"http://www.w3.org/2000/svg\" height=\"24px\"viewBox=\"0 0 24 24\"\n",
              "     width=\"24px\">\n",
              "    <g>\n",
              "        <path d=\"M19 3H5c-1.1 0-2 .9-2 2v14c0 1.1.9 2 2 2h14c1.1 0 2-.9 2-2V5c0-1.1-.9-2-2-2zM9 17H7v-7h2v7zm4 0h-2V7h2v10zm4 0h-2v-4h2v4z\"/>\n",
              "    </g>\n",
              "</svg>\n",
              "  </button>\n",
              "\n",
              "<style>\n",
              "  .colab-df-quickchart {\n",
              "      --bg-color: #E8F0FE;\n",
              "      --fill-color: #1967D2;\n",
              "      --hover-bg-color: #E2EBFA;\n",
              "      --hover-fill-color: #174EA6;\n",
              "      --disabled-fill-color: #AAA;\n",
              "      --disabled-bg-color: #DDD;\n",
              "  }\n",
              "\n",
              "  [theme=dark] .colab-df-quickchart {\n",
              "      --bg-color: #3B4455;\n",
              "      --fill-color: #D2E3FC;\n",
              "      --hover-bg-color: #434B5C;\n",
              "      --hover-fill-color: #FFFFFF;\n",
              "      --disabled-bg-color: #3B4455;\n",
              "      --disabled-fill-color: #666;\n",
              "  }\n",
              "\n",
              "  .colab-df-quickchart {\n",
              "    background-color: var(--bg-color);\n",
              "    border: none;\n",
              "    border-radius: 50%;\n",
              "    cursor: pointer;\n",
              "    display: none;\n",
              "    fill: var(--fill-color);\n",
              "    height: 32px;\n",
              "    padding: 0;\n",
              "    width: 32px;\n",
              "  }\n",
              "\n",
              "  .colab-df-quickchart:hover {\n",
              "    background-color: var(--hover-bg-color);\n",
              "    box-shadow: 0 1px 2px rgba(60, 64, 67, 0.3), 0 1px 3px 1px rgba(60, 64, 67, 0.15);\n",
              "    fill: var(--button-hover-fill-color);\n",
              "  }\n",
              "\n",
              "  .colab-df-quickchart-complete:disabled,\n",
              "  .colab-df-quickchart-complete:disabled:hover {\n",
              "    background-color: var(--disabled-bg-color);\n",
              "    fill: var(--disabled-fill-color);\n",
              "    box-shadow: none;\n",
              "  }\n",
              "\n",
              "  .colab-df-spinner {\n",
              "    border: 2px solid var(--fill-color);\n",
              "    border-color: transparent;\n",
              "    border-bottom-color: var(--fill-color);\n",
              "    animation:\n",
              "      spin 1s steps(1) infinite;\n",
              "  }\n",
              "\n",
              "  @keyframes spin {\n",
              "    0% {\n",
              "      border-color: transparent;\n",
              "      border-bottom-color: var(--fill-color);\n",
              "      border-left-color: var(--fill-color);\n",
              "    }\n",
              "    20% {\n",
              "      border-color: transparent;\n",
              "      border-left-color: var(--fill-color);\n",
              "      border-top-color: var(--fill-color);\n",
              "    }\n",
              "    30% {\n",
              "      border-color: transparent;\n",
              "      border-left-color: var(--fill-color);\n",
              "      border-top-color: var(--fill-color);\n",
              "      border-right-color: var(--fill-color);\n",
              "    }\n",
              "    40% {\n",
              "      border-color: transparent;\n",
              "      border-right-color: var(--fill-color);\n",
              "      border-top-color: var(--fill-color);\n",
              "    }\n",
              "    60% {\n",
              "      border-color: transparent;\n",
              "      border-right-color: var(--fill-color);\n",
              "    }\n",
              "    80% {\n",
              "      border-color: transparent;\n",
              "      border-right-color: var(--fill-color);\n",
              "      border-bottom-color: var(--fill-color);\n",
              "    }\n",
              "    90% {\n",
              "      border-color: transparent;\n",
              "      border-bottom-color: var(--fill-color);\n",
              "    }\n",
              "  }\n",
              "</style>\n",
              "\n",
              "  <script>\n",
              "    async function quickchart(key) {\n",
              "      const quickchartButtonEl =\n",
              "        document.querySelector('#' + key + ' button');\n",
              "      quickchartButtonEl.disabled = true;  // To prevent multiple clicks.\n",
              "      quickchartButtonEl.classList.add('colab-df-spinner');\n",
              "      try {\n",
              "        const charts = await google.colab.kernel.invokeFunction(\n",
              "            'suggestCharts', [key], {});\n",
              "      } catch (error) {\n",
              "        console.error('Error during call to suggestCharts:', error);\n",
              "      }\n",
              "      quickchartButtonEl.classList.remove('colab-df-spinner');\n",
              "      quickchartButtonEl.classList.add('colab-df-quickchart-complete');\n",
              "    }\n",
              "    (() => {\n",
              "      let quickchartButtonEl =\n",
              "        document.querySelector('#df-04d716c2-2509-4c8f-93c8-0ebe44829883 button');\n",
              "      quickchartButtonEl.style.display =\n",
              "        google.colab.kernel.accessAllowed ? 'block' : 'none';\n",
              "    })();\n",
              "  </script>\n",
              "</div>\n",
              "    </div>\n",
              "  </div>\n"
            ]
          },
          "metadata": {}
        },
        {
          "output_type": "stream",
          "name": "stdout",
          "text": [
            "Horn Yes 개수 56 Horn No 개수 24\n"
          ]
        }
      ],
      "source": [
        "sound_dataset = soundDataset(dirPath, csvPath, config=config, other_sound_path=othersourcePath, mixSoundRatio=\"random_ratio\", randomShift=True)"
      ]
    },
    {
      "cell_type": "code",
      "execution_count": 10,
      "metadata": {
        "id": "ymdaVbe4_Cwo"
      },
      "outputs": [],
      "source": [
        "total_length = len(sound_dataset)\n",
        "train_valid_length = int(total_length * (config['train_ratio'] + config['valid_ratio']))\n",
        "test_length = total_length - train_valid_length\n",
        "\n",
        "# dataset split\n",
        "train_valid_dataset, test_dataset = random_split(sound_dataset, [train_valid_length, test_length])\n",
        "print(len(train_valid_dataset), print(test_dataset))\n",
        "# 나중에 K-Fold를 사용하여 train_valid_dataset을 train_dataset과 val_dataset으로 나눌것..\n"
      ]
    },
    {
      "cell_type": "code",
      "execution_count": 11,
      "metadata": {
        "id": "VUl9cCdMrSp9"
      },
      "outputs": [],
      "source": [
        "test_loader  = DataLoader(test_dataset, batch_size=10, shuffle=False , num_workers=config['core'], collate_fn = collate_padder)"
      ]
    },
    {
      "cell_type": "markdown",
      "metadata": {
        "id": "Fooc1C8CyBE6"
      },
      "source": [
        "### 데이터 증강 기법(SpecAugment) 코드 정의 및 테스트"
      ]
    },
    {
      "cell_type": "code",
      "execution_count": 12,
      "metadata": {
        "id": "XHsF1AjJcV-h",
        "colab": {
          "base_uri": "https://localhost:8080/"
        },
        "outputId": "6f97470e-1abe-411d-8a21-d9d469b82a57"
      },
      "outputs": [
        {
          "output_type": "stream",
          "name": "stderr",
          "text": [
            "/usr/local/lib/python3.10/dist-packages/tensorflow_addons/utils/tfa_eol_msg.py:23: UserWarning: \n",
            "\n",
            "TensorFlow Addons (TFA) has ended development and introduction of new features.\n",
            "TFA has entered a minimal maintenance and release mode until a planned end of life in May 2024.\n",
            "Please modify downstream libraries to take dependencies from other repositories in our TensorFlow community (e.g. Keras, Keras-CV, and Keras-NLP). \n",
            "\n",
            "For more information see: https://github.com/tensorflow/addons/issues/2807 \n",
            "\n",
            "  warnings.warn(\n"
          ]
        }
      ],
      "source": [
        "import random\n",
        "import numpy as np\n",
        "import tensorflow as tf\n",
        "from tensorflow_addons.image import sparse_image_warp\n",
        "# reference: https://github.com/pyyush/SpecAugment\n",
        "class SpecAugment():\n",
        "    def __init__(self, policy, zero_mean_normalized=True):\n",
        "        self.policy = policy\n",
        "        self.zero_mean_normalized = zero_mean_normalized\n",
        "\n",
        "        # Policy Specific Parameters\n",
        "        if self.policy == 'LB':\n",
        "            self.W, self.F, self.m_F, self.T, self.p, self.m_T = 80, 27, 1, 100, 1.0, 1\n",
        "        elif self.policy == 'LD':\n",
        "            self.W, self.F, self.m_F, self.T, self.p, self.m_T = 80, 27, 2, 100, 1.0, 2\n",
        "        elif self.policy == 'SM':\n",
        "            self.W, self.F, self.m_F, self.T, self.p, self.m_T = 40, 15, 2, 70, 0.2, 2\n",
        "        elif self.policy == 'SS':\n",
        "            self.W, self.F, self.m_F, self.T, self.p, self.m_T = 40, 27, 2, 70, 0.2, 2\n",
        "        elif self.policy == 'big':\n",
        "            self.W, self.F, self.m_F, self.T, self.p, self.m_T = 200, 40, 2, 100, 1.0, 4\n",
        "\n",
        "    def timeWarping(self, feature):\n",
        "        # Reshape to [Batch_size, time, freq, 1] for sparse_image_warp func.\n",
        "        feature = np.reshape(feature, (-1, feature.shape[0], feature.shape[1], 1))\n",
        "\n",
        "        v, tau = feature.shape[1], feature.shape[2]\n",
        "\n",
        "        horiz_line_thru_ctr = feature[0][v//2]\n",
        "\n",
        "        random_pt = horiz_line_thru_ctr[random.randrange(self.W, tau - self.W)] # random point along the horizontal/time axis\n",
        "        w = np.random.uniform((-self.W), self.W) # distance\n",
        "\n",
        "        # Source Points\n",
        "        src_points = [[[v//2, random_pt[0]]]]\n",
        "\n",
        "        # Destination Points\n",
        "        dest_points = [[[v//2, random_pt[0] + w]]]\n",
        "\n",
        "        feature, _ = sparse_image_warp(feature, src_points, dest_points, num_boundary_points=2)\n",
        "\n",
        "        return feature\n",
        "\n",
        "    def timeMasking(self, feature):\n",
        "        tau = feature.shape[2] # time frames\n",
        "\n",
        "        # apply m_T time masks to the mel spectrogram\n",
        "        for i in range(self.m_T):\n",
        "            t = int(np.random.uniform(0, self.T)) # [0, T)\n",
        "            upper = tau if t>tau else t#make limitation\n",
        "            t0 = random.randint(0, tau - upper) # [0, tau - t)\n",
        "            feature[:, :, t0:t0 + t] = 0\n",
        "\n",
        "        return feature\n",
        "\n",
        "    def freqMasking(self, feature):\n",
        "        size = feature.shape[1]\n",
        "\n",
        "        for i in range(self.m_F):\n",
        "            f = int(np.random.uniform(0, self.F)) # [0, F)\n",
        "            f0 = random.randint(0, size - f) # [0, v - f)\n",
        "            feature[:, f0:f0 + f] = 0\n",
        "\n",
        "        return feature\n",
        "\n",
        "    def augment(self, feature):\n",
        "        #feature = self.freqMasking(feature)\n",
        "        feature = self.timeMasking(feature)\n",
        "\n",
        "        return feature"
      ]
    },
    {
      "cell_type": "code",
      "execution_count": 13,
      "metadata": {
        "id": "cyzv_CZC864K"
      },
      "outputs": [],
      "source": [
        "augmentor = SpecAugment('big')"
      ]
    },
    {
      "cell_type": "code",
      "execution_count": 14,
      "metadata": {
        "id": "uXmo4nmYKOjR"
      },
      "outputs": [],
      "source": [
        "test = train_valid_dataset[0][0].unsqueeze(0)"
      ]
    },
    {
      "cell_type": "code",
      "execution_count": 15,
      "metadata": {
        "colab": {
          "base_uri": "https://localhost:8080/",
          "height": 428
        },
        "id": "Z-okxKbs8zSF",
        "outputId": "b8bac2fc-dbc2-4cae-b733-2b1669a26e21"
      },
      "outputs": [
        {
          "output_type": "display_data",
          "data": {
            "text/plain": [
              "<Figure size 640x480 with 0 Axes>"
            ]
          },
          "metadata": {}
        },
        {
          "output_type": "display_data",
          "data": {
            "text/plain": [
              "<Figure size 1000x400 with 2 Axes>"
            ],
            "image/png": "[encoded data removed]"
          },
          "metadata": {}
        }
      ],
      "source": [
        "plot_spectrogram(augmentor.augment(copy.deepcopy( test ) ).squeeze(), str(train_valid_dataset[0][1]))"
      ]
    },
    {
      "cell_type": "markdown",
      "metadata": {
        "id": "dVBiBwoMyOeL"
      },
      "source": [
        "### 모델 정의(resnet18)"
      ]
    },
    {
      "cell_type": "code",
      "execution_count": 16,
      "metadata": {
        "id": "s_5xAbWwsPxP"
      },
      "outputs": [],
      "source": [
        "def prepare_model():\n",
        "    resnet_model = resnet18( weights='IMAGENET1K_V1' )\n",
        "    resnet_model.fc = nn.Linear(512,2)\n",
        "\n",
        "    for m in resnet_model.modules():\n",
        "        if isinstance(m, nn.Conv2d):\n",
        "            nn.init.kaiming_normal_(m.weight, mode=\"fan_out\", nonlinearity=\"relu\")\n",
        "        elif isinstance(m, (nn.BatchNorm2d, nn.GroupNorm)):\n",
        "            nn.init.constant_(m.weight, 1)\n",
        "            nn.init.constant_(m.bias, 0)\n",
        "\n",
        "    return resnet_model"
      ]
    },
    {
      "cell_type": "code",
      "execution_count": 17,
      "metadata": {
        "id": "7FHxJR9tBR_Z"
      },
      "outputs": [],
      "source": [
        "#model = AudioModel(sr=config['sr'], n_mels = config['n_mels'], hidden_size = 40, num_output = 2)\n",
        "model = prepare_model()\n",
        "model = model.to(device)"
      ]
    },
    {
      "cell_type": "code",
      "execution_count": 18,
      "metadata": {
        "id": "50U_HfJ3_5Oo"
      },
      "outputs": [],
      "source": [
        "optimizer = optim.Adam(model.parameters(), lr=0.001, weight_decay=0.0001)\n",
        "scheduler = optim.lr_scheduler.StepLR(optimizer, step_size=10, gamma=0.5)\n",
        "criterion = nn.CrossEntropyLoss()"
      ]
    },
    {
      "cell_type": "code",
      "source": [
        "from sklearn.model_selection import KFold"
      ],
      "metadata": {
        "id": "Hj4cKPYrGT67"
      },
      "execution_count": 19,
      "outputs": []
    },
    {
      "cell_type": "code",
      "execution_count": 20,
      "metadata": {
        "id": "5nwG2pqHBLgy"
      },
      "outputs": [],
      "source": [
        "def number_of_correct(pred, target):\n",
        "    # count number of correct predictions\n",
        "    return pred.squeeze().eq(target).sum().item()\n",
        "\n",
        "def get_likely_index(tensor):\n",
        "    # find most likely label index for each element in the batch\n",
        "    return tensor.argmax(dim=-1)\n",
        "\n",
        "\n",
        "\n",
        "def train(model, epoch, train_loader, path, loss_record=None, pbar=None, pbar_update=None):\n",
        "    model.train()\n",
        "\n",
        "    correct_train = 0\n",
        "    for batch in train_loader:\n",
        "        audio, label = batch\n",
        "\n",
        "        data = audio.to(device)\n",
        "        target = label.to(device)\n",
        "        data = augmentor.augment(data)\n",
        "\n",
        "        expanded_data = torch.stack([data]*3, dim=1)\n",
        "        output = model(expanded_data)\n",
        "\n",
        "        pred = get_likely_index(output)\n",
        "        target = get_likely_index(target)\n",
        "        correct_train += number_of_correct(pred, target)\n",
        "\n",
        "        # negative log-likelihood for a tensor of size (batch x 1 x n_output)\n",
        "        loss = criterion(output, target)\n",
        "\n",
        "        optimizer.zero_grad()\n",
        "        loss.backward()\n",
        "        optimizer.step()\n",
        "\n",
        "        # update progress bar\n",
        "        pbar.update(pbar_update)\n",
        "        #save model\n",
        "        if len(loss_record)>0:\n",
        "            if min(loss_record) > loss.item():\n",
        "                print(\"save mode at \", epoch)\n",
        "                torch.save(model.state_dict(), path)\n",
        "        # record loss\n",
        "        loss_record.append(loss.item())\n",
        "\n",
        "    print(f\"\\nTrain Epoch: {epoch}\\tAccuracy: {correct_train}/{len(train_loader.dataset)} ({100. * correct_train / len(train_loader.dataset):.0f}%)\\n\")\n",
        "    return (100. * correct_train / len(train_loader.dataset))"
      ]
    },
    {
      "cell_type": "code",
      "execution_count": 21,
      "metadata": {
        "id": "tBjIeLAhBNqS"
      },
      "outputs": [],
      "source": [
        "def valid(model, epoch, valid_loader, pbar=None, pbar_update=None):\n",
        "    model.eval()\n",
        "    correct = 0\n",
        "    for data, target in valid_loader:\n",
        "\n",
        "        data = data.to(device)\n",
        "        target = target.to(device)\n",
        "\n",
        "        expanded_data = torch.stack([data]*3, dim=1)\n",
        "        output = model(expanded_data)\n",
        "\n",
        "        pred = get_likely_index(output)\n",
        "        target = get_likely_index(target)\n",
        "        correct += number_of_correct(pred, target)\n",
        "\n",
        "        # update progress bar\n",
        "        pbar.update(pbar_update)\n",
        "\n",
        "    print(f\"\\nValid Epoch: {epoch}\\tAccuracy: {correct}/{len(test_loader.dataset)} ({100. * correct / len(test_loader.dataset):.0f}%)\\n\")\n",
        "    return (100. * correct / len(test_loader.dataset))\n"
      ]
    },
    {
      "cell_type": "code",
      "source": [
        "def kfold_training(model, k, train_valid_dataset, config):\n",
        "    kf = KFold(n_splits=k, shuffle=True, random_state=42)\n",
        "\n",
        "    all_train_accuracy = []\n",
        "    all_valid_accuracy = []\n",
        "\n",
        "    for fold, (train_idx, valid_idx) in enumerate(kf.split(train_valid_dataset)):\n",
        "        print(f\"Fold {fold + 1}/{k}\")\n",
        "\n",
        "        # subset / dataloader\n",
        "        train_subsampler = torch.utils.data.SubsetRandomSampler(train_idx)\n",
        "        valid_subsampler = torch.utils.data.SubsetRandomSampler(valid_idx)\n",
        "\n",
        "        train_loader = DataLoader(train_valid_dataset, batch_size=10, sampler=train_subsampler, num_workers=config['core'], collate_fn=collate_padder)\n",
        "        valid_loader = DataLoader(train_valid_dataset, batch_size=10, sampler=valid_subsampler, num_workers=config['core'], collate_fn=collate_padder)\n",
        "\n",
        "        pbar_update = 1 / (len(train_loader) + len(test_loader))\n",
        "\n",
        "        # training / validation\n",
        "        losses = []\n",
        "        train_accuracy = []\n",
        "        valid_accuracy = []\n",
        "\n",
        "        pbar_update = 1 / (len(train_loader) + len(valid_loader))\n",
        "        # path = \"./best_model_fold\"+fold+\".pt\"\n",
        "        with tqdm(total=config['n_epoch']) as pbar:\n",
        "            for epoch in range(1, config['n_epoch'] + 1):\n",
        "                train_acc_per_epoch = train(model, epoch, train_loader, config['path'], losses, pbar = pbar, pbar_update=pbar_update)\n",
        "                valid_acc_per_epoch = valid(model, epoch, valid_loader, pbar = pbar, pbar_update=pbar_update)\n",
        "\n",
        "                train_accuracy.append(train_acc_per_epoch)\n",
        "                valid_accuracy.append(valid_acc_per_epoch)\n",
        "\n",
        "                scheduler.step()\n",
        "\n",
        "        all_train_accuracy.append(train_accuracy)\n",
        "        all_valid_accuracy.append(valid_accuracy)\n",
        "\n",
        "    return all_train_accuracy, all_valid_accuracy, losses"
      ],
      "metadata": {
        "id": "MpejDxf8GiHs"
      },
      "execution_count": 22,
      "outputs": []
    },
    {
      "cell_type": "code",
      "source": [
        "k = 5\n",
        "all_train_accuracy, all_valid_accuracy, losses = kfold_training(model, k, train_valid_dataset, config)"
      ],
      "metadata": {
        "colab": {
          "base_uri": "https://localhost:8080/",
          "height": 1000
        },
        "id": "rVdqy_IBIX1o",
        "outputId": "eb2e4071-4c85-42a4-b95c-a4f09ca7236f"
      },
      "execution_count": 23,
      "outputs": [
        {
          "output_type": "stream",
          "name": "stdout",
          "text": [
            "Fold 1/5\n"
          ]
        },
        {
          "output_type": "stream",
          "name": "stderr",
          "text": [
            "  2%|▏         | 0.5/25 [00:09<04:56, 12.11s/it]  "
          ]
        },
        {
          "output_type": "stream",
          "name": "stdout",
          "text": [
            "save mode at  1\n"
          ]
        },
        {
          "output_type": "stream",
          "name": "stderr",
          "text": [
            "  3%|▎         | 0.75/25 [00:10<02:55,  7.22s/it] "
          ]
        },
        {
          "output_type": "stream",
          "name": "stdout",
          "text": [
            "\n",
            "Train Epoch: 1\tAccuracy: 21/64 (33%)\n",
            "\n"
          ]
        },
        {
          "output_type": "stream",
          "name": "stderr",
          "text": [
            "\r  4%|▎         | 0.875/25 [00:16<08:21, 20.77s/it]"
          ]
        },
        {
          "output_type": "stream",
          "name": "stdout",
          "text": [
            "\n",
            "Valid Epoch: 1\tAccuracy: 8/16 (50%)\n",
            "\n"
          ]
        },
        {
          "output_type": "stream",
          "name": "stderr",
          "text": [
            "  6%|▌         | 1.375/25 [00:24<05:56, 15.09s/it]"
          ]
        },
        {
          "output_type": "stream",
          "name": "stdout",
          "text": [
            "save mode at  2\n"
          ]
        },
        {
          "output_type": "stream",
          "name": "stderr",
          "text": [
            "\r  6%|▌         | 1.5/25 [00:25<04:54, 12.53s/it]  "
          ]
        },
        {
          "output_type": "stream",
          "name": "stdout",
          "text": [
            "save mode at  2\n"
          ]
        },
        {
          "output_type": "stream",
          "name": "stderr",
          "text": [
            "  7%|▋         | 1.75/25 [00:26<03:10,  8.18s/it] "
          ]
        },
        {
          "output_type": "stream",
          "name": "stdout",
          "text": [
            "save mode at  2\n",
            "save mode at  2\n",
            "\n",
            "Train Epoch: 2\tAccuracy: 34/64 (53%)\n",
            "\n"
          ]
        },
        {
          "output_type": "stream",
          "name": "stderr",
          "text": [
            "\r  8%|▊         | 1.875/25 [00:33<08:47, 22.80s/it]"
          ]
        },
        {
          "output_type": "stream",
          "name": "stdout",
          "text": [
            "\n",
            "Valid Epoch: 2\tAccuracy: 5/16 (31%)\n",
            "\n"
          ]
        },
        {
          "output_type": "stream",
          "name": "stderr",
          "text": [
            " 11%|█         | 2.75/25 [00:42<02:58,  8.02s/it] "
          ]
        },
        {
          "output_type": "stream",
          "name": "stdout",
          "text": [
            "\n",
            "Train Epoch: 3\tAccuracy: 33/64 (52%)\n",
            "\n"
          ]
        },
        {
          "output_type": "stream",
          "name": "stderr",
          "text": [
            "\r 12%|█▏        | 2.875/25 [00:49<08:25, 22.87s/it]"
          ]
        },
        {
          "output_type": "stream",
          "name": "stdout",
          "text": [
            "\n",
            "Valid Epoch: 3\tAccuracy: 5/16 (31%)\n",
            "\n"
          ]
        },
        {
          "output_type": "stream",
          "name": "stderr",
          "text": [
            " 14%|█▎        | 3.375/25 [01:00<06:59, 19.42s/it]"
          ]
        },
        {
          "output_type": "stream",
          "name": "stdout",
          "text": [
            "save mode at  4\n"
          ]
        },
        {
          "output_type": "stream",
          "name": "stderr",
          "text": [
            " 15%|█▌        | 3.75/25 [01:02<03:23,  9.57s/it] "
          ]
        },
        {
          "output_type": "stream",
          "name": "stdout",
          "text": [
            "\n",
            "Train Epoch: 4\tAccuracy: 41/64 (64%)\n",
            "\n"
          ]
        },
        {
          "output_type": "stream",
          "name": "stderr",
          "text": [
            "\r 16%|█▌        | 3.875/25 [01:08<07:46, 22.10s/it]"
          ]
        },
        {
          "output_type": "stream",
          "name": "stdout",
          "text": [
            "\n",
            "Valid Epoch: 4\tAccuracy: 6/16 (38%)\n",
            "\n"
          ]
        },
        {
          "output_type": "stream",
          "name": "stderr",
          "text": [
            "\r 16%|█▋        | 4.125/25 [01:16<08:54, 25.59s/it]"
          ]
        },
        {
          "output_type": "stream",
          "name": "stdout",
          "text": [
            "save mode at  5\n"
          ]
        },
        {
          "output_type": "stream",
          "name": "stderr",
          "text": [
            " 19%|█▉        | 4.75/25 [01:18<02:51,  8.48s/it] "
          ]
        },
        {
          "output_type": "stream",
          "name": "stdout",
          "text": [
            "\n",
            "Train Epoch: 5\tAccuracy: 41/64 (64%)\n",
            "\n"
          ]
        },
        {
          "output_type": "stream",
          "name": "stderr",
          "text": [
            "\r 20%|█▉        | 4.875/25 [01:24<06:39, 19.87s/it]"
          ]
        },
        {
          "output_type": "stream",
          "name": "stdout",
          "text": [
            "\n",
            "Valid Epoch: 5\tAccuracy: 6/16 (38%)\n",
            "\n"
          ]
        },
        {
          "output_type": "stream",
          "name": "stderr",
          "text": [
            " 22%|██▏       | 5.375/25 [01:32<04:50, 14.82s/it]"
          ]
        },
        {
          "output_type": "stream",
          "name": "stdout",
          "text": [
            "save mode at  6\n"
          ]
        },
        {
          "output_type": "stream",
          "name": "stderr",
          "text": [
            " 23%|██▎       | 5.75/25 [01:34<02:41,  8.38s/it] "
          ]
        },
        {
          "output_type": "stream",
          "name": "stdout",
          "text": [
            "\n",
            "Train Epoch: 6\tAccuracy: 36/64 (56%)\n",
            "\n"
          ]
        },
        {
          "output_type": "stream",
          "name": "stderr",
          "text": [
            "\r 24%|██▎       | 5.875/25 [01:41<07:08, 22.42s/it]"
          ]
        },
        {
          "output_type": "stream",
          "name": "stdout",
          "text": [
            "\n",
            "Valid Epoch: 6\tAccuracy: 11/16 (69%)\n",
            "\n"
          ]
        },
        {
          "output_type": "stream",
          "name": "stderr",
          "text": [
            " 27%|██▋       | 6.75/25 [01:50<02:30,  8.22s/it] "
          ]
        },
        {
          "output_type": "stream",
          "name": "stdout",
          "text": [
            "\n",
            "Train Epoch: 7\tAccuracy: 38/64 (59%)\n",
            "\n"
          ]
        },
        {
          "output_type": "stream",
          "name": "stderr",
          "text": [
            "\r 28%|██▊       | 6.875/25 [01:57<06:40, 22.10s/it]"
          ]
        },
        {
          "output_type": "stream",
          "name": "stdout",
          "text": [
            "\n",
            "Valid Epoch: 7\tAccuracy: 9/16 (56%)\n",
            "\n"
          ]
        },
        {
          "output_type": "stream",
          "name": "stderr",
          "text": [
            " 31%|███       | 7.75/25 [02:07<02:25,  8.41s/it] "
          ]
        },
        {
          "output_type": "stream",
          "name": "stdout",
          "text": [
            "\n",
            "Train Epoch: 8\tAccuracy: 35/64 (55%)\n",
            "\n"
          ]
        },
        {
          "output_type": "stream",
          "name": "stderr",
          "text": [
            "\r 32%|███▏      | 7.875/25 [02:14<05:59, 21.01s/it]"
          ]
        },
        {
          "output_type": "stream",
          "name": "stdout",
          "text": [
            "\n",
            "Valid Epoch: 8\tAccuracy: 8/16 (50%)\n",
            "\n"
          ]
        },
        {
          "output_type": "stream",
          "name": "stderr",
          "text": [
            " 35%|███▌      | 8.75/25 [02:23<02:09,  7.96s/it] "
          ]
        },
        {
          "output_type": "stream",
          "name": "stdout",
          "text": [
            "\n",
            "Train Epoch: 9\tAccuracy: 36/64 (56%)\n",
            "\n"
          ]
        },
        {
          "output_type": "stream",
          "name": "stderr",
          "text": [
            "\r 36%|███▌      | 8.875/25 [02:29<05:26, 20.23s/it]"
          ]
        },
        {
          "output_type": "stream",
          "name": "stdout",
          "text": [
            "\n",
            "Valid Epoch: 9\tAccuracy: 10/16 (62%)\n",
            "\n"
          ]
        },
        {
          "output_type": "stream",
          "name": "stderr",
          "text": [
            " 39%|███▉      | 9.75/25 [02:39<01:59,  7.83s/it] "
          ]
        },
        {
          "output_type": "stream",
          "name": "stdout",
          "text": [
            "\n",
            "Train Epoch: 10\tAccuracy: 39/64 (61%)\n",
            "\n"
          ]
        },
        {
          "output_type": "stream",
          "name": "stderr",
          "text": [
            "\r 40%|███▉      | 9.875/25 [02:45<04:59, 19.81s/it]"
          ]
        },
        {
          "output_type": "stream",
          "name": "stdout",
          "text": [
            "\n",
            "Valid Epoch: 10\tAccuracy: 8/16 (50%)\n",
            "\n"
          ]
        },
        {
          "output_type": "stream",
          "name": "stderr",
          "text": [
            " 43%|████▎     | 10.75/25 [02:55<01:53,  7.98s/it] "
          ]
        },
        {
          "output_type": "stream",
          "name": "stdout",
          "text": [
            "\n",
            "Train Epoch: 11\tAccuracy: 41/64 (64%)\n",
            "\n"
          ]
        },
        {
          "output_type": "stream",
          "name": "stderr",
          "text": [
            "\r 44%|████▎     | 10.875/25 [03:01<05:00, 21.27s/it]"
          ]
        },
        {
          "output_type": "stream",
          "name": "stdout",
          "text": [
            "\n",
            "Valid Epoch: 11\tAccuracy: 6/16 (38%)\n",
            "\n"
          ]
        },
        {
          "output_type": "stream",
          "name": "stderr",
          "text": [
            " 47%|████▋     | 11.75/25 [03:10<01:44,  7.91s/it] "
          ]
        },
        {
          "output_type": "stream",
          "name": "stdout",
          "text": [
            "\n",
            "Train Epoch: 12\tAccuracy: 37/64 (58%)\n",
            "\n"
          ]
        },
        {
          "output_type": "stream",
          "name": "stderr",
          "text": [
            "\r 48%|████▊     | 11.875/25 [03:18<04:53, 22.37s/it]"
          ]
        },
        {
          "output_type": "stream",
          "name": "stdout",
          "text": [
            "\n",
            "Valid Epoch: 12\tAccuracy: 6/16 (38%)\n",
            "\n"
          ]
        },
        {
          "output_type": "stream",
          "name": "stderr",
          "text": [
            " 51%|█████     | 12.75/25 [03:26<01:37,  7.92s/it] "
          ]
        },
        {
          "output_type": "stream",
          "name": "stdout",
          "text": [
            "\n",
            "Train Epoch: 13\tAccuracy: 38/64 (59%)\n",
            "\n"
          ]
        },
        {
          "output_type": "stream",
          "name": "stderr",
          "text": [
            "\r 52%|█████▏    | 12.875/25 [03:33<04:01, 19.94s/it]"
          ]
        },
        {
          "output_type": "stream",
          "name": "stdout",
          "text": [
            "\n",
            "Valid Epoch: 13\tAccuracy: 7/16 (44%)\n",
            "\n"
          ]
        },
        {
          "output_type": "stream",
          "name": "stderr",
          "text": [
            " 55%|█████▌    | 13.75/25 [03:42<01:28,  7.86s/it] "
          ]
        },
        {
          "output_type": "stream",
          "name": "stdout",
          "text": [
            "\n",
            "Train Epoch: 14\tAccuracy: 42/64 (66%)\n",
            "\n"
          ]
        },
        {
          "output_type": "stream",
          "name": "stderr",
          "text": [
            "\r 56%|█████▌    | 13.875/25 [03:49<04:10, 22.54s/it]"
          ]
        },
        {
          "output_type": "stream",
          "name": "stdout",
          "text": [
            "\n",
            "Valid Epoch: 14\tAccuracy: 11/16 (69%)\n",
            "\n"
          ]
        },
        {
          "output_type": "stream",
          "name": "stderr",
          "text": [
            " 59%|█████▉    | 14.75/25 [03:58<01:20,  7.81s/it] "
          ]
        },
        {
          "output_type": "stream",
          "name": "stdout",
          "text": [
            "save mode at  15\n",
            "\n",
            "Train Epoch: 15\tAccuracy: 41/64 (64%)\n",
            "\n"
          ]
        },
        {
          "output_type": "stream",
          "name": "stderr",
          "text": [
            "\r 60%|█████▉    | 14.875/25 [04:05<03:42, 21.99s/it]"
          ]
        },
        {
          "output_type": "stream",
          "name": "stdout",
          "text": [
            "\n",
            "Valid Epoch: 15\tAccuracy: 11/16 (69%)\n",
            "\n"
          ]
        },
        {
          "output_type": "stream",
          "name": "stderr",
          "text": [
            " 63%|██████▎   | 15.75/25 [04:15<01:17,  8.37s/it] "
          ]
        },
        {
          "output_type": "stream",
          "name": "stdout",
          "text": [
            "save mode at  16\n",
            "\n",
            "Train Epoch: 16\tAccuracy: 44/64 (69%)\n",
            "\n"
          ]
        },
        {
          "output_type": "stream",
          "name": "stderr",
          "text": [
            "\r 64%|██████▎   | 15.875/25 [04:21<03:05, 20.35s/it]"
          ]
        },
        {
          "output_type": "stream",
          "name": "stdout",
          "text": [
            "\n",
            "Valid Epoch: 16\tAccuracy: 11/16 (69%)\n",
            "\n"
          ]
        },
        {
          "output_type": "stream",
          "name": "stderr",
          "text": [
            " 67%|██████▋   | 16.75/25 [04:31<01:08,  8.35s/it] "
          ]
        },
        {
          "output_type": "stream",
          "name": "stdout",
          "text": [
            "\n",
            "Train Epoch: 17\tAccuracy: 45/64 (70%)\n",
            "\n"
          ]
        },
        {
          "output_type": "stream",
          "name": "stderr",
          "text": [
            "\r 68%|██████▊   | 16.875/25 [04:38<02:57, 21.81s/it]"
          ]
        },
        {
          "output_type": "stream",
          "name": "stdout",
          "text": [
            "\n",
            "Valid Epoch: 17\tAccuracy: 11/16 (69%)\n",
            "\n"
          ]
        },
        {
          "output_type": "stream",
          "name": "stderr",
          "text": [
            " 71%|███████   | 17.75/25 [04:46<00:57,  7.98s/it] "
          ]
        },
        {
          "output_type": "stream",
          "name": "stdout",
          "text": [
            "save mode at  18\n",
            "\n",
            "Train Epoch: 18\tAccuracy: 42/64 (66%)\n",
            "\n"
          ]
        },
        {
          "output_type": "stream",
          "name": "stderr",
          "text": [
            "\r 72%|███████▏  | 17.875/25 [04:53<02:32, 21.40s/it]"
          ]
        },
        {
          "output_type": "stream",
          "name": "stdout",
          "text": [
            "\n",
            "Valid Epoch: 18\tAccuracy: 11/16 (69%)\n",
            "\n"
          ]
        },
        {
          "output_type": "stream",
          "name": "stderr",
          "text": [
            " 75%|███████▌  | 18.75/25 [05:02<00:48,  7.70s/it] "
          ]
        },
        {
          "output_type": "stream",
          "name": "stdout",
          "text": [
            "\n",
            "Train Epoch: 19\tAccuracy: 46/64 (72%)\n",
            "\n"
          ]
        },
        {
          "output_type": "stream",
          "name": "stderr",
          "text": [
            "\r 76%|███████▌  | 18.875/25 [05:07<01:54, 18.63s/it]"
          ]
        },
        {
          "output_type": "stream",
          "name": "stdout",
          "text": [
            "\n",
            "Valid Epoch: 19\tAccuracy: 9/16 (56%)\n",
            "\n"
          ]
        },
        {
          "output_type": "stream",
          "name": "stderr",
          "text": [
            " 79%|███████▉  | 19.75/25 [05:17<01:24, 16.06s/it]\n"
          ]
        },
        {
          "output_type": "error",
          "ename": "KeyboardInterrupt",
          "evalue": "ignored",
          "traceback": [
            "\u001b[0;31m---------------------------------------------------------------------------\u001b[0m",
            "\u001b[0;31mKeyboardInterrupt\u001b[0m                         Traceback (most recent call last)",
            "\u001b[0;32m<ipython-input-23-aa8ddbf05de8>\u001b[0m in \u001b[0;36m<cell line: 2>\u001b[0;34m()\u001b[0m\n\u001b[1;32m      1\u001b[0m \u001b[0mk\u001b[0m \u001b[0;34m=\u001b[0m \u001b[0;36m5\u001b[0m\u001b[0;34m\u001b[0m\u001b[0;34m\u001b[0m\u001b[0m\n\u001b[0;32m----> 2\u001b[0;31m \u001b[0mall_train_accuracy\u001b[0m\u001b[0;34m,\u001b[0m \u001b[0mall_valid_accuracy\u001b[0m\u001b[0;34m,\u001b[0m \u001b[0mlosses\u001b[0m \u001b[0;34m=\u001b[0m \u001b[0mkfold_training\u001b[0m\u001b[0;34m(\u001b[0m\u001b[0mmodel\u001b[0m\u001b[0;34m,\u001b[0m \u001b[0mk\u001b[0m\u001b[0;34m,\u001b[0m \u001b[0mtrain_valid_dataset\u001b[0m\u001b[0;34m,\u001b[0m \u001b[0mconfig\u001b[0m\u001b[0;34m)\u001b[0m\u001b[0;34m\u001b[0m\u001b[0;34m\u001b[0m\u001b[0m\n\u001b[0m",
            "\u001b[0;32m<ipython-input-22-1e8d1fc8f73f>\u001b[0m in \u001b[0;36mkfold_training\u001b[0;34m(model, k, train_valid_dataset, config)\u001b[0m\n\u001b[1;32m     25\u001b[0m         \u001b[0;32mwith\u001b[0m \u001b[0mtqdm\u001b[0m\u001b[0;34m(\u001b[0m\u001b[0mtotal\u001b[0m\u001b[0;34m=\u001b[0m\u001b[0mconfig\u001b[0m\u001b[0;34m[\u001b[0m\u001b[0;34m'n_epoch'\u001b[0m\u001b[0;34m]\u001b[0m\u001b[0;34m)\u001b[0m \u001b[0;32mas\u001b[0m \u001b[0mpbar\u001b[0m\u001b[0;34m:\u001b[0m\u001b[0;34m\u001b[0m\u001b[0;34m\u001b[0m\u001b[0m\n\u001b[1;32m     26\u001b[0m             \u001b[0;32mfor\u001b[0m \u001b[0mepoch\u001b[0m \u001b[0;32min\u001b[0m \u001b[0mrange\u001b[0m\u001b[0;34m(\u001b[0m\u001b[0;36m1\u001b[0m\u001b[0;34m,\u001b[0m \u001b[0mconfig\u001b[0m\u001b[0;34m[\u001b[0m\u001b[0;34m'n_epoch'\u001b[0m\u001b[0;34m]\u001b[0m \u001b[0;34m+\u001b[0m \u001b[0;36m1\u001b[0m\u001b[0;34m)\u001b[0m\u001b[0;34m:\u001b[0m\u001b[0;34m\u001b[0m\u001b[0;34m\u001b[0m\u001b[0m\n\u001b[0;32m---> 27\u001b[0;31m                 \u001b[0mtrain_acc_per_epoch\u001b[0m \u001b[0;34m=\u001b[0m \u001b[0mtrain\u001b[0m\u001b[0;34m(\u001b[0m\u001b[0mmodel\u001b[0m\u001b[0;34m,\u001b[0m \u001b[0mepoch\u001b[0m\u001b[0;34m,\u001b[0m \u001b[0mtrain_loader\u001b[0m\u001b[0;34m,\u001b[0m \u001b[0mconfig\u001b[0m\u001b[0;34m[\u001b[0m\u001b[0;34m'path'\u001b[0m\u001b[0;34m]\u001b[0m\u001b[0;34m,\u001b[0m \u001b[0mlosses\u001b[0m\u001b[0;34m,\u001b[0m \u001b[0mpbar\u001b[0m \u001b[0;34m=\u001b[0m \u001b[0mpbar\u001b[0m\u001b[0;34m,\u001b[0m \u001b[0mpbar_update\u001b[0m\u001b[0;34m=\u001b[0m\u001b[0mpbar_update\u001b[0m\u001b[0;34m)\u001b[0m\u001b[0;34m\u001b[0m\u001b[0;34m\u001b[0m\u001b[0m\n\u001b[0m\u001b[1;32m     28\u001b[0m                 \u001b[0mvalid_acc_per_epoch\u001b[0m \u001b[0;34m=\u001b[0m \u001b[0mvalid\u001b[0m\u001b[0;34m(\u001b[0m\u001b[0mmodel\u001b[0m\u001b[0;34m,\u001b[0m \u001b[0mepoch\u001b[0m\u001b[0;34m,\u001b[0m \u001b[0mvalid_loader\u001b[0m\u001b[0;34m,\u001b[0m \u001b[0mpbar\u001b[0m \u001b[0;34m=\u001b[0m \u001b[0mpbar\u001b[0m\u001b[0;34m,\u001b[0m \u001b[0mpbar_update\u001b[0m\u001b[0;34m=\u001b[0m\u001b[0mpbar_update\u001b[0m\u001b[0;34m)\u001b[0m\u001b[0;34m\u001b[0m\u001b[0;34m\u001b[0m\u001b[0m\n\u001b[1;32m     29\u001b[0m \u001b[0;34m\u001b[0m\u001b[0m\n",
            "\u001b[0;32m<ipython-input-20-47547e796608>\u001b[0m in \u001b[0;36mtrain\u001b[0;34m(model, epoch, train_loader, path, loss_record, pbar, pbar_update)\u001b[0m\n\u001b[1;32m     38\u001b[0m         \u001b[0;31m#save model\u001b[0m\u001b[0;34m\u001b[0m\u001b[0;34m\u001b[0m\u001b[0m\n\u001b[1;32m     39\u001b[0m         \u001b[0;32mif\u001b[0m \u001b[0mlen\u001b[0m\u001b[0;34m(\u001b[0m\u001b[0mloss_record\u001b[0m\u001b[0;34m)\u001b[0m\u001b[0;34m>\u001b[0m\u001b[0;36m0\u001b[0m\u001b[0;34m:\u001b[0m\u001b[0;34m\u001b[0m\u001b[0;34m\u001b[0m\u001b[0m\n\u001b[0;32m---> 40\u001b[0;31m             \u001b[0;32mif\u001b[0m \u001b[0mmin\u001b[0m\u001b[0;34m(\u001b[0m\u001b[0mloss_record\u001b[0m\u001b[0;34m)\u001b[0m \u001b[0;34m>\u001b[0m \u001b[0mloss\u001b[0m\u001b[0;34m.\u001b[0m\u001b[0mitem\u001b[0m\u001b[0;34m(\u001b[0m\u001b[0;34m)\u001b[0m\u001b[0;34m:\u001b[0m\u001b[0;34m\u001b[0m\u001b[0;34m\u001b[0m\u001b[0m\n\u001b[0m\u001b[1;32m     41\u001b[0m                 \u001b[0mprint\u001b[0m\u001b[0;34m(\u001b[0m\u001b[0;34m\"save mode at \"\u001b[0m\u001b[0;34m,\u001b[0m \u001b[0mepoch\u001b[0m\u001b[0;34m)\u001b[0m\u001b[0;34m\u001b[0m\u001b[0;34m\u001b[0m\u001b[0m\n\u001b[1;32m     42\u001b[0m                 \u001b[0mtorch\u001b[0m\u001b[0;34m.\u001b[0m\u001b[0msave\u001b[0m\u001b[0;34m(\u001b[0m\u001b[0mmodel\u001b[0m\u001b[0;34m.\u001b[0m\u001b[0mstate_dict\u001b[0m\u001b[0;34m(\u001b[0m\u001b[0;34m)\u001b[0m\u001b[0;34m,\u001b[0m \u001b[0mpath\u001b[0m\u001b[0;34m)\u001b[0m\u001b[0;34m\u001b[0m\u001b[0;34m\u001b[0m\u001b[0m\n",
            "\u001b[0;31mKeyboardInterrupt\u001b[0m: "
          ]
        }
      ]
    },
    {
      "cell_type": "code",
      "execution_count": null,
      "metadata": {
        "id": "e_QJJy1ZMPDZ"
      },
      "outputs": [],
      "source": [
        "plt.plot(losses);\n",
        "plt.title(\"training loss\");"
      ]
    },
    {
      "cell_type": "code",
      "execution_count": null,
      "metadata": {
        "id": "Q9616HAsQPhy"
      },
      "outputs": [],
      "source": [
        "plt.clf()\n",
        "fig, axs = plt.subplots(1, 1, figsize=(10, 4))\n",
        "axs.set_title(\"accuracy\")\n",
        "axs.set_xlabel(\"epoch\")\n",
        "axs.set_ylabel(\"percentage\")\n",
        "axs.plot(all_train_accuracy, label=\"train_acc\")\n",
        "axs.plot(all_valid_accuracy, label=\"test_acc\")"
      ]
    },
    {
      "cell_type": "code",
      "execution_count": null,
      "metadata": {
        "id": "EnPKmcZ9YLWs"
      },
      "outputs": [],
      "source": [
        "def test(model_path):\n",
        "\n",
        "    #model = AudioModel(sr=config['sr'], n_mels = config['n_mels'], hidden_size = 40, num_output = 2)\n",
        "    model = prepare_model()\n",
        "    model.load_state_dict(torch.load(model_path))\n",
        "    model.to(config['device'])\n",
        "    model.eval()\n",
        "    correct = 0\n",
        "    for data, target in test_loader:\n",
        "\n",
        "        data = data.to(device)\n",
        "        target = target.to(device)\n",
        "\n",
        "        expanded_data = torch.stack([data]*3, dim=1)\n",
        "        output = model(expanded_data)\n",
        "\n",
        "        pred = get_likely_index(output)\n",
        "        target = get_likely_index(target)\n",
        "        correct += number_of_correct(pred, target)\n",
        "\n",
        "    print(f\"\\nTest Epoch: {epoch}\\tAccuracy: {correct}/{len(test_loader.dataset)} ({100. * correct / len(test_loader.dataset):.0f}%)\\n\")"
      ]
    },
    {
      "cell_type": "code",
      "execution_count": null,
      "metadata": {
        "id": "xr_quJg-bxXc"
      },
      "outputs": [],
      "source": [
        "test(config['path'])"
      ]
    },
    {
      "cell_type": "markdown",
      "metadata": {
        "id": "ANvxIRBvEILG"
      },
      "source": [
        "# Inference"
      ]
    },
    {
      "cell_type": "code",
      "execution_count": null,
      "metadata": {
        "id": "hJGoFZLgF-kW"
      },
      "outputs": [],
      "source": [
        "def get_other_sound():\n",
        "    # 병합할 다른 소리 파일 가져오기\n",
        "        _meta = pd.read_csv( othersourcePath + \"/meta.csv\", index_col=[0] )\n",
        "\n",
        "        _meta = _meta['mp3_path']\n",
        "        path = _meta.iloc[random.randrange(1,len(_meta))]\n",
        "\n",
        "        waveform, sample_rate = torchaudio.load( othersourcePath / Path(str(path)).with_suffix('.mp3'))\n",
        "        audio_sample = F.resample(waveform[0], sample_rate, config['sr'], lowpass_filter_width=6)\n",
        "        return audio_sample\n",
        "\n",
        "def minmaxScaler(data):\n",
        "    # 정규화 수행\n",
        "        data_min, data_max = data.min(), data.max()\n",
        "        new_lower, new_upper = -1, 1\n",
        "        scaled_data = (data - data_min)/(data_max - data_min)*(new_upper - new_lower) + new_lower\n",
        "        return scaled_data\n",
        "\n",
        "def mixOtherSound(audio_sample, mix_rate=1.0):\n",
        "    # 시험 데이터를 실 데이터로 전이시키는 함수\n",
        "        other_sound = get_other_sound()\n",
        "        if len(other_sound) > len(audio_sample):\n",
        "            other_sound = other_sound[:len(audio_sample)]\n",
        "        else:\n",
        "            other_sound = other_sound[:len(audio_sample)]\n",
        "            front = int( (len(audio_sample) - len(other_sound)) / 4 ) * 3\n",
        "            back = (len(audio_sample) - len(other_sound)) - front\n",
        "            other_sound = nn.functional.pad(other_sound, (front, back) , 'constant', value=0)\n",
        "\n",
        "        scaled_audio_data = minmaxScaler(audio_sample)\n",
        "        scaled_other_data = minmaxScaler(other_sound)\n",
        "\n",
        "        audio_sample = scaled_audio_data + (scaled_other_data*mix_rate)\n",
        "\n",
        "        return audio_sample"
      ]
    },
    {
      "cell_type": "code",
      "execution_count": null,
      "metadata": {
        "id": "uW0YHPI9Fx7F"
      },
      "outputs": [],
      "source": [
        "path = \"221109_hydrogen_S206_Num_1_Horn_Yes_2_22.wav\"\n",
        "waveform, sample_rate = torchaudio.load( dirPath / Path(path).with_suffix('.wav'))\n",
        "audio_sample = F.resample(waveform[0], sample_rate, config['sr'], lowpass_filter_width=6)\n",
        "\n",
        "audio_sample = mixOtherSound(audio_sample, mix_rate=0.2)\n",
        "\n",
        "noisy_path = \"./noisy_audio.wav\"\n",
        "torchaudio.save(noisy_path, audio_sample.unsqueeze(0), config['sr'])"
      ]
    },
    {
      "cell_type": "code",
      "execution_count": null,
      "metadata": {
        "id": "oeLuQJEeEIC7"
      },
      "outputs": [],
      "source": [
        "#model = AudioModel(sr=config['sr'], n_mels = config['n_mels'], hidden_size = 40, num_output = 2)\n",
        "#yes가 1임\n",
        "waveform, sample_rate = torchaudio.load( dirPath / Path(path).with_suffix('.wav'))\n",
        "audio_sample = F.resample(waveform[0], sample_rate, config['sr'], lowpass_filter_width=6)\n",
        "\n",
        "mel_converter = torchaudio.transforms.MelSpectrogram(sample_rate=config['sr'], n_mels=config['n_mels'])\n",
        "db_converter = torchaudio.transforms.AmplitudeToDB()\n",
        "\n",
        "feature = db_converter(mel_converter(audio_sample))\n",
        "\n",
        "model = prepare_model()\n",
        "model.load_state_dict(torch.load(config['path']))\n",
        "model.to(config['device'])\n",
        "model.eval()\n",
        "\n",
        "feature = feature.unsqueeze(0)\n",
        "expanded_data = torch.stack([feature]*3, dim=1)\n",
        "expanded_data = expanded_data.to(config['device'])\n",
        "output = model(expanded_data)\n",
        "pred = get_likely_index(output)"
      ]
    },
    {
      "cell_type": "code",
      "execution_count": null,
      "metadata": {
        "id": "eMZml0fnLPOL"
      },
      "outputs": [],
      "source": [
        "print( \"이상치 감지\" if int(pred[0]) == 1 else \"이상치 불검출\")"
      ]
    },
    {
      "cell_type": "markdown",
      "metadata": {
        "id": "R2XSht09Ux9c"
      },
      "source": [
        "# 예비 코드"
      ]
    },
    {
      "cell_type": "code",
      "execution_count": null,
      "metadata": {
        "id": "ogbhrpMeU2SC"
      },
      "outputs": [],
      "source": [
        "def SoundAugment():\n",
        "    def __init__(self, other_sound_path=None):\n",
        "        assert other_sound_path is not None, \"it must be filled\"\n",
        "        self.other_sound_dir = other_sound_path\n",
        "\n",
        "    def _get_other_sound(self, sound, amplitude):\n",
        "        _meta = pd.read_csv( self.other_sound_dir + \"/meta.csv\", index_col=[0] )\n",
        "\n",
        "        _meta = _meta['mp3_path']\n",
        "        path = _meta.iloc[random.randrange(1,len(_meta))]\n",
        "\n",
        "        waveform, sample_rate = torchaudio.load( self.other_sound_dir / Path(str(path)).with_suffix('.mp3'))\n",
        "        audio_sample = F.resample(waveform[0], sample_rate, self.config['sr'], lowpass_filter_width=6)\n",
        "        augmented_sound = sound + audio_sample\n",
        "        return augmented_sound\n",
        "\n",
        "    def augment(self, feature):\n",
        "        feature = self._get_other_sound(feature)\n",
        "        return feature"
      ]
    },
    {
      "cell_type": "code",
      "execution_count": null,
      "metadata": {
        "id": "0FwtkQAiNGdL"
      },
      "outputs": [],
      "source": [
        "def prepare_model():\n",
        "    resnet_model = resnet18(weights='IMAGENET1K_V1')\n",
        "    resnet_model.fc = nn.Linear(512,1)\n",
        "\n",
        "    for m in resnet_model.modules():\n",
        "        if isinstance(m, nn.Conv2d):\n",
        "            nn.init.kaiming_normal_(m.weight, mode=\"fan_out\", nonlinearity=\"relu\")\n",
        "        elif isinstance(m, (nn.BatchNorm2d, nn.GroupNorm)):\n",
        "            nn.init.constant_(m.weight, 1)\n",
        "            nn.init.constant_(m.bias, 0)\n",
        "\n",
        "    return resnet_model"
      ]
    },
    {
      "cell_type": "code",
      "execution_count": null,
      "metadata": {
        "id": "GDs-TJwP6p4H"
      },
      "outputs": [],
      "source": [
        "class AudioModel(nn.Module):\n",
        "    def __init__(self, sr, n_mels, hidden_size, num_output, augmentation=False):\n",
        "        super().__init__()\n",
        "        self.sr = sr\n",
        "        self.conv_layer = nn.Sequential(\n",
        "          nn.Conv1d(n_mels, out_channels=hidden_size, kernel_size=2),\n",
        "          nn.MaxPool1d(3),\n",
        "          nn.ReLU(),\n",
        "          nn.Conv1d(hidden_size, out_channels=hidden_size, kernel_size=3),\n",
        "          nn.MaxPool1d(3),\n",
        "          nn.ReLU(),\n",
        "        )\n",
        "        self.final_layer = nn.Linear(hidden_size, num_output)\n",
        "\n",
        "    def forward(self, x):\n",
        "        out = self.conv_layer(x)\n",
        "        out = torch.max(out, dim=-1)[0]\n",
        "        out = self.final_layer(out)\n",
        "        out = torch.sigmoid(out)\n",
        "        return out"
      ]
    }
  ],
  "metadata": {
    "accelerator": "GPU",
    "colab": {
      "machine_shape": "hm",
      "provenance": [],
      "collapsed_sections": [
        "R2XSht09Ux9c"
      ]
    },
    "kernelspec": {
      "display_name": "Python 3",
      "name": "python3"
    },
    "language_info": {
      "name": "python"
    }
  },
  "nbformat": 4,
  "nbformat_minor": 0
}