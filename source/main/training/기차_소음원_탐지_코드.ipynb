{
  "cells": [
    {
      "cell_type": "markdown",
      "metadata": {
        "id": "L1mV6yfnwUtb"
      },
      "source": [
        "# 기차 대차 이상 소음원 탐지 모델"
      ]
    },
    {
      "cell_type": "code",
      "execution_count": 1,
      "metadata": {
        "id": "jVhUhNhTv-jx"
      },
      "outputs": [],
      "source": [
        "# Author jhCOR"
      ]
    },
    {
      "cell_type": "markdown",
      "metadata": {
        "id": "6EPhFob4woNW"
      },
      "source": [
        "### 드라이브 마운트 /  라이브러리 임포트 / 라이브러리 설치"
      ]
    },
    {
      "cell_type": "code",
      "execution_count": 1,
      "metadata": {
        "colab": {
          "base_uri": "https://localhost:8080/"
        },
        "id": "u9nPnyFAgTUg",
        "outputId": "bd02a84d-69ed-4c80-a8a9-a7f86b8a3e3d"
      },
      "outputs": [
        {
          "output_type": "stream",
          "name": "stdout",
          "text": [
            "Drive already mounted at /content/drive; to attempt to forcibly remount, call drive.mount(\"/content/drive\", force_remount=True).\n"
          ]
        }
      ],
      "source": [
        "from google.colab import drive\n",
        "drive.mount('/content/drive')"
      ]
    },
    {
      "cell_type": "code",
      "execution_count": 3,
      "metadata": {
        "colab": {
          "base_uri": "https://localhost:8080/"
        },
        "id": "G6Iz8nBbdhY2",
        "outputId": "e25fcc83-1962-40b5-bcdc-3e96f32674c1"
      },
      "outputs": [
        {
          "output_type": "stream",
          "name": "stdout",
          "text": [
            "Collecting tensorflow_addons\n",
            "  Downloading tensorflow_addons-0.21.0-cp310-cp310-manylinux_2_17_x86_64.manylinux2014_x86_64.whl (612 kB)\n",
            "\u001b[?25l     \u001b[90m━━━━━━━━━━━━━━━━━━━━━━━━━━━━━━━━━━━━━━━━\u001b[0m \u001b[32m0.0/612.1 kB\u001b[0m \u001b[31m?\u001b[0m eta \u001b[36m-:--:--\u001b[0m\r\u001b[2K     \u001b[91m━━━━━━━━━━━\u001b[0m\u001b[90m╺\u001b[0m\u001b[90m━━━━━━━━━━━━━━━━━━━━━━━━━━━━\u001b[0m \u001b[32m174.1/612.1 kB\u001b[0m \u001b[31m5.4 MB/s\u001b[0m eta \u001b[36m0:00:01\u001b[0m\r\u001b[2K     \u001b[91m━━━━━━━━━━━━━━━━━━━━━━━━━━━━━━━━━━━━━━━\u001b[0m\u001b[90m╺\u001b[0m \u001b[32m604.2/612.1 kB\u001b[0m \u001b[31m9.6 MB/s\u001b[0m eta \u001b[36m0:00:01\u001b[0m\r\u001b[2K     \u001b[90m━━━━━━━━━━━━━━━━━━━━━━━━━━━━━━━━━━━━━━━━\u001b[0m \u001b[32m612.1/612.1 kB\u001b[0m \u001b[31m8.5 MB/s\u001b[0m eta \u001b[36m0:00:00\u001b[0m\n",
            "\u001b[?25hRequirement already satisfied: packaging in /usr/local/lib/python3.10/dist-packages (from tensorflow_addons) (23.2)\n",
            "Collecting typeguard<3.0.0,>=2.7 (from tensorflow_addons)\n",
            "  Downloading typeguard-2.13.3-py3-none-any.whl (17 kB)\n",
            "Installing collected packages: typeguard, tensorflow_addons\n",
            "Successfully installed tensorflow_addons-0.21.0 typeguard-2.13.3\n"
          ]
        }
      ],
      "source": [
        "!pip install tensorflow_addons"
      ]
    },
    {
      "cell_type": "code",
      "execution_count": 2,
      "metadata": {
        "id": "LNiTlcgND6I5"
      },
      "outputs": [],
      "source": [
        "import torchaudio.functional as F\n",
        "import torch.nn as nn\n",
        "import torchaudio\n",
        "import torch\n",
        "\n",
        "import pandas as pd\n",
        "import numpy as np\n",
        "import librosa\n",
        "import glob\n",
        "import os\n",
        "import re\n",
        "from tqdm import tqdm\n",
        "import random\n",
        "import copy\n",
        "\n",
        "import matplotlib.pyplot as plt\n",
        "from datetime import datetime\n",
        "from pathlib import Path\n",
        "import torch.optim as optim\n",
        "from torch.utils.data import Dataset\n",
        "from collections.abc import Iterable\n",
        "from torch.utils.data import DataLoader, random_split\n",
        "\n",
        "from torchvision.models import resnet18"
      ]
    },
    {
      "cell_type": "markdown",
      "metadata": {
        "id": "ev8vqBr2xHUM"
      },
      "source": [
        "### 시드 고정 / device설정 / 실험 세팅 값 설정"
      ]
    },
    {
      "cell_type": "code",
      "execution_count": 3,
      "metadata": {
        "colab": {
          "base_uri": "https://localhost:8080/"
        },
        "id": "rKP2SbcRBdNE",
        "outputId": "f5116f17-4880-44b3-b6b6-7904c189a600"
      },
      "outputs": [
        {
          "output_type": "stream",
          "name": "stdout",
          "text": [
            "cuda\n",
            "Current cuda device: 0\n",
            "Count of using GPUs: 1\n"
          ]
        }
      ],
      "source": [
        "print(\"cuda\" if torch.cuda.is_available() else \"cpu\")\n",
        "device = \"cpu\"\n",
        "if torch.cuda.is_available():\n",
        "    device = \"cuda\"\n",
        "    print('Current cuda device:', torch.cuda.current_device())\n",
        "    print('Count of using GPUs:', torch.cuda.device_count())\n",
        "\n",
        "#################\n",
        "\n",
        "config = {'sr' : 25600, 'device':device, 'n_mels':80, 'core':os.cpu_count(), \"train_ratio\":0.6,\n",
        "           \"valid_ratio\":0.2, \"test_ratio\":0.2, \"path\":\"./best_model.pt\", \"seed\": 42, \"n_epoch\" :25}\n",
        "\n",
        "#################\n",
        "\n",
        "dirPath = \"/content/drive/MyDrive/Artificial_Intelligence/ai_data/기차대차소음/S206_wav\"\n",
        "csvPath = \"/content/drive/MyDrive/Artificial_Intelligence/ai_data/기차대차소음/metadata.csv\"\n",
        "othersourcePath = \"/content/drive/MyDrive/Artificial_Intelligence/ai_data/MTAT_SMALL\"\n",
        "model_save_path = \"./best_model.pt\""
      ]
    },
    {
      "cell_type": "code",
      "execution_count": 4,
      "metadata": {
        "id": "BbNCeraIt-oB"
      },
      "outputs": [],
      "source": [
        "def restrict_seed(seed):\n",
        "    print(\"시드 고정: \", seed)\n",
        "    random.seed(seed)\n",
        "    np.random.seed(seed)\n",
        "    torch.manual_seed(seed)\n",
        "    torch.cuda.manual_seed(seed)\n",
        "    torch.cuda.manual_seed_all(seed)\n",
        "    torch.backends.cudnn.deterministic = True\n",
        "    torch.backends.cudnn.benchmark = False\n",
        "\n",
        "def isIterable(target):\n",
        "    return True if isinstance(target, Iterable) else False\n",
        "\n",
        "def plot_spectrogram(spectrogram, title=None, ylabel=\"freq_bin\"):\n",
        "    plt.clf()\n",
        "    fig, axs = plt.subplots(1, 1, figsize=(10, 4))\n",
        "    axs.set_title(title or \"Spectrogram\")\n",
        "    axs.set_ylabel(ylabel)\n",
        "    axs.set_xlabel(\"frame\")\n",
        "    im = axs.imshow(librosa.power_to_db(spectrogram), origin=\"lower\", aspect=\"auto\")\n",
        "    fig.colorbar(im, ax=axs)\n",
        "    plt.show(block=False)"
      ]
    },
    {
      "cell_type": "code",
      "execution_count": 5,
      "metadata": {
        "colab": {
          "base_uri": "https://localhost:8080/"
        },
        "id": "-pnryF9LBkz-",
        "outputId": "8851bf33-7e5e-4890-a384-4476ebe9a006"
      },
      "outputs": [
        {
          "output_type": "stream",
          "name": "stdout",
          "text": [
            "시드 고정:  42\n",
            "{'sr': 25600, 'device': 'cuda', 'n_mels': 80, 'core': 8, 'train_ratio': 0.6, 'valid_ratio': 0.2, 'test_ratio': 0.2, 'path': './best_model.pt', 'seed': 42, 'n_epoch': 25}\n"
          ]
        }
      ],
      "source": [
        "restrict_seed(config['seed'])\n",
        "print(config)"
      ]
    },
    {
      "cell_type": "markdown",
      "metadata": {
        "id": "JB9ViXVnxY4B"
      },
      "source": [
        "### 데이터셋 정의"
      ]
    },
    {
      "cell_type": "code",
      "execution_count": 6,
      "metadata": {
        "id": "v0g9gfOqfd9m"
      },
      "outputs": [],
      "source": [
        "class soundDataset(Dataset):\n",
        "    def __init__(self, dir_path, csv_path, mode=\"train\", config=None, other_sound_path=None, mixSoundRatio=0, randomShift=True):\n",
        "        self.mel_converter = torchaudio.transforms.MelSpectrogram(sample_rate=config['sr'], n_mels=config['n_mels'])\n",
        "        self.db_converter = torchaudio.transforms.AmplitudeToDB()\n",
        "        self.dir = dir_path\n",
        "        self.mixSoundRatio = mixSoundRatio\n",
        "        self.randomShift = randomShift\n",
        "        self.config = config\n",
        "\n",
        "        assert other_sound_path is not None, \"it must be filled\"\n",
        "        self.other_sound_dir = other_sound_path\n",
        "\n",
        "        colume_list = ['title',  'Car_type', 'Horn', 'Position', 'S206_position','Length', 'Car_num', 'path']\n",
        "\n",
        "        metaData = pd.read_csv(csv_path)\n",
        "        metaData = metaData[colume_list]\n",
        "        metaData = metaData.sort_values(by=\"Car_type\")\n",
        "        metaData['label'] = metaData['Horn'].apply(lambda x: 1 if x == \"Yes\" else 0)\n",
        "        metaData['Position'] = metaData['Position'].fillna(-1)\n",
        "\n",
        "        self.meta = metaData\n",
        "        self.meta = self._check_all_file_exist()\n",
        "        self.meta['length'] = self._check_all_file_size()\n",
        "        display(self.meta)\n",
        "        print(\"Horn Yes 개수\", len(self.meta[self.meta['Horn']==\"Yes\" ]), \"Horn No 개수\", len(self.meta[self.meta['Horn']==\"No\" ]))\n",
        "\n",
        "    def _get_other_sound(self):\n",
        "    # 병합할 다른 소리 파일 가져오기\n",
        "        _meta = pd.read_csv( self.other_sound_dir + \"/meta.csv\", index_col=[0] )\n",
        "\n",
        "        _meta = _meta['mp3_path']\n",
        "        path = _meta.iloc[random.randrange(1,len(_meta))]\n",
        "\n",
        "        waveform, sample_rate = torchaudio.load( self.other_sound_dir / Path(str(path)).with_suffix('.mp3'))\n",
        "        audio_sample = F.resample(waveform, sample_rate, self.config['sr'], lowpass_filter_width=6)\n",
        "        audio_sample = audio_sample.squeeze()\n",
        "        return audio_sample\n",
        "\n",
        "    def _check_all_file_exist(self):\n",
        "    # 파일-음원 매칭을 체크하여 소리 파일이 없는 경우 제외\n",
        "        for i in range(len(self.meta['path'])):\n",
        "            path = self.meta['path'].iloc[i]\n",
        "            if not os.path.exists(self.dir / Path(path).with_suffix('.wav')):\n",
        "                meata_data = self.meta [self.meta['path']!=path]\n",
        "                return meata_data\n",
        "\n",
        "    def _check_all_file_size(self):\n",
        "\n",
        "        length_list = []\n",
        "        for i in range(len(self.meta['path'])):\n",
        "            waveform, sample_rate = torchaudio.load(self.dir / Path(self.meta['path'].iloc[i]).with_suffix('.wav'))\n",
        "            audio_sample = F.resample(waveform, sample_rate, self.config['sr'], lowpass_filter_width=6)\n",
        "\n",
        "            length_list.append(len(audio_sample))\n",
        "        return length_list\n",
        "\n",
        "    def minmaxScaler(self, data):\n",
        "    # 정규화 수행\n",
        "        data_min, data_max = data.min(), data.max()\n",
        "        new_lower, new_upper = -1, 1\n",
        "        scaled_data = (data - data_min)/(data_max - data_min)*(new_upper - new_lower) + new_lower\n",
        "        return scaled_data\n",
        "\n",
        "    def mixOtherSound(self, audio_sample, mix_rate=1.0):\n",
        "    # 시험 데이터를 실 데이터로 전이시키는 함수\n",
        "        other_sound = self._get_other_sound()\n",
        "\n",
        "        if len(other_sound) > len(audio_sample):\n",
        "            other_sound = other_sound[:len(audio_sample)]\n",
        "        else:\n",
        "            other_sound = torch.cat((other_sound, other_sound), 0)\n",
        "            other_sound = other_sound[:len(audio_sample)]\n",
        "\n",
        "            front = int( (len(audio_sample) - len(other_sound)) / 4 )\n",
        "            back = (len(audio_sample) - len(other_sound)) - front\n",
        "            other_sound = nn.functional.pad(other_sound, (front, back) , 'constant', value=0)\n",
        "\n",
        "        scaled_audio_data = self.minmaxScaler(audio_sample)\n",
        "        scaled_other_data = self.minmaxScaler(other_sound)\n",
        "\n",
        "        audio_sample = scaled_audio_data + (scaled_other_data*mix_rate)\n",
        "\n",
        "        return audio_sample\n",
        "\n",
        "    def __getitem__(self, idx):\n",
        "        row =  self.meta.iloc[idx]\n",
        "        path = row['path']\n",
        "        label = row['label']\n",
        "\n",
        "        waveform, sample_rate = torchaudio.load(self.dir / Path(path).with_suffix('.wav'))\n",
        "        audio_sample = F.resample(waveform, sample_rate, self.config['sr'], lowpass_filter_width=6)\n",
        "        audio_sample = audio_sample.squeeze()\n",
        "\n",
        "        if self.randomShift is True:\n",
        "            random_distance = random.randint(0, int(len(audio_sample)/5))\n",
        "            random_padding = torch.zeros(random_distance)\n",
        "\n",
        "            audio_sample = torch.cat((random_padding, audio_sample), 0)\n",
        "\n",
        "        if self.mixSoundRatio == \"random_ratio\":\n",
        "            random_ratio = random.randrange(2, 7, 1)\n",
        "            random_ratio = random_ratio*0.1\n",
        "            if random_ratio > 0:\n",
        "                audio_sample = self.mixOtherSound(audio_sample, mix_rate=random_ratio)\n",
        "\n",
        "        feature = self.db_converter(self.mel_converter(audio_sample))\n",
        "        label = nn.functional.one_hot(torch.tensor(label), num_classes=2)\n",
        "\n",
        "        return feature, label\n",
        "\n",
        "    def __len__(self):\n",
        "        return len(self.meta)\n",
        "\n",
        "def collate_padder(batch):\n",
        "# 각 시퀀스를 패딩\n",
        "    sequence_lengths = [item[0].size(1) for item in batch]\n",
        "    max_length = max(sequence_lengths)\n",
        "\n",
        "    padded_features = [torch.nn.functional.pad(item[0], (0, max_length - item[0].size(1))) for item in batch]\n",
        "\n",
        "    labels = [item[1] for item in batch]\n",
        "    return torch.stack(padded_features, dim=0), torch.stack(labels, dim=0).float()"
      ]
    },
    {
      "cell_type": "code",
      "execution_count": 7,
      "metadata": {
        "colab": {
          "base_uri": "https://localhost:8080/",
          "height": 693
        },
        "id": "qq0oJs4Y6yTK",
        "outputId": "d79829f1-6617-4edc-ef25-9e8f9e85d6dc"
      },
      "outputs": [
        {
          "output_type": "stream",
          "name": "stderr",
          "text": [
            "/usr/local/lib/python3.10/dist-packages/torchaudio/functional/functional.py:576: UserWarning: At least one mel filterbank has all zero values. The value for `n_mels` (80) may be set too high. Or, the value for `n_freqs` (201) may be set too low.\n",
            "  warnings.warn(\n",
            "<ipython-input-6-adf2ef2f9cd1>:23: SettingWithCopyWarning: \n",
            "A value is trying to be set on a copy of a slice from a DataFrame.\n",
            "Try using .loc[row_indexer,col_indexer] = value instead\n",
            "\n",
            "See the caveats in the documentation: https://pandas.pydata.org/pandas-docs/stable/user_guide/indexing.html#returning-a-view-versus-a-copy\n",
            "  self.meta['length'] = self._check_all_file_size()\n"
          ]
        },
        {
          "output_type": "display_data",
          "data": {
            "text/plain": [
              "           title Car_type Horn  Position  S206_position  Length  Car_num  \\\n",
              "0   test_01.tdms     수소열차  Yes      22.0             22      44        2   \n",
              "62   test_5.tdms     수소열차   No      -1.0             22      44        2   \n",
              "63   test_6.tdms     수소열차   No      -1.0             22      44        2   \n",
              "64   test_7.tdms     수소열차   No      -1.0             22      44        2   \n",
              "65   test_8.tdms     수소열차   No      -1.0             22      44        2   \n",
              "..           ...      ...  ...       ...            ...     ...      ...   \n",
              "43  test_11.tdms   차세대전동차  Yes      61.0             22     122        6   \n",
              "44  test_12.tdms   차세대전동차  Yes      61.0             22     122        6   \n",
              "45  test_13.tdms   차세대전동차  Yes      61.0             22     122        6   \n",
              "31  test_08.tdms   차세대전동차  Yes      61.0             22     122        6   \n",
              "80  test_12.tdms   차세대전동차   No      -1.0             22     122        6   \n",
              "\n",
              "                                            path  label  length  \n",
              "0   221102_hydrogen_S206_Num_0_Horn_Yes_2_22.wav      1       1  \n",
              "62     221109_hydrogen_S206_Num_4_Horn_No_2_.wav      0       1  \n",
              "63     221109_hydrogen_S206_Num_5_Horn_No_2_.wav      0       1  \n",
              "64     221109_hydrogen_S206_Num_6_Horn_No_2_.wav      0       1  \n",
              "65     221109_hydrogen_S206_Num_7_Horn_No_2_.wav      0       1  \n",
              "..                                           ...    ...     ...  \n",
              "43  221107_nextgen_S206_Num_10_Horn_Yes_6_61.wav      1       1  \n",
              "44  221107_nextgen_S206_Num_11_Horn_Yes_6_61.wav      1       1  \n",
              "45  221107_nextgen_S206_Num_12_Horn_Yes_6_61.wav      1       1  \n",
              "31   221104_nextgen_S206_Num_7_Horn_Yes_6_61.wav      1       1  \n",
              "80     221110_nextgen_S206_Num_11_Horn_No_6_.wav      0       1  \n",
              "\n",
              "[80 rows x 10 columns]"
            ],
            "text/html": [
              "\n",
              "  <div id=\"df-a5124cbf-9ce0-48f7-a398-bdd5e8066db1\" class=\"colab-df-container\">\n",
              "    <div>\n",
              "<style scoped>\n",
              "    .dataframe tbody tr th:only-of-type {\n",
              "        vertical-align: middle;\n",
              "    }\n",
              "\n",
              "    .dataframe tbody tr th {\n",
              "        vertical-align: top;\n",
              "    }\n",
              "\n",
              "    .dataframe thead th {\n",
              "        text-align: right;\n",
              "    }\n",
              "</style>\n",
              "<table border=\"1\" class=\"dataframe\">\n",
              "  <thead>\n",
              "    <tr style=\"text-align: right;\">\n",
              "      <th></th>\n",
              "      <th>title</th>\n",
              "      <th>Car_type</th>\n",
              "      <th>Horn</th>\n",
              "      <th>Position</th>\n",
              "      <th>S206_position</th>\n",
              "      <th>Length</th>\n",
              "      <th>Car_num</th>\n",
              "      <th>path</th>\n",
              "      <th>label</th>\n",
              "      <th>length</th>\n",
              "    </tr>\n",
              "  </thead>\n",
              "  <tbody>\n",
              "    <tr>\n",
              "      <th>0</th>\n",
              "      <td>test_01.tdms</td>\n",
              "      <td>수소열차</td>\n",
              "      <td>Yes</td>\n",
              "      <td>22.0</td>\n",
              "      <td>22</td>\n",
              "      <td>44</td>\n",
              "      <td>2</td>\n",
              "      <td>221102_hydrogen_S206_Num_0_Horn_Yes_2_22.wav</td>\n",
              "      <td>1</td>\n",
              "      <td>1</td>\n",
              "    </tr>\n",
              "    <tr>\n",
              "      <th>62</th>\n",
              "      <td>test_5.tdms</td>\n",
              "      <td>수소열차</td>\n",
              "      <td>No</td>\n",
              "      <td>-1.0</td>\n",
              "      <td>22</td>\n",
              "      <td>44</td>\n",
              "      <td>2</td>\n",
              "      <td>221109_hydrogen_S206_Num_4_Horn_No_2_.wav</td>\n",
              "      <td>0</td>\n",
              "      <td>1</td>\n",
              "    </tr>\n",
              "    <tr>\n",
              "      <th>63</th>\n",
              "      <td>test_6.tdms</td>\n",
              "      <td>수소열차</td>\n",
              "      <td>No</td>\n",
              "      <td>-1.0</td>\n",
              "      <td>22</td>\n",
              "      <td>44</td>\n",
              "      <td>2</td>\n",
              "      <td>221109_hydrogen_S206_Num_5_Horn_No_2_.wav</td>\n",
              "      <td>0</td>\n",
              "      <td>1</td>\n",
              "    </tr>\n",
              "    <tr>\n",
              "      <th>64</th>\n",
              "      <td>test_7.tdms</td>\n",
              "      <td>수소열차</td>\n",
              "      <td>No</td>\n",
              "      <td>-1.0</td>\n",
              "      <td>22</td>\n",
              "      <td>44</td>\n",
              "      <td>2</td>\n",
              "      <td>221109_hydrogen_S206_Num_6_Horn_No_2_.wav</td>\n",
              "      <td>0</td>\n",
              "      <td>1</td>\n",
              "    </tr>\n",
              "    <tr>\n",
              "      <th>65</th>\n",
              "      <td>test_8.tdms</td>\n",
              "      <td>수소열차</td>\n",
              "      <td>No</td>\n",
              "      <td>-1.0</td>\n",
              "      <td>22</td>\n",
              "      <td>44</td>\n",
              "      <td>2</td>\n",
              "      <td>221109_hydrogen_S206_Num_7_Horn_No_2_.wav</td>\n",
              "      <td>0</td>\n",
              "      <td>1</td>\n",
              "    </tr>\n",
              "    <tr>\n",
              "      <th>...</th>\n",
              "      <td>...</td>\n",
              "      <td>...</td>\n",
              "      <td>...</td>\n",
              "      <td>...</td>\n",
              "      <td>...</td>\n",
              "      <td>...</td>\n",
              "      <td>...</td>\n",
              "      <td>...</td>\n",
              "      <td>...</td>\n",
              "      <td>...</td>\n",
              "    </tr>\n",
              "    <tr>\n",
              "      <th>43</th>\n",
              "      <td>test_11.tdms</td>\n",
              "      <td>차세대전동차</td>\n",
              "      <td>Yes</td>\n",
              "      <td>61.0</td>\n",
              "      <td>22</td>\n",
              "      <td>122</td>\n",
              "      <td>6</td>\n",
              "      <td>221107_nextgen_S206_Num_10_Horn_Yes_6_61.wav</td>\n",
              "      <td>1</td>\n",
              "      <td>1</td>\n",
              "    </tr>\n",
              "    <tr>\n",
              "      <th>44</th>\n",
              "      <td>test_12.tdms</td>\n",
              "      <td>차세대전동차</td>\n",
              "      <td>Yes</td>\n",
              "      <td>61.0</td>\n",
              "      <td>22</td>\n",
              "      <td>122</td>\n",
              "      <td>6</td>\n",
              "      <td>221107_nextgen_S206_Num_11_Horn_Yes_6_61.wav</td>\n",
              "      <td>1</td>\n",
              "      <td>1</td>\n",
              "    </tr>\n",
              "    <tr>\n",
              "      <th>45</th>\n",
              "      <td>test_13.tdms</td>\n",
              "      <td>차세대전동차</td>\n",
              "      <td>Yes</td>\n",
              "      <td>61.0</td>\n",
              "      <td>22</td>\n",
              "      <td>122</td>\n",
              "      <td>6</td>\n",
              "      <td>221107_nextgen_S206_Num_12_Horn_Yes_6_61.wav</td>\n",
              "      <td>1</td>\n",
              "      <td>1</td>\n",
              "    </tr>\n",
              "    <tr>\n",
              "      <th>31</th>\n",
              "      <td>test_08.tdms</td>\n",
              "      <td>차세대전동차</td>\n",
              "      <td>Yes</td>\n",
              "      <td>61.0</td>\n",
              "      <td>22</td>\n",
              "      <td>122</td>\n",
              "      <td>6</td>\n",
              "      <td>221104_nextgen_S206_Num_7_Horn_Yes_6_61.wav</td>\n",
              "      <td>1</td>\n",
              "      <td>1</td>\n",
              "    </tr>\n",
              "    <tr>\n",
              "      <th>80</th>\n",
              "      <td>test_12.tdms</td>\n",
              "      <td>차세대전동차</td>\n",
              "      <td>No</td>\n",
              "      <td>-1.0</td>\n",
              "      <td>22</td>\n",
              "      <td>122</td>\n",
              "      <td>6</td>\n",
              "      <td>221110_nextgen_S206_Num_11_Horn_No_6_.wav</td>\n",
              "      <td>0</td>\n",
              "      <td>1</td>\n",
              "    </tr>\n",
              "  </tbody>\n",
              "</table>\n",
              "<p>80 rows × 10 columns</p>\n",
              "</div>\n",
              "    <div class=\"colab-df-buttons\">\n",
              "\n",
              "  <div class=\"colab-df-container\">\n",
              "    <button class=\"colab-df-convert\" onclick=\"convertToInteractive('df-a5124cbf-9ce0-48f7-a398-bdd5e8066db1')\"\n",
              "            title=\"Convert this dataframe to an interactive table.\"\n",
              "            style=\"display:none;\">\n",
              "\n",
              "  <svg xmlns=\"http://www.w3.org/2000/svg\" height=\"24px\" viewBox=\"0 -960 960 960\">\n",
              "    <path d=\"M120-120v-720h720v720H120Zm60-500h600v-160H180v160Zm220 220h160v-160H400v160Zm0 220h160v-160H400v160ZM180-400h160v-160H180v160Zm440 0h160v-160H620v160ZM180-180h160v-160H180v160Zm440 0h160v-160H620v160Z\"/>\n",
              "  </svg>\n",
              "    </button>\n",
              "\n",
              "  <style>\n",
              "    .colab-df-container {\n",
              "      display:flex;\n",
              "      gap: 12px;\n",
              "    }\n",
              "\n",
              "    .colab-df-convert {\n",
              "      background-color: #E8F0FE;\n",
              "      border: none;\n",
              "      border-radius: 50%;\n",
              "      cursor: pointer;\n",
              "      display: none;\n",
              "      fill: #1967D2;\n",
              "      height: 32px;\n",
              "      padding: 0 0 0 0;\n",
              "      width: 32px;\n",
              "    }\n",
              "\n",
              "    .colab-df-convert:hover {\n",
              "      background-color: #E2EBFA;\n",
              "      box-shadow: 0px 1px 2px rgba(60, 64, 67, 0.3), 0px 1px 3px 1px rgba(60, 64, 67, 0.15);\n",
              "      fill: #174EA6;\n",
              "    }\n",
              "\n",
              "    .colab-df-buttons div {\n",
              "      margin-bottom: 4px;\n",
              "    }\n",
              "\n",
              "    [theme=dark] .colab-df-convert {\n",
              "      background-color: #3B4455;\n",
              "      fill: #D2E3FC;\n",
              "    }\n",
              "\n",
              "    [theme=dark] .colab-df-convert:hover {\n",
              "      background-color: #434B5C;\n",
              "      box-shadow: 0px 1px 3px 1px rgba(0, 0, 0, 0.15);\n",
              "      filter: drop-shadow(0px 1px 2px rgba(0, 0, 0, 0.3));\n",
              "      fill: #FFFFFF;\n",
              "    }\n",
              "  </style>\n",
              "\n",
              "    <script>\n",
              "      const buttonEl =\n",
              "        document.querySelector('#df-a5124cbf-9ce0-48f7-a398-bdd5e8066db1 button.colab-df-convert');\n",
              "      buttonEl.style.display =\n",
              "        google.colab.kernel.accessAllowed ? 'block' : 'none';\n",
              "\n",
              "      async function convertToInteractive(key) {\n",
              "        const element = document.querySelector('#df-a5124cbf-9ce0-48f7-a398-bdd5e8066db1');\n",
              "        const dataTable =\n",
              "          await google.colab.kernel.invokeFunction('convertToInteractive',\n",
              "                                                    [key], {});\n",
              "        if (!dataTable) return;\n",
              "\n",
              "        const docLinkHtml = 'Like what you see? Visit the ' +\n",
              "          '<a target=\"_blank\" href=https://colab.research.google.com/notebooks/data_table.ipynb>data table notebook</a>'\n",
              "          + ' to learn more about interactive tables.';\n",
              "        element.innerHTML = '';\n",
              "        dataTable['output_type'] = 'display_data';\n",
              "        await google.colab.output.renderOutput(dataTable, element);\n",
              "        const docLink = document.createElement('div');\n",
              "        docLink.innerHTML = docLinkHtml;\n",
              "        element.appendChild(docLink);\n",
              "      }\n",
              "    </script>\n",
              "  </div>\n",
              "\n",
              "\n",
              "<div id=\"df-2a7c4e89-f164-4f56-ae6b-43f93e7087c7\">\n",
              "  <button class=\"colab-df-quickchart\" onclick=\"quickchart('df-2a7c4e89-f164-4f56-ae6b-43f93e7087c7')\"\n",
              "            title=\"Suggest charts.\"\n",
              "            style=\"display:none;\">\n",
              "\n",
              "<svg xmlns=\"http://www.w3.org/2000/svg\" height=\"24px\"viewBox=\"0 0 24 24\"\n",
              "     width=\"24px\">\n",
              "    <g>\n",
              "        <path d=\"M19 3H5c-1.1 0-2 .9-2 2v14c0 1.1.9 2 2 2h14c1.1 0 2-.9 2-2V5c0-1.1-.9-2-2-2zM9 17H7v-7h2v7zm4 0h-2V7h2v10zm4 0h-2v-4h2v4z\"/>\n",
              "    </g>\n",
              "</svg>\n",
              "  </button>\n",
              "\n",
              "<style>\n",
              "  .colab-df-quickchart {\n",
              "      --bg-color: #E8F0FE;\n",
              "      --fill-color: #1967D2;\n",
              "      --hover-bg-color: #E2EBFA;\n",
              "      --hover-fill-color: #174EA6;\n",
              "      --disabled-fill-color: #AAA;\n",
              "      --disabled-bg-color: #DDD;\n",
              "  }\n",
              "\n",
              "  [theme=dark] .colab-df-quickchart {\n",
              "      --bg-color: #3B4455;\n",
              "      --fill-color: #D2E3FC;\n",
              "      --hover-bg-color: #434B5C;\n",
              "      --hover-fill-color: #FFFFFF;\n",
              "      --disabled-bg-color: #3B4455;\n",
              "      --disabled-fill-color: #666;\n",
              "  }\n",
              "\n",
              "  .colab-df-quickchart {\n",
              "    background-color: var(--bg-color);\n",
              "    border: none;\n",
              "    border-radius: 50%;\n",
              "    cursor: pointer;\n",
              "    display: none;\n",
              "    fill: var(--fill-color);\n",
              "    height: 32px;\n",
              "    padding: 0;\n",
              "    width: 32px;\n",
              "  }\n",
              "\n",
              "  .colab-df-quickchart:hover {\n",
              "    background-color: var(--hover-bg-color);\n",
              "    box-shadow: 0 1px 2px rgba(60, 64, 67, 0.3), 0 1px 3px 1px rgba(60, 64, 67, 0.15);\n",
              "    fill: var(--button-hover-fill-color);\n",
              "  }\n",
              "\n",
              "  .colab-df-quickchart-complete:disabled,\n",
              "  .colab-df-quickchart-complete:disabled:hover {\n",
              "    background-color: var(--disabled-bg-color);\n",
              "    fill: var(--disabled-fill-color);\n",
              "    box-shadow: none;\n",
              "  }\n",
              "\n",
              "  .colab-df-spinner {\n",
              "    border: 2px solid var(--fill-color);\n",
              "    border-color: transparent;\n",
              "    border-bottom-color: var(--fill-color);\n",
              "    animation:\n",
              "      spin 1s steps(1) infinite;\n",
              "  }\n",
              "\n",
              "  @keyframes spin {\n",
              "    0% {\n",
              "      border-color: transparent;\n",
              "      border-bottom-color: var(--fill-color);\n",
              "      border-left-color: var(--fill-color);\n",
              "    }\n",
              "    20% {\n",
              "      border-color: transparent;\n",
              "      border-left-color: var(--fill-color);\n",
              "      border-top-color: var(--fill-color);\n",
              "    }\n",
              "    30% {\n",
              "      border-color: transparent;\n",
              "      border-left-color: var(--fill-color);\n",
              "      border-top-color: var(--fill-color);\n",
              "      border-right-color: var(--fill-color);\n",
              "    }\n",
              "    40% {\n",
              "      border-color: transparent;\n",
              "      border-right-color: var(--fill-color);\n",
              "      border-top-color: var(--fill-color);\n",
              "    }\n",
              "    60% {\n",
              "      border-color: transparent;\n",
              "      border-right-color: var(--fill-color);\n",
              "    }\n",
              "    80% {\n",
              "      border-color: transparent;\n",
              "      border-right-color: var(--fill-color);\n",
              "      border-bottom-color: var(--fill-color);\n",
              "    }\n",
              "    90% {\n",
              "      border-color: transparent;\n",
              "      border-bottom-color: var(--fill-color);\n",
              "    }\n",
              "  }\n",
              "</style>\n",
              "\n",
              "  <script>\n",
              "    async function quickchart(key) {\n",
              "      const quickchartButtonEl =\n",
              "        document.querySelector('#' + key + ' button');\n",
              "      quickchartButtonEl.disabled = true;  // To prevent multiple clicks.\n",
              "      quickchartButtonEl.classList.add('colab-df-spinner');\n",
              "      try {\n",
              "        const charts = await google.colab.kernel.invokeFunction(\n",
              "            'suggestCharts', [key], {});\n",
              "      } catch (error) {\n",
              "        console.error('Error during call to suggestCharts:', error);\n",
              "      }\n",
              "      quickchartButtonEl.classList.remove('colab-df-spinner');\n",
              "      quickchartButtonEl.classList.add('colab-df-quickchart-complete');\n",
              "    }\n",
              "    (() => {\n",
              "      let quickchartButtonEl =\n",
              "        document.querySelector('#df-2a7c4e89-f164-4f56-ae6b-43f93e7087c7 button');\n",
              "      quickchartButtonEl.style.display =\n",
              "        google.colab.kernel.accessAllowed ? 'block' : 'none';\n",
              "    })();\n",
              "  </script>\n",
              "</div>\n",
              "    </div>\n",
              "  </div>\n"
            ]
          },
          "metadata": {}
        },
        {
          "output_type": "stream",
          "name": "stdout",
          "text": [
            "Horn Yes 개수 56 Horn No 개수 24\n"
          ]
        }
      ],
      "source": [
        "sound_dataset = soundDataset(dirPath, csvPath, config=config, other_sound_path=othersourcePath, mixSoundRatio=\"random_ratio\", randomShift=True)"
      ]
    },
    {
      "cell_type": "code",
      "execution_count": 8,
      "metadata": {
        "id": "ymdaVbe4_Cwo"
      },
      "outputs": [],
      "source": [
        "# dataset split\n",
        "train_valid_dataset, test_dataset = random_split(sound_dataset, [config['train_ratio'] + config['valid_ratio'], config['test_ratio']])\n",
        "\n",
        "# 나중에 K-Fold를 사용하여 train_valid_dataset을 train_dataset과 val_dataset으로 나눌것.."
      ]
    },
    {
      "cell_type": "code",
      "execution_count": 9,
      "metadata": {
        "id": "VUl9cCdMrSp9"
      },
      "outputs": [],
      "source": [
        "test_loader  = DataLoader(test_dataset, batch_size=20, shuffle=False , num_workers=config['core'], collate_fn = collate_padder)"
      ]
    },
    {
      "cell_type": "code",
      "source": [
        "#next(iter(test_loader))[0].shape"
      ],
      "metadata": {
        "id": "pVwtcfm38LkR"
      },
      "execution_count": 12,
      "outputs": []
    },
    {
      "cell_type": "code",
      "source": [
        "print(len(train_valid_dataset), len(test_dataset))"
      ],
      "metadata": {
        "colab": {
          "base_uri": "https://localhost:8080/"
        },
        "id": "iWBShLUP2n3l",
        "outputId": "bc222297-1e52-4766-8e33-2dab162cae0f"
      },
      "execution_count": 10,
      "outputs": [
        {
          "output_type": "stream",
          "name": "stdout",
          "text": [
            "64 16\n"
          ]
        }
      ]
    },
    {
      "cell_type": "markdown",
      "metadata": {
        "id": "Fooc1C8CyBE6"
      },
      "source": [
        "### 데이터 증강 기법(SpecAugment) 코드 정의 및 테스트"
      ]
    },
    {
      "cell_type": "code",
      "execution_count": 11,
      "metadata": {
        "id": "XHsF1AjJcV-h",
        "colab": {
          "base_uri": "https://localhost:8080/"
        },
        "outputId": "4fa8a3e5-6e7b-4104-9742-26c065fe5bee"
      },
      "outputs": [
        {
          "output_type": "stream",
          "name": "stderr",
          "text": [
            "/usr/local/lib/python3.10/dist-packages/tensorflow_addons/utils/tfa_eol_msg.py:23: UserWarning: \n",
            "\n",
            "TensorFlow Addons (TFA) has ended development and introduction of new features.\n",
            "TFA has entered a minimal maintenance and release mode until a planned end of life in May 2024.\n",
            "Please modify downstream libraries to take dependencies from other repositories in our TensorFlow community (e.g. Keras, Keras-CV, and Keras-NLP). \n",
            "\n",
            "For more information see: https://github.com/tensorflow/addons/issues/2807 \n",
            "\n",
            "  warnings.warn(\n"
          ]
        }
      ],
      "source": [
        "import random\n",
        "import numpy as np\n",
        "import tensorflow as tf\n",
        "from tensorflow_addons.image import sparse_image_warp\n",
        "# reference: https://github.com/pyyush/SpecAugment\n",
        "class SpecAugment():\n",
        "    def __init__(self, policy, zero_mean_normalized=True):\n",
        "        self.policy = policy\n",
        "        self.zero_mean_normalized = zero_mean_normalized\n",
        "\n",
        "        # Policy Specific Parameters\n",
        "        if self.policy == 'LB':\n",
        "            self.W, self.F, self.m_F, self.T, self.p, self.m_T = 80, 27, 1, 100, 1.0, 1\n",
        "        elif self.policy == 'LD':\n",
        "            self.W, self.F, self.m_F, self.T, self.p, self.m_T = 80, 27, 2, 100, 1.0, 2\n",
        "        elif self.policy == 'SM':\n",
        "            self.W, self.F, self.m_F, self.T, self.p, self.m_T = 40, 15, 2, 70, 0.2, 2\n",
        "        elif self.policy == 'SS':\n",
        "            self.W, self.F, self.m_F, self.T, self.p, self.m_T = 40, 27, 2, 70, 0.2, 2\n",
        "        elif self.policy == 'big':\n",
        "            self.W, self.F, self.m_F, self.T, self.p, self.m_T = 200, 40, 2, 100, 1.0, 4\n",
        "\n",
        "    def timeWarping(self, feature):\n",
        "        # Reshape to [Batch_size, time, freq, 1] for sparse_image_warp func.\n",
        "        feature = np.reshape(feature, (-1, feature.shape[0], feature.shape[1], 1))\n",
        "\n",
        "        v, tau = feature.shape[1], feature.shape[2]\n",
        "\n",
        "        horiz_line_thru_ctr = feature[0][v//2]\n",
        "\n",
        "        random_pt = horiz_line_thru_ctr[random.randrange(self.W, tau - self.W)] # random point along the horizontal/time axis\n",
        "        w = np.random.uniform((-self.W), self.W) # distance\n",
        "\n",
        "        # Source Points\n",
        "        src_points = [[[v//2, random_pt[0]]]]\n",
        "\n",
        "        # Destination Points\n",
        "        dest_points = [[[v//2, random_pt[0] + w]]]\n",
        "\n",
        "        feature, _ = sparse_image_warp(feature, src_points, dest_points, num_boundary_points=2)\n",
        "\n",
        "        return feature\n",
        "\n",
        "    def timeMasking(self, feature):\n",
        "        tau = feature.shape[2] # time frames\n",
        "\n",
        "        # apply m_T time masks to the mel spectrogram\n",
        "        for i in range(self.m_T):\n",
        "            t = int(np.random.uniform(0, self.T)) # [0, T)\n",
        "            upper = tau if t>tau else t#make limitation\n",
        "            t0 = random.randint(0, tau - upper) # [0, tau - t)\n",
        "            feature[:, :, t0:t0 + t] = 0\n",
        "\n",
        "        return feature\n",
        "\n",
        "    def freqMasking(self, feature):\n",
        "        size = feature.shape[1]\n",
        "\n",
        "        for i in range(self.m_F):\n",
        "            f = int(np.random.uniform(0, self.F)) # [0, F)\n",
        "            f0 = random.randint(0, size - f) # [0, v - f)\n",
        "            feature[:, f0:f0 + f] = 0\n",
        "\n",
        "        return feature\n",
        "\n",
        "    def augment(self, feature):\n",
        "        #feature = self.freqMasking(feature)\n",
        "        feature = self.timeMasking(feature)\n",
        "\n",
        "        return feature"
      ]
    },
    {
      "cell_type": "code",
      "execution_count": 12,
      "metadata": {
        "id": "cyzv_CZC864K"
      },
      "outputs": [],
      "source": [
        "augmentor = SpecAugment('big')"
      ]
    },
    {
      "cell_type": "code",
      "execution_count": 13,
      "metadata": {
        "id": "uXmo4nmYKOjR"
      },
      "outputs": [],
      "source": [
        "test = train_valid_dataset[0][0].unsqueeze(0)"
      ]
    },
    {
      "cell_type": "code",
      "execution_count": 14,
      "metadata": {
        "colab": {
          "base_uri": "https://localhost:8080/",
          "height": 370
        },
        "id": "Z-okxKbs8zSF",
        "outputId": "027f43f5-1fba-44e9-9a44-e6340988c8fc"
      },
      "outputs": [
        {
          "output_type": "display_data",
          "data": {
            "text/plain": [
              "<Figure size 640x480 with 0 Axes>"
            ]
          },
          "metadata": {}
        },
        {
          "output_type": "display_data",
          "data": {
            "text/plain": [
              "<Figure size 1000x400 with 2 Axes>"
            ],
            "image/png": "[encoded data removed]"
          },
          "metadata": {}
        }
      ],
      "source": [
        "plot_spectrogram(augmentor.augment(copy.deepcopy( test ) ).squeeze(), str(train_valid_dataset[0][1]))"
      ]
    },
    {
      "cell_type": "markdown",
      "metadata": {
        "id": "dVBiBwoMyOeL"
      },
      "source": [
        "### 모델 정의(resnet18)"
      ]
    },
    {
      "cell_type": "code",
      "execution_count": 15,
      "metadata": {
        "id": "s_5xAbWwsPxP"
      },
      "outputs": [],
      "source": [
        "def prepare_model():\n",
        "    resnet_model = resnet18( weights='IMAGENET1K_V1' )\n",
        "    resnet_model.fc = nn.Linear(512,2)\n",
        "\n",
        "    for m in resnet_model.modules():\n",
        "        if isinstance(m, nn.Conv2d):\n",
        "            nn.init.kaiming_normal_(m.weight, mode=\"fan_out\", nonlinearity=\"relu\")\n",
        "        elif isinstance(m, (nn.BatchNorm2d, nn.GroupNorm)):\n",
        "            nn.init.constant_(m.weight, 1)\n",
        "            nn.init.constant_(m.bias, 0)\n",
        "\n",
        "    return resnet_model"
      ]
    },
    {
      "cell_type": "code",
      "execution_count": 19,
      "metadata": {
        "id": "7FHxJR9tBR_Z"
      },
      "outputs": [],
      "source": [
        "#model = AudioModel(sr=config['sr'], n_mels = config['n_mels'], hidden_size = 40, num_output = 2)"
      ]
    },
    {
      "cell_type": "code",
      "source": [
        "criterion = nn.CrossEntropyLoss()"
      ],
      "metadata": {
        "id": "QH11SzIi0Qpz"
      },
      "execution_count": 16,
      "outputs": []
    },
    {
      "cell_type": "code",
      "source": [
        "from sklearn.model_selection import KFold"
      ],
      "metadata": {
        "id": "Hj4cKPYrGT67"
      },
      "execution_count": 17,
      "outputs": []
    },
    {
      "cell_type": "code",
      "execution_count": 18,
      "metadata": {
        "id": "5nwG2pqHBLgy"
      },
      "outputs": [],
      "source": [
        "def number_of_correct(pred, target):\n",
        "    # count number of correct predictions\n",
        "    return pred.squeeze().eq(target).sum().item()\n",
        "\n",
        "def get_likely_index(tensor):\n",
        "    # find most likely label index for each element in the batch\n",
        "    return tensor.argmax(dim=-1)\n",
        "\n",
        "\n",
        "def train(model, epoch, train_loader, path, optimizer = None, loss_record=None, pbar=None, pbar_update=None, total=None):\n",
        "    model.train()\n",
        "\n",
        "    correct_train = 0\n",
        "    for batch in train_loader:\n",
        "        audio, label = batch\n",
        "\n",
        "        data = audio.to(device)\n",
        "        target = label.to(device)\n",
        "        data = augmentor.augment(data)\n",
        "\n",
        "        expanded_data = torch.stack([data]*3, dim=1)\n",
        "        output = model(expanded_data)\n",
        "\n",
        "        pred = get_likely_index(output)\n",
        "        target = get_likely_index(target)\n",
        "        correct_train += number_of_correct(pred, target)\n",
        "\n",
        "        # negative log-likelihood for a tensor of size (batch x 1 x n_output)\n",
        "        loss = criterion(output, target)\n",
        "\n",
        "        optimizer.zero_grad()\n",
        "        loss.backward()\n",
        "        optimizer.step()\n",
        "\n",
        "        # update progress bar\n",
        "        pbar.update(pbar_update)\n",
        "        #save model\n",
        "        if len(loss_record)>0:\n",
        "            if min(loss_record) > loss.item():\n",
        "                print(\"save mode at \", epoch)\n",
        "                torch.save(model.state_dict(), path)\n",
        "        # record loss\n",
        "        loss_record.append(loss.item())\n",
        "\n",
        "    print(f\"\\nTrain Epoch: {epoch}\\tAccuracy: {correct_train}/{total} ({100. * correct_train / total:.0f}%)\\n\")\n",
        "    return (100. * correct_train / total)"
      ]
    },
    {
      "cell_type": "code",
      "execution_count": 19,
      "metadata": {
        "id": "tBjIeLAhBNqS"
      },
      "outputs": [],
      "source": [
        "def valid(model, epoch, valid_loader, optimizer = None, pbar=None, pbar_update=None, total=None):\n",
        "    model.eval()\n",
        "    correct = 0\n",
        "    for data, target in valid_loader:\n",
        "\n",
        "        data = data.to(device)\n",
        "        target = target.to(device)\n",
        "\n",
        "        expanded_data = torch.stack([data]*3, dim=1)\n",
        "        output = model(expanded_data)\n",
        "\n",
        "        pred = get_likely_index(output)\n",
        "        target = get_likely_index(target)\n",
        "        correct += number_of_correct(pred, target)\n",
        "\n",
        "        # update progress bar\n",
        "        pbar.update(pbar_update)\n",
        "\n",
        "    print(f\"\\nValid Epoch: {epoch}\\tAccuracy: {correct}/{total} ({100. * correct / total:.0f}%)\\n\")\n",
        "    return (100. * correct / total)"
      ]
    },
    {
      "cell_type": "code",
      "source": [
        "def kfold_training(k, train_valid_dataset, config):\n",
        "\n",
        "    kf = KFold(n_splits=k, shuffle=True, random_state=42)\n",
        "\n",
        "    all_train_accuracy = []\n",
        "    all_valid_accuracy = []\n",
        "\n",
        "    for fold, (train_idx, valid_idx) in enumerate(kf.split(train_valid_dataset)):\n",
        "        print(f\"Fold {fold + 1}/{k}\")\n",
        "\n",
        "        model = prepare_model()\n",
        "        model = model.to(device)\n",
        "\n",
        "        optimizer = optim.Adam(model.parameters(), lr=0.001, weight_decay=0.0001)\n",
        "        scheduler = optim.lr_scheduler.StepLR(optimizer, step_size=10, gamma=0.5)\n",
        "\n",
        "        print(len(train_idx), len(valid_idx))\n",
        "        # subset / dataloader\n",
        "        train_subsampler = torch.utils.data.SubsetRandomSampler(train_idx)\n",
        "        valid_subsampler = torch.utils.data.SubsetRandomSampler(valid_idx)\n",
        "\n",
        "        train_loader = DataLoader(train_valid_dataset, batch_size=10, sampler=train_subsampler, num_workers=config['core'], collate_fn=collate_padder)\n",
        "        valid_loader = DataLoader(train_valid_dataset, batch_size=10, sampler=valid_subsampler, num_workers=config['core'], collate_fn=collate_padder)\n",
        "\n",
        "        pbar_update = 1 / (len(train_loader) + len(test_loader))\n",
        "\n",
        "        # training / validation\n",
        "        losses = []\n",
        "        train_accuracy = []\n",
        "        valid_accuracy = []\n",
        "\n",
        "        pbar_update = 1 / (len(train_loader) + len(valid_loader))\n",
        "        path = \"./best_model_fold\"+str(fold)+\".pt\"\n",
        "        with tqdm(total=config['n_epoch']) as pbar:\n",
        "            for epoch in range(1, config['n_epoch'] + 1):\n",
        "                train_acc_per_epoch = train(model, epoch, train_loader, path, optimizer = optimizer, loss_record = losses, pbar = pbar, pbar_update=pbar_update, total=len(train_idx))\n",
        "                valid_acc_per_epoch = valid(model, epoch, valid_loader, optimizer = optimizer, pbar = pbar, pbar_update=pbar_update, total=len(valid_idx))\n",
        "\n",
        "                train_accuracy.append(train_acc_per_epoch)\n",
        "                valid_accuracy.append(valid_acc_per_epoch)\n",
        "\n",
        "                scheduler.step()\n",
        "\n",
        "        all_train_accuracy.append(train_accuracy)\n",
        "        all_valid_accuracy.append(valid_accuracy)\n",
        "\n",
        "    return all_train_accuracy, all_valid_accuracy, losses"
      ],
      "metadata": {
        "id": "MpejDxf8GiHs"
      },
      "execution_count": 20,
      "outputs": []
    },
    {
      "cell_type": "code",
      "source": [
        "k = 5\n",
        "all_train_accuracy, all_valid_accuracy, losses = kfold_training(k, train_valid_dataset, config)"
      ],
      "metadata": {
        "colab": {
          "base_uri": "https://localhost:8080/"
        },
        "id": "rVdqy_IBIX1o",
        "outputId": "f8eb0e40-2512-4b14-e732-04e85f543a52"
      },
      "execution_count": 25,
      "outputs": [
        {
          "output_type": "stream",
          "name": "stdout",
          "text": [
            "Fold 1/5\n"
          ]
        },
        {
          "output_type": "stream",
          "name": "stderr",
          "text": [
            "Downloading: \"https://download.pytorch.org/models/resnet18-f37072fd.pth\" to /root/.cache/torch/hub/checkpoints/resnet18-f37072fd.pth\n",
            "100%|██████████| 44.7M/44.7M [00:00<00:00, 357MB/s]\n"
          ]
        },
        {
          "output_type": "stream",
          "name": "stdout",
          "text": [
            "51 13\n"
          ]
        },
        {
          "output_type": "stream",
          "name": "stderr",
          "text": [
            "  2%|▎         | 0.625/25 [00:28<08:23, 20.65s/it]"
          ]
        },
        {
          "output_type": "stream",
          "name": "stdout",
          "text": [
            "save mode at  1\n"
          ]
        },
        {
          "output_type": "stream",
          "name": "stderr",
          "text": [
            "\r  3%|▎         | 0.75/25 [00:28<05:38, 13.98s/it] "
          ]
        },
        {
          "output_type": "stream",
          "name": "stdout",
          "text": [
            "\n",
            "Train Epoch: 1\tAccuracy: 21/51 (41%)\n",
            "\n"
          ]
        },
        {
          "output_type": "stream",
          "name": "stderr",
          "text": [
            "\r  4%|▎         | 0.875/25 [00:36<11:44, 29.19s/it]"
          ]
        },
        {
          "output_type": "stream",
          "name": "stdout",
          "text": [
            "\n",
            "Valid Epoch: 1\tAccuracy: 8/13 (62%)\n",
            "\n"
          ]
        },
        {
          "output_type": "stream",
          "name": "stderr",
          "text": [
            "  6%|▌         | 1.5/25 [00:44<05:06, 13.05s/it]  "
          ]
        },
        {
          "output_type": "stream",
          "name": "stdout",
          "text": [
            "save mode at  2\n",
            "save mode at  2\n"
          ]
        },
        {
          "output_type": "stream",
          "name": "stderr",
          "text": [
            "  7%|▋         | 1.75/25 [00:45<02:52,  7.44s/it] "
          ]
        },
        {
          "output_type": "stream",
          "name": "stdout",
          "text": [
            "save mode at  2\n",
            "save mode at  2\n",
            "\n",
            "Train Epoch: 2\tAccuracy: 34/51 (67%)\n",
            "\n"
          ]
        },
        {
          "output_type": "stream",
          "name": "stderr",
          "text": [
            "\r  8%|▊         | 1.875/25 [00:53<09:33, 24.79s/it]"
          ]
        },
        {
          "output_type": "stream",
          "name": "stdout",
          "text": [
            "\n",
            "Valid Epoch: 2\tAccuracy: 5/13 (38%)\n",
            "\n"
          ]
        },
        {
          "output_type": "stream",
          "name": "stderr",
          "text": [
            " 11%|█         | 2.75/25 [01:02<02:27,  6.64s/it] "
          ]
        },
        {
          "output_type": "stream",
          "name": "stdout",
          "text": [
            "\n",
            "Train Epoch: 3\tAccuracy: 33/51 (65%)\n",
            "\n"
          ]
        },
        {
          "output_type": "stream",
          "name": "stderr",
          "text": [
            "\r 12%|█▏        | 2.875/25 [01:09<08:14, 22.36s/it]"
          ]
        },
        {
          "output_type": "stream",
          "name": "stdout",
          "text": [
            "\n",
            "Valid Epoch: 3\tAccuracy: 5/13 (38%)\n",
            "\n"
          ]
        },
        {
          "output_type": "stream",
          "name": "stderr",
          "text": [
            " 14%|█▍        | 3.5/25 [01:17<04:06, 11.49s/it]  "
          ]
        },
        {
          "output_type": "stream",
          "name": "stdout",
          "text": [
            "save mode at  4\n"
          ]
        },
        {
          "output_type": "stream",
          "name": "stderr",
          "text": [
            " 15%|█▌        | 3.75/25 [01:18<02:15,  6.37s/it] "
          ]
        },
        {
          "output_type": "stream",
          "name": "stdout",
          "text": [
            "\n",
            "Train Epoch: 4\tAccuracy: 39/51 (76%)\n",
            "\n"
          ]
        },
        {
          "output_type": "stream",
          "name": "stderr",
          "text": [
            "\r 16%|█▌        | 3.875/25 [01:25<07:35, 21.56s/it]"
          ]
        },
        {
          "output_type": "stream",
          "name": "stdout",
          "text": [
            "\n",
            "Valid Epoch: 4\tAccuracy: 5/13 (38%)\n",
            "\n"
          ]
        },
        {
          "output_type": "stream",
          "name": "stderr",
          "text": [
            " 17%|█▋        | 4.25/25 [01:33<06:41, 19.34s/it] "
          ]
        },
        {
          "output_type": "stream",
          "name": "stdout",
          "text": [
            "save mode at  5\n"
          ]
        },
        {
          "output_type": "stream",
          "name": "stderr",
          "text": [
            " 19%|█▉        | 4.75/25 [01:33<02:12,  6.52s/it] "
          ]
        },
        {
          "output_type": "stream",
          "name": "stdout",
          "text": [
            "\n",
            "Train Epoch: 5\tAccuracy: 40/51 (78%)\n",
            "\n"
          ]
        },
        {
          "output_type": "stream",
          "name": "stderr",
          "text": [
            "\r 20%|█▉        | 4.875/25 [01:41<07:34, 22.58s/it]"
          ]
        },
        {
          "output_type": "stream",
          "name": "stdout",
          "text": [
            "\n",
            "Valid Epoch: 5\tAccuracy: 5/13 (38%)\n",
            "\n"
          ]
        },
        {
          "output_type": "stream",
          "name": "stderr",
          "text": [
            " 22%|██▏       | 5.5/25 [01:49<03:42, 11.40s/it]  "
          ]
        },
        {
          "output_type": "stream",
          "name": "stdout",
          "text": [
            "save mode at  6\n"
          ]
        },
        {
          "output_type": "stream",
          "name": "stderr",
          "text": [
            " 23%|██▎       | 5.75/25 [01:49<02:04,  6.48s/it] "
          ]
        },
        {
          "output_type": "stream",
          "name": "stdout",
          "text": [
            "\n",
            "Train Epoch: 6\tAccuracy: 36/51 (71%)\n",
            "\n"
          ]
        },
        {
          "output_type": "stream",
          "name": "stderr",
          "text": [
            "\r 24%|██▎       | 5.875/25 [01:57<07:06, 22.32s/it]"
          ]
        },
        {
          "output_type": "stream",
          "name": "stdout",
          "text": [
            "\n",
            "Valid Epoch: 6\tAccuracy: 11/13 (85%)\n",
            "\n"
          ]
        },
        {
          "output_type": "stream",
          "name": "stderr",
          "text": [
            " 27%|██▋       | 6.75/25 [02:06<01:58,  6.47s/it] "
          ]
        },
        {
          "output_type": "stream",
          "name": "stdout",
          "text": [
            "\n",
            "Train Epoch: 7\tAccuracy: 37/51 (73%)\n",
            "\n"
          ]
        },
        {
          "output_type": "stream",
          "name": "stderr",
          "text": [
            "\r 28%|██▊       | 6.875/25 [02:13<06:08, 20.35s/it]"
          ]
        },
        {
          "output_type": "stream",
          "name": "stdout",
          "text": [
            "\n",
            "Valid Epoch: 7\tAccuracy: 7/13 (54%)\n",
            "\n"
          ]
        },
        {
          "output_type": "stream",
          "name": "stderr",
          "text": [
            " 31%|███       | 7.75/25 [02:21<01:48,  6.27s/it] "
          ]
        },
        {
          "output_type": "stream",
          "name": "stdout",
          "text": [
            "\n",
            "Train Epoch: 8\tAccuracy: 36/51 (71%)\n",
            "\n"
          ]
        },
        {
          "output_type": "stream",
          "name": "stderr",
          "text": [
            "\r 32%|███▏      | 7.875/25 [02:28<05:39, 19.83s/it]"
          ]
        },
        {
          "output_type": "stream",
          "name": "stdout",
          "text": [
            "\n",
            "Valid Epoch: 8\tAccuracy: 9/13 (69%)\n",
            "\n"
          ]
        },
        {
          "output_type": "stream",
          "name": "stderr",
          "text": [
            " 35%|███▌      | 8.75/25 [02:36<01:44,  6.41s/it] "
          ]
        },
        {
          "output_type": "stream",
          "name": "stdout",
          "text": [
            "\n",
            "Train Epoch: 9\tAccuracy: 37/51 (73%)\n",
            "\n"
          ]
        },
        {
          "output_type": "stream",
          "name": "stderr",
          "text": [
            "\r 36%|███▌      | 8.875/25 [02:43<05:27, 20.31s/it]"
          ]
        },
        {
          "output_type": "stream",
          "name": "stdout",
          "text": [
            "\n",
            "Valid Epoch: 9\tAccuracy: 6/13 (46%)\n",
            "\n"
          ]
        },
        {
          "output_type": "stream",
          "name": "stderr",
          "text": [
            " 39%|███▉      | 9.75/25 [02:51<01:31,  6.03s/it] "
          ]
        },
        {
          "output_type": "stream",
          "name": "stdout",
          "text": [
            "\n",
            "Train Epoch: 10\tAccuracy: 37/51 (73%)\n",
            "\n"
          ]
        },
        {
          "output_type": "stream",
          "name": "stderr",
          "text": [
            "\r 40%|███▉      | 9.875/25 [02:59<05:26, 21.60s/it]"
          ]
        },
        {
          "output_type": "stream",
          "name": "stdout",
          "text": [
            "\n",
            "Valid Epoch: 10\tAccuracy: 11/13 (85%)\n",
            "\n"
          ]
        },
        {
          "output_type": "stream",
          "name": "stderr",
          "text": [
            " 43%|████▎     | 10.75/25 [03:07<01:28,  6.22s/it] "
          ]
        },
        {
          "output_type": "stream",
          "name": "stdout",
          "text": [
            "\n",
            "Train Epoch: 11\tAccuracy: 44/51 (86%)\n",
            "\n"
          ]
        },
        {
          "output_type": "stream",
          "name": "stderr",
          "text": [
            "\r 44%|████▎     | 10.875/25 [03:15<05:08, 21.81s/it]"
          ]
        },
        {
          "output_type": "stream",
          "name": "stdout",
          "text": [
            "\n",
            "Valid Epoch: 11\tAccuracy: 8/13 (62%)\n",
            "\n"
          ]
        },
        {
          "output_type": "stream",
          "name": "stderr",
          "text": [
            " 47%|████▋     | 11.75/25 [03:23<01:23,  6.29s/it] "
          ]
        },
        {
          "output_type": "stream",
          "name": "stdout",
          "text": [
            "\n",
            "Train Epoch: 12\tAccuracy: 37/51 (73%)\n",
            "\n"
          ]
        },
        {
          "output_type": "stream",
          "name": "stderr",
          "text": [
            "\r 48%|████▊     | 11.875/25 [03:31<04:49, 22.07s/it]"
          ]
        },
        {
          "output_type": "stream",
          "name": "stdout",
          "text": [
            "\n",
            "Valid Epoch: 12\tAccuracy: 6/13 (46%)\n",
            "\n"
          ]
        },
        {
          "output_type": "stream",
          "name": "stderr",
          "text": [
            " 51%|█████     | 12.75/25 [03:39<01:15,  6.19s/it] "
          ]
        },
        {
          "output_type": "stream",
          "name": "stdout",
          "text": [
            "\n",
            "Train Epoch: 13\tAccuracy: 37/51 (73%)\n",
            "\n"
          ]
        },
        {
          "output_type": "stream",
          "name": "stderr",
          "text": [
            "\r 52%|█████▏    | 12.875/25 [03:46<04:14, 20.97s/it]"
          ]
        },
        {
          "output_type": "stream",
          "name": "stdout",
          "text": [
            "\n",
            "Valid Epoch: 13\tAccuracy: 7/13 (54%)\n",
            "\n"
          ]
        },
        {
          "output_type": "stream",
          "name": "stderr",
          "text": [
            " 55%|█████▌    | 13.75/25 [03:54<01:09,  6.14s/it] "
          ]
        },
        {
          "output_type": "stream",
          "name": "stdout",
          "text": [
            "\n",
            "Train Epoch: 14\tAccuracy: 42/51 (82%)\n",
            "\n"
          ]
        },
        {
          "output_type": "stream",
          "name": "stderr",
          "text": [
            "\r 56%|█████▌    | 13.875/25 [04:02<03:56, 21.26s/it]"
          ]
        },
        {
          "output_type": "stream",
          "name": "stdout",
          "text": [
            "\n",
            "Valid Epoch: 14\tAccuracy: 8/13 (62%)\n",
            "\n"
          ]
        },
        {
          "output_type": "stream",
          "name": "stderr",
          "text": [
            " 59%|█████▉    | 14.75/25 [04:10<01:06,  6.50s/it] "
          ]
        },
        {
          "output_type": "stream",
          "name": "stdout",
          "text": [
            "save mode at  15\n",
            "\n",
            "Train Epoch: 15\tAccuracy: 41/51 (80%)\n",
            "\n"
          ]
        },
        {
          "output_type": "stream",
          "name": "stderr",
          "text": [
            "\r 60%|█████▉    | 14.875/25 [04:17<03:31, 20.92s/it]"
          ]
        },
        {
          "output_type": "stream",
          "name": "stdout",
          "text": [
            "\n",
            "Valid Epoch: 15\tAccuracy: 9/13 (69%)\n",
            "\n"
          ]
        },
        {
          "output_type": "stream",
          "name": "stderr",
          "text": [
            " 63%|██████▎   | 15.75/25 [04:25<00:56,  6.14s/it] "
          ]
        },
        {
          "output_type": "stream",
          "name": "stdout",
          "text": [
            "save mode at  16\n",
            "\n",
            "Train Epoch: 16\tAccuracy: 44/51 (86%)\n",
            "\n"
          ]
        },
        {
          "output_type": "stream",
          "name": "stderr",
          "text": [
            "\r 64%|██████▎   | 15.875/25 [04:31<02:57, 19.48s/it]"
          ]
        },
        {
          "output_type": "stream",
          "name": "stdout",
          "text": [
            "\n",
            "Valid Epoch: 16\tAccuracy: 11/13 (85%)\n",
            "\n"
          ]
        },
        {
          "output_type": "stream",
          "name": "stderr",
          "text": [
            " 67%|██████▋   | 16.75/25 [04:40<00:50,  6.14s/it] "
          ]
        },
        {
          "output_type": "stream",
          "name": "stdout",
          "text": [
            "\n",
            "Train Epoch: 17\tAccuracy: 45/51 (88%)\n",
            "\n"
          ]
        },
        {
          "output_type": "stream",
          "name": "stderr",
          "text": [
            "\r 68%|██████▊   | 16.875/25 [04:48<03:00, 22.25s/it]"
          ]
        },
        {
          "output_type": "stream",
          "name": "stdout",
          "text": [
            "\n",
            "Valid Epoch: 17\tAccuracy: 11/13 (85%)\n",
            "\n"
          ]
        },
        {
          "output_type": "stream",
          "name": "stderr",
          "text": [
            " 71%|███████   | 17.75/25 [04:55<00:46,  6.38s/it] "
          ]
        },
        {
          "output_type": "stream",
          "name": "stdout",
          "text": [
            "save mode at  18\n",
            "\n",
            "Train Epoch: 18\tAccuracy: 40/51 (78%)\n",
            "\n"
          ]
        },
        {
          "output_type": "stream",
          "name": "stderr",
          "text": [
            "\r 72%|███████▏  | 17.875/25 [05:02<02:31, 21.26s/it]"
          ]
        },
        {
          "output_type": "stream",
          "name": "stdout",
          "text": [
            "\n",
            "Valid Epoch: 18\tAccuracy: 10/13 (77%)\n",
            "\n"
          ]
        },
        {
          "output_type": "stream",
          "name": "stderr",
          "text": [
            " 75%|███████▌  | 18.75/25 [05:10<00:37,  6.05s/it] "
          ]
        },
        {
          "output_type": "stream",
          "name": "stdout",
          "text": [
            "\n",
            "Train Epoch: 19\tAccuracy: 45/51 (88%)\n",
            "\n"
          ]
        },
        {
          "output_type": "stream",
          "name": "stderr",
          "text": [
            "\r 76%|███████▌  | 18.875/25 [05:17<01:56, 19.00s/it]"
          ]
        },
        {
          "output_type": "stream",
          "name": "stdout",
          "text": [
            "\n",
            "Valid Epoch: 19\tAccuracy: 10/13 (77%)\n",
            "\n"
          ]
        },
        {
          "output_type": "stream",
          "name": "stderr",
          "text": [
            " 79%|███████▉  | 19.75/25 [05:25<00:35,  6.68s/it] "
          ]
        },
        {
          "output_type": "stream",
          "name": "stdout",
          "text": [
            "\n",
            "Train Epoch: 20\tAccuracy: 44/51 (86%)\n",
            "\n"
          ]
        },
        {
          "output_type": "stream",
          "name": "stderr",
          "text": [
            "\r 80%|███████▉  | 19.875/25 [05:32<01:41, 19.72s/it]"
          ]
        },
        {
          "output_type": "stream",
          "name": "stdout",
          "text": [
            "\n",
            "Valid Epoch: 20\tAccuracy: 10/13 (77%)\n",
            "\n"
          ]
        },
        {
          "output_type": "stream",
          "name": "stderr",
          "text": [
            " 83%|████████▎ | 20.75/25 [05:40<00:27,  6.52s/it] "
          ]
        },
        {
          "output_type": "stream",
          "name": "stdout",
          "text": [
            "save mode at  21\n",
            "\n",
            "Train Epoch: 21\tAccuracy: 45/51 (88%)\n",
            "\n"
          ]
        },
        {
          "output_type": "stream",
          "name": "stderr",
          "text": [
            "\r 84%|████████▎ | 20.875/25 [05:46<01:20, 19.42s/it]"
          ]
        },
        {
          "output_type": "stream",
          "name": "stdout",
          "text": [
            "\n",
            "Valid Epoch: 21\tAccuracy: 9/13 (69%)\n",
            "\n"
          ]
        },
        {
          "output_type": "stream",
          "name": "stderr",
          "text": [
            " 87%|████████▋ | 21.75/25 [05:53<00:18,  5.83s/it] "
          ]
        },
        {
          "output_type": "stream",
          "name": "stdout",
          "text": [
            "\n",
            "Train Epoch: 22\tAccuracy: 42/51 (82%)\n",
            "\n"
          ]
        },
        {
          "output_type": "stream",
          "name": "stderr",
          "text": [
            "\r 88%|████████▊ | 21.875/25 [06:00<00:58, 18.85s/it]"
          ]
        },
        {
          "output_type": "stream",
          "name": "stdout",
          "text": [
            "\n",
            "Valid Epoch: 22\tAccuracy: 11/13 (85%)\n",
            "\n"
          ]
        },
        {
          "output_type": "stream",
          "name": "stderr",
          "text": [
            " 91%|█████████ | 22.75/25 [06:08<00:13,  5.95s/it] "
          ]
        },
        {
          "output_type": "stream",
          "name": "stdout",
          "text": [
            "\n",
            "Train Epoch: 23\tAccuracy: 44/51 (86%)\n",
            "\n"
          ]
        },
        {
          "output_type": "stream",
          "name": "stderr",
          "text": [
            "\r 92%|█████████▏| 22.875/25 [06:15<00:46, 21.90s/it]"
          ]
        },
        {
          "output_type": "stream",
          "name": "stdout",
          "text": [
            "\n",
            "Valid Epoch: 23\tAccuracy: 10/13 (77%)\n",
            "\n"
          ]
        },
        {
          "output_type": "stream",
          "name": "stderr",
          "text": [
            " 95%|█████████▌| 23.75/25 [06:23<00:07,  5.97s/it] "
          ]
        },
        {
          "output_type": "stream",
          "name": "stdout",
          "text": [
            "\n",
            "Train Epoch: 24\tAccuracy: 46/51 (90%)\n",
            "\n"
          ]
        },
        {
          "output_type": "stream",
          "name": "stderr",
          "text": [
            "\r 96%|█████████▌| 23.875/25 [06:28<00:19, 17.21s/it]"
          ]
        },
        {
          "output_type": "stream",
          "name": "stdout",
          "text": [
            "\n",
            "Valid Epoch: 24\tAccuracy: 11/13 (85%)\n",
            "\n"
          ]
        },
        {
          "output_type": "stream",
          "name": "stderr",
          "text": [
            " 99%|█████████▉| 24.75/25 [06:37<00:01,  6.31s/it] "
          ]
        },
        {
          "output_type": "stream",
          "name": "stdout",
          "text": [
            "\n",
            "Train Epoch: 25\tAccuracy: 42/51 (82%)\n",
            "\n"
          ]
        },
        {
          "output_type": "stream",
          "name": "stderr",
          "text": [
            "100%|██████████| 25.0/25 [06:44<00:00, 16.18s/it]  \n"
          ]
        },
        {
          "output_type": "stream",
          "name": "stdout",
          "text": [
            "\n",
            "Valid Epoch: 25\tAccuracy: 8/13 (62%)\n",
            "\n",
            "Fold 2/5\n",
            "51 13\n"
          ]
        },
        {
          "output_type": "stream",
          "name": "stderr",
          "text": [
            "  2%|▏         | 0.375/25 [00:07<05:49, 14.20s/it]"
          ]
        },
        {
          "output_type": "stream",
          "name": "stdout",
          "text": [
            "save mode at  1\n"
          ]
        },
        {
          "output_type": "stream",
          "name": "stderr",
          "text": [
            "\r  2%|▏         | 0.5/25 [00:07<03:51,  9.45s/it]  "
          ]
        },
        {
          "output_type": "stream",
          "name": "stdout",
          "text": [
            "save mode at  1\n",
            "save mode at  "
          ]
        },
        {
          "output_type": "stream",
          "name": "stderr",
          "text": [
            "\r  2%|▎         | 0.625/25 [00:08<02:42,  6.67s/it]"
          ]
        },
        {
          "output_type": "stream",
          "name": "stdout",
          "text": [
            "1\n"
          ]
        },
        {
          "output_type": "stream",
          "name": "stderr",
          "text": [
            "\r  3%|▎         | 0.75/25 [00:08<01:58,  4.88s/it] "
          ]
        },
        {
          "output_type": "stream",
          "name": "stdout",
          "text": [
            "save mode at  1\n",
            "save mode at  1\n",
            "\n",
            "Train Epoch: 1\tAccuracy: 32/51 (63%)\n",
            "\n"
          ]
        },
        {
          "output_type": "stream",
          "name": "stderr",
          "text": [
            "\r  4%|▎         | 0.875/25 [00:14<07:24, 18.42s/it]"
          ]
        },
        {
          "output_type": "stream",
          "name": "stdout",
          "text": [
            "\n",
            "Valid Epoch: 1\tAccuracy: 7/13 (54%)\n",
            "\n"
          ]
        },
        {
          "output_type": "stream",
          "name": "stderr",
          "text": [
            "  7%|▋         | 1.75/25 [00:22<02:08,  5.54s/it] "
          ]
        },
        {
          "output_type": "stream",
          "name": "stdout",
          "text": [
            "save mode at  2\n",
            "\n",
            "Train Epoch: 2\tAccuracy: 34/51 (67%)\n",
            "\n"
          ]
        },
        {
          "output_type": "stream",
          "name": "stderr",
          "text": [
            "\r  8%|▊         | 1.875/25 [00:28<07:42, 19.98s/it]"
          ]
        },
        {
          "output_type": "stream",
          "name": "stdout",
          "text": [
            "\n",
            "Valid Epoch: 2\tAccuracy: 7/13 (54%)\n",
            "\n"
          ]
        },
        {
          "output_type": "stream",
          "name": "stderr",
          "text": [
            " 11%|█         | 2.75/25 [00:36<02:15,  6.09s/it] "
          ]
        },
        {
          "output_type": "stream",
          "name": "stdout",
          "text": [
            "\n",
            "Train Epoch: 3\tAccuracy: 40/51 (78%)\n",
            "\n"
          ]
        },
        {
          "output_type": "stream",
          "name": "stderr",
          "text": [
            "\r 12%|█▏        | 2.875/25 [00:42<06:26, 17.49s/it]"
          ]
        },
        {
          "output_type": "stream",
          "name": "stdout",
          "text": [
            "\n",
            "Valid Epoch: 3\tAccuracy: 7/13 (54%)\n",
            "\n"
          ]
        },
        {
          "output_type": "stream",
          "name": "stderr",
          "text": [
            " 14%|█▍        | 3.625/25 [00:50<02:52,  8.07s/it]"
          ]
        },
        {
          "output_type": "stream",
          "name": "stdout",
          "text": [
            "\n",
            "Train Epoch: 4\tAccuracy: 34/51 (67%)\n",
            "\n"
          ]
        },
        {
          "output_type": "stream",
          "name": "stderr",
          "text": [
            "\r 16%|█▌        | 3.875/25 [00:56<04:53, 13.91s/it]"
          ]
        },
        {
          "output_type": "stream",
          "name": "stdout",
          "text": [
            "\n",
            "Valid Epoch: 4\tAccuracy: 7/13 (54%)\n",
            "\n"
          ]
        },
        {
          "output_type": "stream",
          "name": "stderr",
          "text": [
            " 19%|█▉        | 4.75/25 [01:03<01:49,  5.39s/it] "
          ]
        },
        {
          "output_type": "stream",
          "name": "stdout",
          "text": [
            "\n",
            "Train Epoch: 5\tAccuracy: 43/51 (84%)\n",
            "\n"
          ]
        },
        {
          "output_type": "stream",
          "name": "stderr",
          "text": [
            "\r 20%|█▉        | 4.875/25 [01:09<05:58, 17.81s/it]"
          ]
        },
        {
          "output_type": "stream",
          "name": "stdout",
          "text": [
            "\n",
            "Valid Epoch: 5\tAccuracy: 12/13 (92%)\n",
            "\n"
          ]
        },
        {
          "output_type": "stream",
          "name": "stderr",
          "text": [
            " 23%|██▎       | 5.75/25 [01:18<02:16,  7.07s/it] "
          ]
        },
        {
          "output_type": "stream",
          "name": "stdout",
          "text": [
            "\n",
            "Train Epoch: 6\tAccuracy: 44/51 (86%)\n",
            "\n"
          ]
        },
        {
          "output_type": "stream",
          "name": "stderr",
          "text": [
            "\r 24%|██▎       | 5.875/25 [01:25<06:23, 20.07s/it]"
          ]
        },
        {
          "output_type": "stream",
          "name": "stdout",
          "text": [
            "\n",
            "Valid Epoch: 6\tAccuracy: 10/13 (77%)\n",
            "\n"
          ]
        },
        {
          "output_type": "stream",
          "name": "stderr",
          "text": [
            " 26%|██▋       | 6.625/25 [01:32<02:20,  7.62s/it]"
          ]
        },
        {
          "output_type": "stream",
          "name": "stdout",
          "text": [
            "\n",
            "Train Epoch: 7\tAccuracy: 40/51 (78%)\n",
            "\n"
          ]
        },
        {
          "output_type": "stream",
          "name": "stderr",
          "text": [
            "\r 28%|██▊       | 6.875/25 [01:38<04:48, 15.93s/it]"
          ]
        },
        {
          "output_type": "stream",
          "name": "stdout",
          "text": [
            "\n",
            "Valid Epoch: 7\tAccuracy: 10/13 (77%)\n",
            "\n"
          ]
        },
        {
          "output_type": "stream",
          "name": "stderr",
          "text": [
            " 30%|███       | 7.625/25 [01:46<02:14,  7.76s/it]"
          ]
        },
        {
          "output_type": "stream",
          "name": "stdout",
          "text": [
            "\n",
            "Train Epoch: 8\tAccuracy: 41/51 (80%)\n",
            "\n"
          ]
        },
        {
          "output_type": "stream",
          "name": "stderr",
          "text": [
            "\r 32%|███▏      | 7.875/25 [01:54<05:23, 18.89s/it]"
          ]
        },
        {
          "output_type": "stream",
          "name": "stdout",
          "text": [
            "\n",
            "Valid Epoch: 8\tAccuracy: 10/13 (77%)\n",
            "\n"
          ]
        },
        {
          "output_type": "stream",
          "name": "stderr",
          "text": [
            " 35%|███▌      | 8.75/25 [02:02<01:46,  6.58s/it] "
          ]
        },
        {
          "output_type": "stream",
          "name": "stdout",
          "text": [
            "\n",
            "Train Epoch: 9\tAccuracy: 47/51 (92%)\n",
            "\n"
          ]
        },
        {
          "output_type": "stream",
          "name": "stderr",
          "text": [
            "\r 36%|███▌      | 8.875/25 [02:06<04:05, 15.23s/it]"
          ]
        },
        {
          "output_type": "stream",
          "name": "stdout",
          "text": [
            "\n",
            "Valid Epoch: 9\tAccuracy: 10/13 (77%)\n",
            "\n"
          ]
        },
        {
          "output_type": "stream",
          "name": "stderr",
          "text": [
            " 39%|███▉      | 9.75/25 [02:15<01:36,  6.30s/it] "
          ]
        },
        {
          "output_type": "stream",
          "name": "stdout",
          "text": [
            "\n",
            "Train Epoch: 10\tAccuracy: 43/51 (84%)\n",
            "\n"
          ]
        },
        {
          "output_type": "stream",
          "name": "stderr",
          "text": [
            "\r 40%|███▉      | 9.875/25 [02:19<03:51, 15.33s/it]"
          ]
        },
        {
          "output_type": "stream",
          "name": "stdout",
          "text": [
            "\n",
            "Valid Epoch: 10\tAccuracy: 8/13 (62%)\n",
            "\n"
          ]
        },
        {
          "output_type": "stream",
          "name": "stderr",
          "text": [
            " 43%|████▎     | 10.75/25 [02:27<01:20,  5.65s/it] "
          ]
        },
        {
          "output_type": "stream",
          "name": "stdout",
          "text": [
            "\n",
            "Train Epoch: 11\tAccuracy: 41/51 (80%)\n",
            "\n"
          ]
        },
        {
          "output_type": "stream",
          "name": "stderr",
          "text": [
            "\r 44%|████▎     | 10.875/25 [02:34<04:33, 19.38s/it]"
          ]
        },
        {
          "output_type": "stream",
          "name": "stdout",
          "text": [
            "\n",
            "Valid Epoch: 11\tAccuracy: 9/13 (69%)\n",
            "\n"
          ]
        },
        {
          "output_type": "stream",
          "name": "stderr",
          "text": [
            " 47%|████▋     | 11.75/25 [02:42<01:28,  6.71s/it] "
          ]
        },
        {
          "output_type": "stream",
          "name": "stdout",
          "text": [
            "\n",
            "Train Epoch: 12\tAccuracy: 42/51 (82%)\n",
            "\n"
          ]
        },
        {
          "output_type": "stream",
          "name": "stderr",
          "text": [
            "\r 48%|████▊     | 11.875/25 [02:48<04:14, 19.40s/it]"
          ]
        },
        {
          "output_type": "stream",
          "name": "stdout",
          "text": [
            "\n",
            "Valid Epoch: 12\tAccuracy: 10/13 (77%)\n",
            "\n"
          ]
        },
        {
          "output_type": "stream",
          "name": "stderr",
          "text": [
            " 51%|█████     | 12.75/25 [02:56<01:29,  7.31s/it] "
          ]
        },
        {
          "output_type": "stream",
          "name": "stdout",
          "text": [
            "\n",
            "Train Epoch: 13\tAccuracy: 41/51 (80%)\n",
            "\n"
          ]
        },
        {
          "output_type": "stream",
          "name": "stderr",
          "text": [
            "\r 52%|█████▏    | 12.875/25 [03:03<04:23, 21.75s/it]"
          ]
        },
        {
          "output_type": "stream",
          "name": "stdout",
          "text": [
            "\n",
            "Valid Epoch: 13\tAccuracy: 9/13 (69%)\n",
            "\n"
          ]
        },
        {
          "output_type": "stream",
          "name": "stderr",
          "text": [
            " 55%|█████▌    | 13.75/25 [03:10<01:12,  6.40s/it] "
          ]
        },
        {
          "output_type": "stream",
          "name": "stdout",
          "text": [
            "\n",
            "Train Epoch: 14\tAccuracy: 44/51 (86%)\n",
            "\n"
          ]
        },
        {
          "output_type": "stream",
          "name": "stderr",
          "text": [
            "\r 56%|█████▌    | 13.875/25 [03:16<03:22, 18.18s/it]"
          ]
        },
        {
          "output_type": "stream",
          "name": "stdout",
          "text": [
            "\n",
            "Valid Epoch: 14\tAccuracy: 9/13 (69%)\n",
            "\n"
          ]
        },
        {
          "output_type": "stream",
          "name": "stderr",
          "text": [
            " 59%|█████▉    | 14.75/25 [03:23<00:55,  5.43s/it] "
          ]
        },
        {
          "output_type": "stream",
          "name": "stdout",
          "text": [
            "\n",
            "Train Epoch: 15\tAccuracy: 44/51 (86%)\n",
            "\n"
          ]
        },
        {
          "output_type": "stream",
          "name": "stderr",
          "text": [
            "\r 60%|█████▉    | 14.875/25 [03:31<03:32, 21.02s/it]"
          ]
        },
        {
          "output_type": "stream",
          "name": "stdout",
          "text": [
            "\n",
            "Valid Epoch: 15\tAccuracy: 10/13 (77%)\n",
            "\n"
          ]
        },
        {
          "output_type": "stream",
          "name": "stderr",
          "text": [
            " 63%|██████▎   | 15.75/25 [03:39<00:57,  6.16s/it] "
          ]
        },
        {
          "output_type": "stream",
          "name": "stdout",
          "text": [
            "\n",
            "Train Epoch: 16\tAccuracy: 42/51 (82%)\n",
            "\n"
          ]
        },
        {
          "output_type": "stream",
          "name": "stderr",
          "text": [
            "\r 64%|██████▎   | 15.875/25 [03:45<02:53, 19.00s/it]"
          ]
        },
        {
          "output_type": "stream",
          "name": "stdout",
          "text": [
            "\n",
            "Valid Epoch: 16\tAccuracy: 10/13 (77%)\n",
            "\n"
          ]
        },
        {
          "output_type": "stream",
          "name": "stderr",
          "text": [
            " 67%|██████▋   | 16.75/25 [03:53<00:48,  5.86s/it] "
          ]
        },
        {
          "output_type": "stream",
          "name": "stdout",
          "text": [
            "\n",
            "Train Epoch: 17\tAccuracy: 44/51 (86%)\n",
            "\n"
          ]
        },
        {
          "output_type": "stream",
          "name": "stderr",
          "text": [
            "\r 68%|██████▊   | 16.875/25 [03:59<02:18, 17.03s/it]"
          ]
        },
        {
          "output_type": "stream",
          "name": "stdout",
          "text": [
            "\n",
            "Valid Epoch: 17\tAccuracy: 10/13 (77%)\n",
            "\n"
          ]
        },
        {
          "output_type": "stream",
          "name": "stderr",
          "text": [
            " 71%|███████   | 17.75/25 [04:07<00:40,  5.61s/it] "
          ]
        },
        {
          "output_type": "stream",
          "name": "stdout",
          "text": [
            "\n",
            "Train Epoch: 18\tAccuracy: 45/51 (88%)\n",
            "\n"
          ]
        },
        {
          "output_type": "stream",
          "name": "stderr",
          "text": [
            "\r 72%|███████▏  | 17.875/25 [04:12<02:01, 17.02s/it]"
          ]
        },
        {
          "output_type": "stream",
          "name": "stdout",
          "text": [
            "\n",
            "Valid Epoch: 18\tAccuracy: 9/13 (69%)\n",
            "\n"
          ]
        },
        {
          "output_type": "stream",
          "name": "stderr",
          "text": [
            " 75%|███████▌  | 18.75/25 [04:19<00:37,  5.96s/it] "
          ]
        },
        {
          "output_type": "stream",
          "name": "stdout",
          "text": [
            "\n",
            "Train Epoch: 19\tAccuracy: 43/51 (84%)\n",
            "\n"
          ]
        },
        {
          "output_type": "stream",
          "name": "stderr",
          "text": [
            "\r 76%|███████▌  | 18.875/25 [04:24<01:40, 16.42s/it]"
          ]
        },
        {
          "output_type": "stream",
          "name": "stdout",
          "text": [
            "\n",
            "Valid Epoch: 19\tAccuracy: 9/13 (69%)\n",
            "\n"
          ]
        },
        {
          "output_type": "stream",
          "name": "stderr",
          "text": [
            " 78%|███████▊  | 19.625/25 [04:31<00:37,  7.00s/it]"
          ]
        },
        {
          "output_type": "stream",
          "name": "stdout",
          "text": [
            "\n",
            "Train Epoch: 20\tAccuracy: 43/51 (84%)\n",
            "\n"
          ]
        },
        {
          "output_type": "stream",
          "name": "stderr",
          "text": [
            "\r 80%|███████▉  | 19.875/25 [04:37<01:08, 13.35s/it]"
          ]
        },
        {
          "output_type": "stream",
          "name": "stdout",
          "text": [
            "\n",
            "Valid Epoch: 20\tAccuracy: 11/13 (85%)\n",
            "\n"
          ]
        },
        {
          "output_type": "stream",
          "name": "stderr",
          "text": [
            " 83%|████████▎ | 20.75/25 [04:44<00:22,  5.34s/it] "
          ]
        },
        {
          "output_type": "stream",
          "name": "stdout",
          "text": [
            "\n",
            "Train Epoch: 21\tAccuracy: 40/51 (78%)\n",
            "\n"
          ]
        },
        {
          "output_type": "stream",
          "name": "stderr",
          "text": [
            "\r 84%|████████▎ | 20.875/25 [04:48<00:55, 13.56s/it]"
          ]
        },
        {
          "output_type": "stream",
          "name": "stdout",
          "text": [
            "\n",
            "Valid Epoch: 21\tAccuracy: 9/13 (69%)\n",
            "\n"
          ]
        },
        {
          "output_type": "stream",
          "name": "stderr",
          "text": [
            " 87%|████████▋ | 21.75/25 [04:56<00:16,  5.02s/it] "
          ]
        },
        {
          "output_type": "stream",
          "name": "stdout",
          "text": [
            "\n",
            "Train Epoch: 22\tAccuracy: 44/51 (86%)\n",
            "\n"
          ]
        },
        {
          "output_type": "stream",
          "name": "stderr",
          "text": [
            "\r 88%|████████▊ | 21.875/25 [05:00<00:43, 13.79s/it]"
          ]
        },
        {
          "output_type": "stream",
          "name": "stdout",
          "text": [
            "\n",
            "Valid Epoch: 22\tAccuracy: 10/13 (77%)\n",
            "\n"
          ]
        },
        {
          "output_type": "stream",
          "name": "stderr",
          "text": [
            " 91%|█████████ | 22.75/25 [05:08<00:11,  5.03s/it] "
          ]
        },
        {
          "output_type": "stream",
          "name": "stdout",
          "text": [
            "\n",
            "Train Epoch: 23\tAccuracy: 45/51 (88%)\n",
            "\n"
          ]
        },
        {
          "output_type": "stream",
          "name": "stderr",
          "text": [
            "\r 92%|█████████▏| 22.875/25 [05:14<00:37, 17.76s/it]"
          ]
        },
        {
          "output_type": "stream",
          "name": "stdout",
          "text": [
            "\n",
            "Valid Epoch: 23\tAccuracy: 10/13 (77%)\n",
            "\n"
          ]
        },
        {
          "output_type": "stream",
          "name": "stderr",
          "text": [
            " 95%|█████████▌| 23.75/25 [05:22<00:07,  5.69s/it] "
          ]
        },
        {
          "output_type": "stream",
          "name": "stdout",
          "text": [
            "\n",
            "Train Epoch: 24\tAccuracy: 45/51 (88%)\n",
            "\n"
          ]
        },
        {
          "output_type": "stream",
          "name": "stderr",
          "text": [
            "\r 96%|█████████▌| 23.875/25 [05:27<00:19, 17.08s/it]"
          ]
        },
        {
          "output_type": "stream",
          "name": "stdout",
          "text": [
            "\n",
            "Valid Epoch: 24\tAccuracy: 10/13 (77%)\n",
            "\n"
          ]
        },
        {
          "output_type": "stream",
          "name": "stderr",
          "text": [
            " 99%|█████████▉| 24.75/25 [05:34<00:01,  5.71s/it] "
          ]
        },
        {
          "output_type": "stream",
          "name": "stdout",
          "text": [
            "\n",
            "Train Epoch: 25\tAccuracy: 48/51 (94%)\n",
            "\n"
          ]
        },
        {
          "output_type": "stream",
          "name": "stderr",
          "text": [
            "100%|██████████| 25.0/25 [05:38<00:00, 13.55s/it]  \n"
          ]
        },
        {
          "output_type": "stream",
          "name": "stdout",
          "text": [
            "\n",
            "Valid Epoch: 25\tAccuracy: 10/13 (77%)\n",
            "\n",
            "Fold 3/5\n",
            "51 13\n"
          ]
        },
        {
          "output_type": "stream",
          "name": "stderr",
          "text": [
            "  2%|▏         | 0.375/25 [00:05<04:11, 10.23s/it]"
          ]
        },
        {
          "output_type": "stream",
          "name": "stdout",
          "text": [
            "save mode at  1\n"
          ]
        },
        {
          "output_type": "stream",
          "name": "stderr",
          "text": [
            "  3%|▎         | 0.75/25 [00:07<02:35,  6.42s/it] "
          ]
        },
        {
          "output_type": "stream",
          "name": "stdout",
          "text": [
            "save mode at  1\n",
            "\n",
            "Train Epoch: 1\tAccuracy: 32/51 (63%)\n",
            "\n"
          ]
        },
        {
          "output_type": "stream",
          "name": "stderr",
          "text": [
            "\r  4%|▎         | 0.875/25 [00:13<07:42, 19.17s/it]"
          ]
        },
        {
          "output_type": "stream",
          "name": "stdout",
          "text": [
            "\n",
            "Valid Epoch: 1\tAccuracy: 7/13 (54%)\n",
            "\n"
          ]
        },
        {
          "output_type": "stream",
          "name": "stderr",
          "text": [
            "  6%|▌         | 1.5/25 [00:20<03:45,  9.61s/it]  "
          ]
        },
        {
          "output_type": "stream",
          "name": "stdout",
          "text": [
            "save mode at  2\n"
          ]
        },
        {
          "output_type": "stream",
          "name": "stderr",
          "text": [
            "  7%|▋         | 1.75/25 [00:21<02:14,  5.80s/it] "
          ]
        },
        {
          "output_type": "stream",
          "name": "stdout",
          "text": [
            "\n",
            "Train Epoch: 2\tAccuracy: 35/51 (69%)\n",
            "\n"
          ]
        },
        {
          "output_type": "stream",
          "name": "stderr",
          "text": [
            "\r  8%|▊         | 1.875/25 [00:27<07:49, 20.30s/it]"
          ]
        },
        {
          "output_type": "stream",
          "name": "stdout",
          "text": [
            "\n",
            "Valid Epoch: 2\tAccuracy: 7/13 (54%)\n",
            "\n"
          ]
        },
        {
          "output_type": "stream",
          "name": "stderr",
          "text": [
            " 11%|█         | 2.75/25 [00:35<02:05,  5.65s/it] "
          ]
        },
        {
          "output_type": "stream",
          "name": "stdout",
          "text": [
            "save mode at  3\n",
            "\n",
            "Train Epoch: 3\tAccuracy: 33/51 (65%)\n",
            "\n"
          ]
        },
        {
          "output_type": "stream",
          "name": "stderr",
          "text": [
            "\r 12%|█▏        | 2.875/25 [00:41<06:37, 17.96s/it]"
          ]
        },
        {
          "output_type": "stream",
          "name": "stdout",
          "text": [
            "\n",
            "Valid Epoch: 3\tAccuracy: 6/13 (46%)\n",
            "\n"
          ]
        },
        {
          "output_type": "stream",
          "name": "stderr",
          "text": [
            " 15%|█▌        | 3.75/25 [00:49<02:04,  5.85s/it] "
          ]
        },
        {
          "output_type": "stream",
          "name": "stdout",
          "text": [
            "\n",
            "Train Epoch: 4\tAccuracy: 36/51 (71%)\n",
            "\n"
          ]
        },
        {
          "output_type": "stream",
          "name": "stderr",
          "text": [
            "\r 16%|█▌        | 3.875/25 [00:56<07:01, 19.95s/it]"
          ]
        },
        {
          "output_type": "stream",
          "name": "stdout",
          "text": [
            "\n",
            "Valid Epoch: 4\tAccuracy: 6/13 (46%)\n",
            "\n"
          ]
        },
        {
          "output_type": "stream",
          "name": "stderr",
          "text": [
            " 19%|█▉        | 4.75/25 [01:02<01:46,  5.24s/it] "
          ]
        },
        {
          "output_type": "stream",
          "name": "stdout",
          "text": [
            "\n",
            "Train Epoch: 5\tAccuracy: 39/51 (76%)\n",
            "\n"
          ]
        },
        {
          "output_type": "stream",
          "name": "stderr",
          "text": [
            "\r 20%|█▉        | 4.875/25 [01:06<04:49, 14.36s/it]"
          ]
        },
        {
          "output_type": "stream",
          "name": "stdout",
          "text": [
            "\n",
            "Valid Epoch: 5\tAccuracy: 7/13 (54%)\n",
            "\n"
          ]
        },
        {
          "output_type": "stream",
          "name": "stderr",
          "text": [
            " 23%|██▎       | 5.75/25 [01:14<01:42,  5.32s/it] "
          ]
        },
        {
          "output_type": "stream",
          "name": "stdout",
          "text": [
            "save mode at  6\n",
            "\n",
            "Train Epoch: 6\tAccuracy: 36/51 (71%)\n",
            "\n"
          ]
        },
        {
          "output_type": "stream",
          "name": "stderr",
          "text": [
            "\r 24%|██▎       | 5.875/25 [01:20<05:42, 17.91s/it]"
          ]
        },
        {
          "output_type": "stream",
          "name": "stdout",
          "text": [
            "\n",
            "Valid Epoch: 6\tAccuracy: 6/13 (46%)\n",
            "\n"
          ]
        },
        {
          "output_type": "stream",
          "name": "stderr",
          "text": [
            " 27%|██▋       | 6.75/25 [01:27<01:39,  5.45s/it] "
          ]
        },
        {
          "output_type": "stream",
          "name": "stdout",
          "text": [
            "\n",
            "Train Epoch: 7\tAccuracy: 39/51 (76%)\n",
            "\n"
          ]
        },
        {
          "output_type": "stream",
          "name": "stderr",
          "text": [
            "\r 28%|██▊       | 6.875/25 [01:32<04:37, 15.31s/it]"
          ]
        },
        {
          "output_type": "stream",
          "name": "stdout",
          "text": [
            "\n",
            "Valid Epoch: 7\tAccuracy: 9/13 (69%)\n",
            "\n"
          ]
        },
        {
          "output_type": "stream",
          "name": "stderr",
          "text": [
            " 31%|███       | 7.75/25 [01:39<01:51,  6.48s/it] "
          ]
        },
        {
          "output_type": "stream",
          "name": "stdout",
          "text": [
            "\n",
            "Train Epoch: 8\tAccuracy: 43/51 (84%)\n",
            "\n"
          ]
        },
        {
          "output_type": "stream",
          "name": "stderr",
          "text": [
            "\r 32%|███▏      | 7.875/25 [01:44<04:33, 15.95s/it]"
          ]
        },
        {
          "output_type": "stream",
          "name": "stdout",
          "text": [
            "\n",
            "Valid Epoch: 8\tAccuracy: 8/13 (62%)\n",
            "\n"
          ]
        },
        {
          "output_type": "stream",
          "name": "stderr",
          "text": [
            " 35%|███▌      | 8.75/25 [01:51<01:25,  5.25s/it] "
          ]
        },
        {
          "output_type": "stream",
          "name": "stdout",
          "text": [
            "save mode at  9\n",
            "\n",
            "Train Epoch: 9\tAccuracy: 45/51 (88%)\n",
            "\n"
          ]
        },
        {
          "output_type": "stream",
          "name": "stderr",
          "text": [
            "\r 36%|███▌      | 8.875/25 [01:55<03:36, 13.45s/it]"
          ]
        },
        {
          "output_type": "stream",
          "name": "stdout",
          "text": [
            "\n",
            "Valid Epoch: 9\tAccuracy: 8/13 (62%)\n",
            "\n"
          ]
        },
        {
          "output_type": "stream",
          "name": "stderr",
          "text": [
            " 38%|███▊      | 9.625/25 [02:02<01:37,  6.35s/it]"
          ]
        },
        {
          "output_type": "stream",
          "name": "stdout",
          "text": [
            "\n",
            "Train Epoch: 10\tAccuracy: 44/51 (86%)\n",
            "\n"
          ]
        },
        {
          "output_type": "stream",
          "name": "stderr",
          "text": [
            "\r 40%|███▉      | 9.875/25 [02:08<03:30, 13.90s/it]"
          ]
        },
        {
          "output_type": "stream",
          "name": "stdout",
          "text": [
            "\n",
            "Valid Epoch: 10\tAccuracy: 9/13 (69%)\n",
            "\n"
          ]
        },
        {
          "output_type": "stream",
          "name": "stderr",
          "text": [
            " 43%|████▎     | 10.75/25 [02:14<01:28,  6.23s/it] "
          ]
        },
        {
          "output_type": "stream",
          "name": "stdout",
          "text": [
            "\n",
            "Train Epoch: 11\tAccuracy: 43/51 (84%)\n",
            "\n"
          ]
        },
        {
          "output_type": "stream",
          "name": "stderr",
          "text": [
            "\r 44%|████▎     | 10.875/25 [02:20<03:57, 16.82s/it]"
          ]
        },
        {
          "output_type": "stream",
          "name": "stdout",
          "text": [
            "\n",
            "Valid Epoch: 11\tAccuracy: 9/13 (69%)\n",
            "\n"
          ]
        },
        {
          "output_type": "stream",
          "name": "stderr",
          "text": [
            " 47%|████▋     | 11.75/25 [02:26<01:04,  4.86s/it] "
          ]
        },
        {
          "output_type": "stream",
          "name": "stdout",
          "text": [
            "\n",
            "Train Epoch: 12\tAccuracy: 46/51 (90%)\n",
            "\n"
          ]
        },
        {
          "output_type": "stream",
          "name": "stderr",
          "text": [
            "\r 48%|████▊     | 11.875/25 [02:31<03:07, 14.25s/it]"
          ]
        },
        {
          "output_type": "stream",
          "name": "stdout",
          "text": [
            "\n",
            "Valid Epoch: 12\tAccuracy: 11/13 (85%)\n",
            "\n"
          ]
        },
        {
          "output_type": "stream",
          "name": "stderr",
          "text": [
            " 51%|█████     | 12.75/25 [02:40<01:43,  8.46s/it] "
          ]
        },
        {
          "output_type": "stream",
          "name": "stdout",
          "text": [
            "\n",
            "Train Epoch: 13\tAccuracy: 44/51 (86%)\n",
            "\n"
          ]
        },
        {
          "output_type": "stream",
          "name": "stderr",
          "text": [
            "\r 52%|█████▏    | 12.875/25 [02:45<03:57, 19.56s/it]"
          ]
        },
        {
          "output_type": "stream",
          "name": "stdout",
          "text": [
            "\n",
            "Valid Epoch: 13\tAccuracy: 10/13 (77%)\n",
            "\n"
          ]
        },
        {
          "output_type": "stream",
          "name": "stderr",
          "text": [
            " 55%|█████▌    | 13.75/25 [02:52<01:07,  5.98s/it] "
          ]
        },
        {
          "output_type": "stream",
          "name": "stdout",
          "text": [
            "\n",
            "Train Epoch: 14\tAccuracy: 44/51 (86%)\n",
            "\n"
          ]
        },
        {
          "output_type": "stream",
          "name": "stderr",
          "text": [
            "\r 56%|█████▌    | 13.875/25 [02:59<03:29, 18.83s/it]"
          ]
        },
        {
          "output_type": "stream",
          "name": "stdout",
          "text": [
            "\n",
            "Valid Epoch: 14\tAccuracy: 8/13 (62%)\n",
            "\n"
          ]
        },
        {
          "output_type": "stream",
          "name": "stderr",
          "text": [
            " 59%|█████▉    | 14.75/25 [03:04<00:53,  5.20s/it] "
          ]
        },
        {
          "output_type": "stream",
          "name": "stdout",
          "text": [
            "\n",
            "Train Epoch: 15\tAccuracy: 45/51 (88%)\n",
            "\n"
          ]
        },
        {
          "output_type": "stream",
          "name": "stderr",
          "text": [
            "\r 60%|█████▉    | 14.875/25 [03:08<02:07, 12.61s/it]"
          ]
        },
        {
          "output_type": "stream",
          "name": "stdout",
          "text": [
            "\n",
            "Valid Epoch: 15\tAccuracy: 8/13 (62%)\n",
            "\n"
          ]
        },
        {
          "output_type": "stream",
          "name": "stderr",
          "text": [
            " 63%|██████▎   | 15.75/25 [03:16<00:49,  5.33s/it] "
          ]
        },
        {
          "output_type": "stream",
          "name": "stdout",
          "text": [
            "\n",
            "Train Epoch: 16\tAccuracy: 45/51 (88%)\n",
            "\n"
          ]
        },
        {
          "output_type": "stream",
          "name": "stderr",
          "text": [
            "\r 64%|██████▎   | 15.875/25 [03:23<02:57, 19.50s/it]"
          ]
        },
        {
          "output_type": "stream",
          "name": "stdout",
          "text": [
            "\n",
            "Valid Epoch: 16\tAccuracy: 10/13 (77%)\n",
            "\n"
          ]
        },
        {
          "output_type": "stream",
          "name": "stderr",
          "text": [
            " 67%|██████▋   | 16.75/25 [03:30<00:56,  6.82s/it] "
          ]
        },
        {
          "output_type": "stream",
          "name": "stdout",
          "text": [
            "\n",
            "Train Epoch: 17\tAccuracy: 43/51 (84%)\n",
            "\n"
          ]
        },
        {
          "output_type": "stream",
          "name": "stderr",
          "text": [
            "\r 68%|██████▊   | 16.875/25 [03:35<02:06, 15.57s/it]"
          ]
        },
        {
          "output_type": "stream",
          "name": "stdout",
          "text": [
            "\n",
            "Valid Epoch: 17\tAccuracy: 10/13 (77%)\n",
            "\n"
          ]
        },
        {
          "output_type": "stream",
          "name": "stderr",
          "text": [
            " 71%|███████   | 17.75/25 [03:41<00:37,  5.13s/it] "
          ]
        },
        {
          "output_type": "stream",
          "name": "stdout",
          "text": [
            "\n",
            "Train Epoch: 18\tAccuracy: 44/51 (86%)\n",
            "\n"
          ]
        },
        {
          "output_type": "stream",
          "name": "stderr",
          "text": [
            "\r 72%|███████▏  | 17.875/25 [03:47<01:57, 16.47s/it]"
          ]
        },
        {
          "output_type": "stream",
          "name": "stdout",
          "text": [
            "\n",
            "Valid Epoch: 18\tAccuracy: 9/13 (69%)\n",
            "\n"
          ]
        },
        {
          "output_type": "stream",
          "name": "stderr",
          "text": [
            " 74%|███████▍  | 18.625/25 [03:54<00:51,  8.03s/it]"
          ]
        },
        {
          "output_type": "stream",
          "name": "stdout",
          "text": [
            "\n",
            "Train Epoch: 19\tAccuracy: 45/51 (88%)\n",
            "\n"
          ]
        },
        {
          "output_type": "stream",
          "name": "stderr",
          "text": [
            "\r 76%|███████▌  | 18.875/25 [03:58<01:14, 12.23s/it]"
          ]
        },
        {
          "output_type": "stream",
          "name": "stdout",
          "text": [
            "\n",
            "Valid Epoch: 19\tAccuracy: 10/13 (77%)\n",
            "\n"
          ]
        },
        {
          "output_type": "stream",
          "name": "stderr",
          "text": [
            " 79%|███████▉  | 19.75/25 [04:05<00:27,  5.24s/it] "
          ]
        },
        {
          "output_type": "stream",
          "name": "stdout",
          "text": [
            "\n",
            "Train Epoch: 20\tAccuracy: 47/51 (92%)\n",
            "\n"
          ]
        },
        {
          "output_type": "stream",
          "name": "stderr",
          "text": [
            "\r 80%|███████▉  | 19.875/25 [04:11<01:33, 18.26s/it]"
          ]
        },
        {
          "output_type": "stream",
          "name": "stdout",
          "text": [
            "\n",
            "Valid Epoch: 20\tAccuracy: 8/13 (62%)\n",
            "\n"
          ]
        },
        {
          "output_type": "stream",
          "name": "stderr",
          "text": [
            " 82%|████████▎ | 20.625/25 [04:17<00:31,  7.12s/it]"
          ]
        },
        {
          "output_type": "stream",
          "name": "stdout",
          "text": [
            "\n",
            "Train Epoch: 21\tAccuracy: 49/51 (96%)\n",
            "\n"
          ]
        },
        {
          "output_type": "stream",
          "name": "stderr",
          "text": [
            "\r 84%|████████▎ | 20.875/25 [04:23<01:00, 14.62s/it]"
          ]
        },
        {
          "output_type": "stream",
          "name": "stdout",
          "text": [
            "\n",
            "Valid Epoch: 21\tAccuracy: 8/13 (62%)\n",
            "\n"
          ]
        },
        {
          "output_type": "stream",
          "name": "stderr",
          "text": [
            " 86%|████████▋ | 21.625/25 [04:32<00:26,  7.78s/it]"
          ]
        },
        {
          "output_type": "stream",
          "name": "stdout",
          "text": [
            "\n",
            "Train Epoch: 22\tAccuracy: 43/51 (84%)\n",
            "\n"
          ]
        },
        {
          "output_type": "stream",
          "name": "stderr",
          "text": [
            "\r 88%|████████▊ | 21.875/25 [04:36<00:38, 12.46s/it]"
          ]
        },
        {
          "output_type": "stream",
          "name": "stdout",
          "text": [
            "\n",
            "Valid Epoch: 22\tAccuracy: 11/13 (85%)\n",
            "\n"
          ]
        },
        {
          "output_type": "stream",
          "name": "stderr",
          "text": [
            " 91%|█████████ | 22.75/25 [04:43<00:11,  4.98s/it] "
          ]
        },
        {
          "output_type": "stream",
          "name": "stdout",
          "text": [
            "\n",
            "Train Epoch: 23\tAccuracy: 45/51 (88%)\n",
            "\n"
          ]
        },
        {
          "output_type": "stream",
          "name": "stderr",
          "text": [
            "\r 92%|█████████▏| 22.875/25 [04:48<00:30, 14.15s/it]"
          ]
        },
        {
          "output_type": "stream",
          "name": "stdout",
          "text": [
            "\n",
            "Valid Epoch: 23\tAccuracy: 10/13 (77%)\n",
            "\n"
          ]
        },
        {
          "output_type": "stream",
          "name": "stderr",
          "text": [
            " 95%|█████████▌| 23.75/25 [04:55<00:06,  4.81s/it] "
          ]
        },
        {
          "output_type": "stream",
          "name": "stdout",
          "text": [
            "\n",
            "Train Epoch: 24\tAccuracy: 46/51 (90%)\n",
            "\n"
          ]
        },
        {
          "output_type": "stream",
          "name": "stderr",
          "text": [
            "\r 96%|█████████▌| 23.875/25 [04:59<00:14, 12.69s/it]"
          ]
        },
        {
          "output_type": "stream",
          "name": "stdout",
          "text": [
            "\n",
            "Valid Epoch: 24\tAccuracy: 10/13 (77%)\n",
            "\n"
          ]
        },
        {
          "output_type": "stream",
          "name": "stderr",
          "text": [
            "\r 96%|█████████▋| 24.125/25 [05:05<00:15, 17.98s/it]"
          ]
        },
        {
          "output_type": "stream",
          "name": "stdout",
          "text": [
            "save mode at  25\n"
          ]
        },
        {
          "output_type": "stream",
          "name": "stderr",
          "text": [
            " 98%|█████████▊| 24.625/25 [05:06<00:02,  7.03s/it]"
          ]
        },
        {
          "output_type": "stream",
          "name": "stdout",
          "text": [
            "\n",
            "Train Epoch: 25\tAccuracy: 43/51 (84%)\n",
            "\n"
          ]
        },
        {
          "output_type": "stream",
          "name": "stderr",
          "text": [
            "100%|██████████| 25.0/25 [05:11<00:00, 12.48s/it]  \n"
          ]
        },
        {
          "output_type": "stream",
          "name": "stdout",
          "text": [
            "\n",
            "Valid Epoch: 25\tAccuracy: 10/13 (77%)\n",
            "\n",
            "Fold 4/5\n",
            "51 13\n"
          ]
        },
        {
          "output_type": "stream",
          "name": "stderr",
          "text": [
            "  2%|▏         | 0.5/25 [00:06<03:44,  9.14s/it]  "
          ]
        },
        {
          "output_type": "stream",
          "name": "stdout",
          "text": [
            "save mode at  1\n"
          ]
        },
        {
          "output_type": "stream",
          "name": "stderr",
          "text": [
            "  3%|▎         | 0.75/25 [00:07<01:49,  4.54s/it] "
          ]
        },
        {
          "output_type": "stream",
          "name": "stdout",
          "text": [
            "save mode at  1\n",
            "\n",
            "Train Epoch: 1\tAccuracy: 33/51 (65%)\n",
            "\n"
          ]
        },
        {
          "output_type": "stream",
          "name": "stderr",
          "text": [
            "\r  4%|▎         | 0.875/25 [00:11<05:56, 14.77s/it]"
          ]
        },
        {
          "output_type": "stream",
          "name": "stdout",
          "text": [
            "\n",
            "Valid Epoch: 1\tAccuracy: 11/13 (85%)\n",
            "\n"
          ]
        },
        {
          "output_type": "stream",
          "name": "stderr",
          "text": [
            "  6%|▋         | 1.625/25 [00:17<02:24,  6.20s/it]"
          ]
        },
        {
          "output_type": "stream",
          "name": "stdout",
          "text": [
            "save mode at  2\n"
          ]
        },
        {
          "output_type": "stream",
          "name": "stderr",
          "text": [
            "\r  7%|▋         | 1.75/25 [00:17<01:49,  4.69s/it] "
          ]
        },
        {
          "output_type": "stream",
          "name": "stdout",
          "text": [
            "\n",
            "Train Epoch: 2\tAccuracy: 35/51 (69%)\n",
            "\n"
          ]
        },
        {
          "output_type": "stream",
          "name": "stderr",
          "text": [
            "\r  8%|▊         | 1.875/25 [00:21<04:39, 12.10s/it]"
          ]
        },
        {
          "output_type": "stream",
          "name": "stdout",
          "text": [
            "\n",
            "Valid Epoch: 2\tAccuracy: 2/13 (15%)\n",
            "\n"
          ]
        },
        {
          "output_type": "stream",
          "name": "stderr",
          "text": [
            " 10%|█         | 2.625/25 [00:28<02:18,  6.20s/it]"
          ]
        },
        {
          "output_type": "stream",
          "name": "stdout",
          "text": [
            "\n",
            "Train Epoch: 3\tAccuracy: 39/51 (76%)\n",
            "\n"
          ]
        },
        {
          "output_type": "stream",
          "name": "stderr",
          "text": [
            "\r 12%|█▏        | 2.875/25 [00:35<05:47, 15.71s/it]"
          ]
        },
        {
          "output_type": "stream",
          "name": "stdout",
          "text": [
            "\n",
            "Valid Epoch: 3\tAccuracy: 6/13 (46%)\n",
            "\n"
          ]
        },
        {
          "output_type": "stream",
          "name": "stderr",
          "text": [
            " 15%|█▌        | 3.75/25 [00:41<01:53,  5.35s/it] "
          ]
        },
        {
          "output_type": "stream",
          "name": "stdout",
          "text": [
            "\n",
            "Train Epoch: 4\tAccuracy: 35/51 (69%)\n",
            "\n"
          ]
        },
        {
          "output_type": "stream",
          "name": "stderr",
          "text": [
            "\r 16%|█▌        | 3.875/25 [00:47<05:50, 16.58s/it]"
          ]
        },
        {
          "output_type": "stream",
          "name": "stdout",
          "text": [
            "\n",
            "Valid Epoch: 4\tAccuracy: 4/13 (31%)\n",
            "\n"
          ]
        },
        {
          "output_type": "stream",
          "name": "stderr",
          "text": [
            " 19%|█▉        | 4.75/25 [00:55<02:07,  6.28s/it] "
          ]
        },
        {
          "output_type": "stream",
          "name": "stdout",
          "text": [
            "\n",
            "Train Epoch: 5\tAccuracy: 33/51 (65%)\n",
            "\n"
          ]
        },
        {
          "output_type": "stream",
          "name": "stderr",
          "text": [
            "\r 20%|█▉        | 4.875/25 [01:00<05:32, 16.54s/it]"
          ]
        },
        {
          "output_type": "stream",
          "name": "stdout",
          "text": [
            "\n",
            "Valid Epoch: 5\tAccuracy: 3/13 (23%)\n",
            "\n"
          ]
        },
        {
          "output_type": "stream",
          "name": "stderr",
          "text": [
            " 23%|██▎       | 5.75/25 [01:06<01:32,  4.82s/it] "
          ]
        },
        {
          "output_type": "stream",
          "name": "stdout",
          "text": [
            "\n",
            "Train Epoch: 6\tAccuracy: 36/51 (71%)\n",
            "\n"
          ]
        },
        {
          "output_type": "stream",
          "name": "stderr",
          "text": [
            "\r 24%|██▎       | 5.875/25 [01:13<06:10, 19.36s/it]"
          ]
        },
        {
          "output_type": "stream",
          "name": "stdout",
          "text": [
            "\n",
            "Valid Epoch: 6\tAccuracy: 4/13 (31%)\n",
            "\n"
          ]
        },
        {
          "output_type": "stream",
          "name": "stderr",
          "text": [
            " 27%|██▋       | 6.75/25 [01:20<01:49,  6.03s/it] "
          ]
        },
        {
          "output_type": "stream",
          "name": "stdout",
          "text": [
            "\n",
            "Train Epoch: 7\tAccuracy: 36/51 (71%)\n",
            "\n"
          ]
        },
        {
          "output_type": "stream",
          "name": "stderr",
          "text": [
            "\r 28%|██▊       | 6.875/25 [01:25<04:46, 15.81s/it]"
          ]
        },
        {
          "output_type": "stream",
          "name": "stdout",
          "text": [
            "\n",
            "Valid Epoch: 7\tAccuracy: 5/13 (38%)\n",
            "\n"
          ]
        },
        {
          "output_type": "stream",
          "name": "stderr",
          "text": [
            " 30%|███       | 7.625/25 [01:31<02:21,  8.12s/it]"
          ]
        },
        {
          "output_type": "stream",
          "name": "stdout",
          "text": [
            "\n",
            "Train Epoch: 8\tAccuracy: 35/51 (69%)\n",
            "\n"
          ]
        },
        {
          "output_type": "stream",
          "name": "stderr",
          "text": [
            "\r 32%|███▏      | 7.875/25 [01:37<04:01, 14.12s/it]"
          ]
        },
        {
          "output_type": "stream",
          "name": "stdout",
          "text": [
            "\n",
            "Valid Epoch: 8\tAccuracy: 10/13 (77%)\n",
            "\n"
          ]
        },
        {
          "output_type": "stream",
          "name": "stderr",
          "text": [
            " 35%|███▌      | 8.75/25 [01:43<01:22,  5.06s/it] "
          ]
        },
        {
          "output_type": "stream",
          "name": "stdout",
          "text": [
            "\n",
            "Train Epoch: 9\tAccuracy: 39/51 (76%)\n",
            "\n"
          ]
        },
        {
          "output_type": "stream",
          "name": "stderr",
          "text": [
            "\r 36%|███▌      | 8.875/25 [01:48<04:08, 15.39s/it]"
          ]
        },
        {
          "output_type": "stream",
          "name": "stdout",
          "text": [
            "\n",
            "Valid Epoch: 9\tAccuracy: 8/13 (62%)\n",
            "\n"
          ]
        },
        {
          "output_type": "stream",
          "name": "stderr",
          "text": [
            " 39%|███▉      | 9.75/25 [01:54<01:21,  5.33s/it] "
          ]
        },
        {
          "output_type": "stream",
          "name": "stdout",
          "text": [
            "\n",
            "Train Epoch: 10\tAccuracy: 41/51 (80%)\n",
            "\n"
          ]
        },
        {
          "output_type": "stream",
          "name": "stderr",
          "text": [
            "\r 40%|███▉      | 9.875/25 [02:00<04:27, 17.66s/it]"
          ]
        },
        {
          "output_type": "stream",
          "name": "stdout",
          "text": [
            "\n",
            "Valid Epoch: 10\tAccuracy: 5/13 (38%)\n",
            "\n"
          ]
        },
        {
          "output_type": "stream",
          "name": "stderr",
          "text": [
            " 42%|████▎     | 10.625/25 [02:05<01:33,  6.53s/it]"
          ]
        },
        {
          "output_type": "stream",
          "name": "stdout",
          "text": [
            "\n",
            "Train Epoch: 11\tAccuracy: 39/51 (76%)\n",
            "\n"
          ]
        },
        {
          "output_type": "stream",
          "name": "stderr",
          "text": [
            "\r 44%|████▎     | 10.875/25 [02:10<02:58, 12.65s/it]"
          ]
        },
        {
          "output_type": "stream",
          "name": "stdout",
          "text": [
            "\n",
            "Valid Epoch: 11\tAccuracy: 3/13 (23%)\n",
            "\n"
          ]
        },
        {
          "output_type": "stream",
          "name": "stderr",
          "text": [
            " 47%|████▋     | 11.75/25 [02:18<01:11,  5.37s/it] "
          ]
        },
        {
          "output_type": "stream",
          "name": "stdout",
          "text": [
            "\n",
            "Train Epoch: 12\tAccuracy: 40/51 (78%)\n",
            "\n"
          ]
        },
        {
          "output_type": "stream",
          "name": "stderr",
          "text": [
            "\r 48%|████▊     | 11.875/25 [02:24<03:48, 17.44s/it]"
          ]
        },
        {
          "output_type": "stream",
          "name": "stdout",
          "text": [
            "\n",
            "Valid Epoch: 12\tAccuracy: 5/13 (38%)\n",
            "\n"
          ]
        },
        {
          "output_type": "stream",
          "name": "stderr",
          "text": [
            " 51%|█████     | 12.75/25 [02:30<00:59,  4.88s/it] "
          ]
        },
        {
          "output_type": "stream",
          "name": "stdout",
          "text": [
            "\n",
            "Train Epoch: 13\tAccuracy: 40/51 (78%)\n",
            "\n"
          ]
        },
        {
          "output_type": "stream",
          "name": "stderr",
          "text": [
            "\r 52%|█████▏    | 12.875/25 [02:35<03:01, 15.01s/it]"
          ]
        },
        {
          "output_type": "stream",
          "name": "stdout",
          "text": [
            "\n",
            "Valid Epoch: 13\tAccuracy: 11/13 (85%)\n",
            "\n"
          ]
        },
        {
          "output_type": "stream",
          "name": "stderr",
          "text": [
            " 55%|█████▌    | 13.75/25 [02:42<01:07,  6.04s/it] "
          ]
        },
        {
          "output_type": "stream",
          "name": "stdout",
          "text": [
            "\n",
            "Train Epoch: 14\tAccuracy: 35/51 (69%)\n",
            "\n"
          ]
        },
        {
          "output_type": "stream",
          "name": "stderr",
          "text": [
            "\r 56%|█████▌    | 13.875/25 [02:45<02:04, 11.21s/it]"
          ]
        },
        {
          "output_type": "stream",
          "name": "stdout",
          "text": [
            "\n",
            "Valid Epoch: 14\tAccuracy: 11/13 (85%)\n",
            "\n"
          ]
        },
        {
          "output_type": "stream",
          "name": "stderr",
          "text": [
            " 59%|█████▉    | 14.75/25 [02:52<00:46,  4.57s/it] "
          ]
        },
        {
          "output_type": "stream",
          "name": "stdout",
          "text": [
            "\n",
            "Train Epoch: 15\tAccuracy: 42/51 (82%)\n",
            "\n"
          ]
        },
        {
          "output_type": "stream",
          "name": "stderr",
          "text": [
            "\r 60%|█████▉    | 14.875/25 [02:57<02:42, 16.07s/it]"
          ]
        },
        {
          "output_type": "stream",
          "name": "stdout",
          "text": [
            "\n",
            "Valid Epoch: 15\tAccuracy: 11/13 (85%)\n",
            "\n"
          ]
        },
        {
          "output_type": "stream",
          "name": "stderr",
          "text": [
            " 62%|██████▏   | 15.5/25 [03:03<01:25,  8.96s/it]  "
          ]
        },
        {
          "output_type": "stream",
          "name": "stdout",
          "text": [
            "save mode at  16\n"
          ]
        },
        {
          "output_type": "stream",
          "name": "stderr",
          "text": [
            " 63%|██████▎   | 15.75/25 [03:04<00:47,  5.10s/it] "
          ]
        },
        {
          "output_type": "stream",
          "name": "stdout",
          "text": [
            "\n",
            "Train Epoch: 16\tAccuracy: 41/51 (80%)\n",
            "\n"
          ]
        },
        {
          "output_type": "stream",
          "name": "stderr",
          "text": [
            "\r 64%|██████▎   | 15.875/25 [03:07<01:40, 10.97s/it]"
          ]
        },
        {
          "output_type": "stream",
          "name": "stdout",
          "text": [
            "\n",
            "Valid Epoch: 16\tAccuracy: 9/13 (69%)\n",
            "\n"
          ]
        },
        {
          "output_type": "stream",
          "name": "stderr",
          "text": [
            " 66%|██████▋   | 16.625/25 [03:13<00:46,  5.52s/it]"
          ]
        },
        {
          "output_type": "stream",
          "name": "stdout",
          "text": [
            "\n",
            "Train Epoch: 17\tAccuracy: 42/51 (82%)\n",
            "\n"
          ]
        },
        {
          "output_type": "stream",
          "name": "stderr",
          "text": [
            "\r 68%|██████▊   | 16.875/25 [03:19<01:47, 13.19s/it]"
          ]
        },
        {
          "output_type": "stream",
          "name": "stdout",
          "text": [
            "\n",
            "Valid Epoch: 17\tAccuracy: 9/13 (69%)\n",
            "\n"
          ]
        },
        {
          "output_type": "stream",
          "name": "stderr",
          "text": [
            " 71%|███████   | 17.75/25 [03:25<00:35,  4.86s/it] "
          ]
        },
        {
          "output_type": "stream",
          "name": "stdout",
          "text": [
            "\n",
            "Train Epoch: 18\tAccuracy: 38/51 (75%)\n",
            "\n"
          ]
        },
        {
          "output_type": "stream",
          "name": "stderr",
          "text": [
            "\r 72%|███████▏  | 17.875/25 [03:31<02:02, 17.26s/it]"
          ]
        },
        {
          "output_type": "stream",
          "name": "stdout",
          "text": [
            "\n",
            "Valid Epoch: 18\tAccuracy: 12/13 (92%)\n",
            "\n"
          ]
        },
        {
          "output_type": "stream",
          "name": "stderr",
          "text": [
            " 74%|███████▍  | 18.625/25 [03:37<00:47,  7.42s/it]"
          ]
        },
        {
          "output_type": "stream",
          "name": "stdout",
          "text": [
            "\n",
            "Train Epoch: 19\tAccuracy: 42/51 (82%)\n",
            "\n"
          ]
        },
        {
          "output_type": "stream",
          "name": "stderr",
          "text": [
            "\r 76%|███████▌  | 18.875/25 [03:40<00:58,  9.54s/it]"
          ]
        },
        {
          "output_type": "stream",
          "name": "stdout",
          "text": [
            "\n",
            "Valid Epoch: 19\tAccuracy: 11/13 (85%)\n",
            "\n"
          ]
        },
        {
          "output_type": "stream",
          "name": "stderr",
          "text": [
            " 78%|███████▊  | 19.625/25 [03:46<00:37,  6.99s/it]"
          ]
        },
        {
          "output_type": "stream",
          "name": "stdout",
          "text": [
            "save mode at  20\n",
            "\n",
            "Train Epoch: 20\tAccuracy: 44/51 (86%)\n",
            "\n"
          ]
        },
        {
          "output_type": "stream",
          "name": "stderr",
          "text": [
            "\r 80%|███████▉  | 19.875/25 [03:52<01:05, 12.74s/it]"
          ]
        },
        {
          "output_type": "stream",
          "name": "stdout",
          "text": [
            "\n",
            "Valid Epoch: 20\tAccuracy: 10/13 (77%)\n",
            "\n"
          ]
        },
        {
          "output_type": "stream",
          "name": "stderr",
          "text": [
            " 82%|████████▎ | 20.625/25 [03:57<00:26,  6.07s/it]"
          ]
        },
        {
          "output_type": "stream",
          "name": "stdout",
          "text": [
            "\n",
            "Train Epoch: 21\tAccuracy: 44/51 (86%)\n",
            "\n"
          ]
        },
        {
          "output_type": "stream",
          "name": "stderr",
          "text": [
            "\r 84%|████████▎ | 20.875/25 [04:02<00:49, 12.00s/it]"
          ]
        },
        {
          "output_type": "stream",
          "name": "stdout",
          "text": [
            "\n",
            "Valid Epoch: 21\tAccuracy: 11/13 (85%)\n",
            "\n"
          ]
        },
        {
          "output_type": "stream",
          "name": "stderr",
          "text": [
            " 87%|████████▋ | 21.75/25 [04:08<00:16,  5.13s/it] "
          ]
        },
        {
          "output_type": "stream",
          "name": "stdout",
          "text": [
            "\n",
            "Train Epoch: 22\tAccuracy: 43/51 (84%)\n",
            "\n"
          ]
        },
        {
          "output_type": "stream",
          "name": "stderr",
          "text": [
            "\r 88%|████████▊ | 21.875/25 [04:12<00:36, 11.71s/it]"
          ]
        },
        {
          "output_type": "stream",
          "name": "stdout",
          "text": [
            "\n",
            "Valid Epoch: 22\tAccuracy: 12/13 (92%)\n",
            "\n"
          ]
        },
        {
          "output_type": "stream",
          "name": "stderr",
          "text": [
            " 91%|█████████ | 22.75/25 [04:18<00:10,  4.48s/it] "
          ]
        },
        {
          "output_type": "stream",
          "name": "stdout",
          "text": [
            "save mode at  23\n",
            "\n",
            "Train Epoch: 23\tAccuracy: 43/51 (84%)\n",
            "\n"
          ]
        },
        {
          "output_type": "stream",
          "name": "stderr",
          "text": [
            "\r 92%|█████████▏| 22.875/25 [04:22<00:26, 12.63s/it]"
          ]
        },
        {
          "output_type": "stream",
          "name": "stdout",
          "text": [
            "\n",
            "Valid Epoch: 23\tAccuracy: 11/13 (85%)\n",
            "\n"
          ]
        },
        {
          "output_type": "stream",
          "name": "stderr",
          "text": [
            " 95%|█████████▌| 23.75/25 [04:28<00:05,  4.52s/it] "
          ]
        },
        {
          "output_type": "stream",
          "name": "stdout",
          "text": [
            "\n",
            "Train Epoch: 24\tAccuracy: 43/51 (84%)\n",
            "\n"
          ]
        },
        {
          "output_type": "stream",
          "name": "stderr",
          "text": [
            "\r 96%|█████████▌| 23.875/25 [04:34<00:18, 16.52s/it]"
          ]
        },
        {
          "output_type": "stream",
          "name": "stdout",
          "text": [
            "\n",
            "Valid Epoch: 24\tAccuracy: 7/13 (54%)\n",
            "\n"
          ]
        },
        {
          "output_type": "stream",
          "name": "stderr",
          "text": [
            " 97%|█████████▋| 24.25/25 [04:39<00:10, 14.58s/it] "
          ]
        },
        {
          "output_type": "stream",
          "name": "stdout",
          "text": [
            "save mode at  25\n"
          ]
        },
        {
          "output_type": "stream",
          "name": "stderr",
          "text": [
            " 99%|█████████▉| 24.75/25 [04:40<00:01,  4.87s/it] "
          ]
        },
        {
          "output_type": "stream",
          "name": "stdout",
          "text": [
            "\n",
            "Train Epoch: 25\tAccuracy: 40/51 (78%)\n",
            "\n"
          ]
        },
        {
          "output_type": "stream",
          "name": "stderr",
          "text": [
            "100%|██████████| 25.0/25 [04:43<00:00, 11.35s/it]  \n"
          ]
        },
        {
          "output_type": "stream",
          "name": "stdout",
          "text": [
            "\n",
            "Valid Epoch: 25\tAccuracy: 9/13 (69%)\n",
            "\n",
            "Fold 5/5\n",
            "52 12\n"
          ]
        },
        {
          "output_type": "stream",
          "name": "stderr",
          "text": [
            "  2%|▎         | 0.625/25 [00:05<02:05,  5.14s/it]"
          ]
        },
        {
          "output_type": "stream",
          "name": "stdout",
          "text": [
            "save mode at  1\n",
            "save mode at  1\n"
          ]
        },
        {
          "output_type": "stream",
          "name": "stderr",
          "text": [
            "\r  3%|▎         | 0.75/25 [00:05<01:36,  3.98s/it] "
          ]
        },
        {
          "output_type": "stream",
          "name": "stdout",
          "text": [
            "save mode at  1\n",
            "\n",
            "Train Epoch: 1\tAccuracy: 32/52 (62%)\n",
            "\n"
          ]
        },
        {
          "output_type": "stream",
          "name": "stderr",
          "text": [
            "\r  4%|▎         | 0.875/25 [00:10<06:28, 16.11s/it]"
          ]
        },
        {
          "output_type": "stream",
          "name": "stdout",
          "text": [
            "\n",
            "Valid Epoch: 1\tAccuracy: 9/12 (75%)\n",
            "\n"
          ]
        },
        {
          "output_type": "stream",
          "name": "stderr",
          "text": [
            "  6%|▌         | 1.5/25 [00:17<03:38,  9.29s/it]  "
          ]
        },
        {
          "output_type": "stream",
          "name": "stdout",
          "text": [
            "save mode at  2\n"
          ]
        },
        {
          "output_type": "stream",
          "name": "stderr",
          "text": [
            "  7%|▋         | 1.75/25 [00:17<02:01,  5.22s/it] "
          ]
        },
        {
          "output_type": "stream",
          "name": "stdout",
          "text": [
            "\n",
            "Train Epoch: 2\tAccuracy: 34/52 (65%)\n",
            "\n"
          ]
        },
        {
          "output_type": "stream",
          "name": "stderr",
          "text": [
            "\r  8%|▊         | 1.875/25 [00:23<06:36, 17.14s/it]"
          ]
        },
        {
          "output_type": "stream",
          "name": "stdout",
          "text": [
            "\n",
            "Valid Epoch: 2\tAccuracy: 9/12 (75%)\n",
            "\n"
          ]
        },
        {
          "output_type": "stream",
          "name": "stderr",
          "text": [
            " 10%|▉         | 2.375/25 [00:29<04:47, 12.69s/it]"
          ]
        },
        {
          "output_type": "stream",
          "name": "stdout",
          "text": [
            "save mode at  3\n"
          ]
        },
        {
          "output_type": "stream",
          "name": "stderr",
          "text": [
            " 11%|█         | 2.75/25 [00:29<01:59,  5.38s/it] "
          ]
        },
        {
          "output_type": "stream",
          "name": "stdout",
          "text": [
            "save mode at  3\n",
            "\n",
            "Train Epoch: 3\tAccuracy: 45/52 (87%)\n",
            "\n"
          ]
        },
        {
          "output_type": "stream",
          "name": "stderr",
          "text": [
            "\r 12%|█▏        | 2.875/25 [00:35<06:14, 16.94s/it]"
          ]
        },
        {
          "output_type": "stream",
          "name": "stdout",
          "text": [
            "\n",
            "Valid Epoch: 3\tAccuracy: 9/12 (75%)\n",
            "\n"
          ]
        },
        {
          "output_type": "stream",
          "name": "stderr",
          "text": [
            " 15%|█▌        | 3.75/25 [00:41<01:43,  4.86s/it] "
          ]
        },
        {
          "output_type": "stream",
          "name": "stdout",
          "text": [
            "\n",
            "Train Epoch: 4\tAccuracy: 42/52 (81%)\n",
            "\n"
          ]
        },
        {
          "output_type": "stream",
          "name": "stderr",
          "text": [
            "\r 16%|█▌        | 3.875/25 [00:46<05:04, 14.43s/it]"
          ]
        },
        {
          "output_type": "stream",
          "name": "stdout",
          "text": [
            "\n",
            "Valid Epoch: 4\tAccuracy: 9/12 (75%)\n",
            "\n"
          ]
        },
        {
          "output_type": "stream",
          "name": "stderr",
          "text": [
            " 18%|█▊        | 4.625/25 [00:53<02:20,  6.88s/it]"
          ]
        },
        {
          "output_type": "stream",
          "name": "stdout",
          "text": [
            "\n",
            "Train Epoch: 5\tAccuracy: 41/52 (79%)\n",
            "\n"
          ]
        },
        {
          "output_type": "stream",
          "name": "stderr",
          "text": [
            "\r 20%|█▉        | 4.875/25 [00:57<04:13, 12.59s/it]"
          ]
        },
        {
          "output_type": "stream",
          "name": "stdout",
          "text": [
            "\n",
            "Valid Epoch: 5\tAccuracy: 9/12 (75%)\n",
            "\n"
          ]
        },
        {
          "output_type": "stream",
          "name": "stderr",
          "text": [
            " 23%|██▎       | 5.75/25 [01:04<01:37,  5.08s/it] "
          ]
        },
        {
          "output_type": "stream",
          "name": "stdout",
          "text": [
            "save mode at  6\n",
            "\n",
            "Train Epoch: 6\tAccuracy: 41/52 (79%)\n",
            "\n"
          ]
        },
        {
          "output_type": "stream",
          "name": "stderr",
          "text": [
            "\r 24%|██▎       | 5.875/25 [01:08<03:52, 12.17s/it]"
          ]
        },
        {
          "output_type": "stream",
          "name": "stdout",
          "text": [
            "\n",
            "Valid Epoch: 6\tAccuracy: 9/12 (75%)\n",
            "\n"
          ]
        },
        {
          "output_type": "stream",
          "name": "stderr",
          "text": [
            " 27%|██▋       | 6.75/25 [01:14<01:30,  4.98s/it] "
          ]
        },
        {
          "output_type": "stream",
          "name": "stdout",
          "text": [
            "save mode at  7\n",
            "\n",
            "Train Epoch: 7\tAccuracy: 41/52 (79%)\n",
            "\n"
          ]
        },
        {
          "output_type": "stream",
          "name": "stderr",
          "text": [
            "\r 28%|██▊       | 6.875/25 [01:19<04:04, 13.50s/it]"
          ]
        },
        {
          "output_type": "stream",
          "name": "stdout",
          "text": [
            "\n",
            "Valid Epoch: 7\tAccuracy: 11/12 (92%)\n",
            "\n"
          ]
        },
        {
          "output_type": "stream",
          "name": "stderr",
          "text": [
            " 31%|███       | 7.75/25 [01:26<01:49,  6.32s/it] "
          ]
        },
        {
          "output_type": "stream",
          "name": "stdout",
          "text": [
            "save mode at  8\n",
            "\n",
            "Train Epoch: 8\tAccuracy: 43/52 (83%)\n",
            "\n"
          ]
        },
        {
          "output_type": "stream",
          "name": "stderr",
          "text": [
            "\r 32%|███▏      | 7.875/25 [01:31<04:23, 15.39s/it]"
          ]
        },
        {
          "output_type": "stream",
          "name": "stdout",
          "text": [
            "\n",
            "Valid Epoch: 8\tAccuracy: 11/12 (92%)\n",
            "\n"
          ]
        },
        {
          "output_type": "stream",
          "name": "stderr",
          "text": [
            " 35%|███▌      | 8.75/25 [01:37<01:26,  5.32s/it] "
          ]
        },
        {
          "output_type": "stream",
          "name": "stdout",
          "text": [
            "save mode at  9\n",
            "\n",
            "Train Epoch: 9\tAccuracy: 43/52 (83%)\n",
            "\n"
          ]
        },
        {
          "output_type": "stream",
          "name": "stderr",
          "text": [
            "\r 36%|███▌      | 8.875/25 [01:42<03:35, 13.34s/it]"
          ]
        },
        {
          "output_type": "stream",
          "name": "stdout",
          "text": [
            "\n",
            "Valid Epoch: 9\tAccuracy: 11/12 (92%)\n",
            "\n"
          ]
        },
        {
          "output_type": "stream",
          "name": "stderr",
          "text": [
            " 39%|███▉      | 9.75/25 [01:48<01:17,  5.11s/it] "
          ]
        },
        {
          "output_type": "stream",
          "name": "stdout",
          "text": [
            "\n",
            "Train Epoch: 10\tAccuracy: 44/52 (85%)\n",
            "\n"
          ]
        },
        {
          "output_type": "stream",
          "name": "stderr",
          "text": [
            "\r 40%|███▉      | 9.875/25 [01:54<04:12, 16.72s/it]"
          ]
        },
        {
          "output_type": "stream",
          "name": "stdout",
          "text": [
            "\n",
            "Valid Epoch: 10\tAccuracy: 11/12 (92%)\n",
            "\n"
          ]
        },
        {
          "output_type": "stream",
          "name": "stderr",
          "text": [
            " 43%|████▎     | 10.75/25 [02:00<01:11,  5.03s/it] "
          ]
        },
        {
          "output_type": "stream",
          "name": "stdout",
          "text": [
            "save mode at  11\n",
            "\n",
            "Train Epoch: 11\tAccuracy: 42/52 (81%)\n",
            "\n"
          ]
        },
        {
          "output_type": "stream",
          "name": "stderr",
          "text": [
            "\r 44%|████▎     | 10.875/25 [02:03<02:20,  9.93s/it]"
          ]
        },
        {
          "output_type": "stream",
          "name": "stdout",
          "text": [
            "\n",
            "Valid Epoch: 11\tAccuracy: 11/12 (92%)\n",
            "\n"
          ]
        },
        {
          "output_type": "stream",
          "name": "stderr",
          "text": [
            " 47%|████▋     | 11.75/25 [02:09<01:01,  4.67s/it] "
          ]
        },
        {
          "output_type": "stream",
          "name": "stdout",
          "text": [
            "\n",
            "Train Epoch: 12\tAccuracy: 45/52 (87%)\n",
            "\n"
          ]
        },
        {
          "output_type": "stream",
          "name": "stderr",
          "text": [
            "\r 48%|████▊     | 11.875/25 [02:12<02:20, 10.67s/it]"
          ]
        },
        {
          "output_type": "stream",
          "name": "stdout",
          "text": [
            "\n",
            "Valid Epoch: 12\tAccuracy: 11/12 (92%)\n",
            "\n"
          ]
        },
        {
          "output_type": "stream",
          "name": "stderr",
          "text": [
            " 51%|█████     | 12.75/25 [02:18<00:51,  4.20s/it] "
          ]
        },
        {
          "output_type": "stream",
          "name": "stdout",
          "text": [
            "\n",
            "Train Epoch: 13\tAccuracy: 43/52 (83%)\n",
            "\n"
          ]
        },
        {
          "output_type": "stream",
          "name": "stderr",
          "text": [
            "\r 52%|█████▏    | 12.875/25 [02:23<02:56, 14.58s/it]"
          ]
        },
        {
          "output_type": "stream",
          "name": "stdout",
          "text": [
            "\n",
            "Valid Epoch: 13\tAccuracy: 11/12 (92%)\n",
            "\n"
          ]
        },
        {
          "output_type": "stream",
          "name": "stderr",
          "text": [
            " 55%|█████▍    | 13.625/25 [02:29<01:07,  5.91s/it]"
          ]
        },
        {
          "output_type": "stream",
          "name": "stdout",
          "text": [
            "save mode at  14\n",
            "\n",
            "Train Epoch: 14\tAccuracy: 45/52 (87%)\n",
            "\n"
          ]
        },
        {
          "output_type": "stream",
          "name": "stderr",
          "text": [
            "\r 56%|█████▌    | 13.875/25 [02:32<01:49,  9.84s/it]"
          ]
        },
        {
          "output_type": "stream",
          "name": "stdout",
          "text": [
            "\n",
            "Valid Epoch: 14\tAccuracy: 11/12 (92%)\n",
            "\n"
          ]
        },
        {
          "output_type": "stream",
          "name": "stderr",
          "text": [
            " 59%|█████▉    | 14.75/25 [02:38<00:43,  4.24s/it]"
          ]
        },
        {
          "output_type": "stream",
          "name": "stdout",
          "text": [
            "\n",
            "Train Epoch: 15\tAccuracy: 41/52 (79%)\n",
            "\n"
          ]
        },
        {
          "output_type": "stream",
          "name": "stderr",
          "text": [
            "\r 60%|█████▉    | 14.875/25 [02:42<01:51, 10.97s/it]"
          ]
        },
        {
          "output_type": "stream",
          "name": "stdout",
          "text": [
            "\n",
            "Valid Epoch: 15\tAccuracy: 9/12 (75%)\n",
            "\n"
          ]
        },
        {
          "output_type": "stream",
          "name": "stderr",
          "text": [
            " 62%|██████▎   | 15.625/25 [02:48<01:03,  6.74s/it]"
          ]
        },
        {
          "output_type": "stream",
          "name": "stdout",
          "text": [
            "\n",
            "Train Epoch: 16\tAccuracy: 44/52 (85%)\n",
            "\n"
          ]
        },
        {
          "output_type": "stream",
          "name": "stderr",
          "text": [
            "\r 64%|██████▎   | 15.875/25 [02:52<01:42, 11.24s/it]"
          ]
        },
        {
          "output_type": "stream",
          "name": "stdout",
          "text": [
            "\n",
            "Valid Epoch: 16\tAccuracy: 10/12 (83%)\n",
            "\n"
          ]
        },
        {
          "output_type": "stream",
          "name": "stderr",
          "text": [
            " 67%|██████▋   | 16.75/25 [02:59<00:44,  5.40s/it] "
          ]
        },
        {
          "output_type": "stream",
          "name": "stdout",
          "text": [
            "\n",
            "Train Epoch: 17\tAccuracy: 44/52 (85%)\n",
            "\n"
          ]
        },
        {
          "output_type": "stream",
          "name": "stderr",
          "text": [
            "\r 68%|██████▊   | 16.875/25 [03:03<01:38, 12.11s/it]"
          ]
        },
        {
          "output_type": "stream",
          "name": "stdout",
          "text": [
            "\n",
            "Valid Epoch: 17\tAccuracy: 11/12 (92%)\n",
            "\n"
          ]
        },
        {
          "output_type": "stream",
          "name": "stderr",
          "text": [
            " 71%|███████   | 17.75/25 [03:09<00:31,  4.41s/it] "
          ]
        },
        {
          "output_type": "stream",
          "name": "stdout",
          "text": [
            "\n",
            "Train Epoch: 18\tAccuracy: 45/52 (87%)\n",
            "\n"
          ]
        },
        {
          "output_type": "stream",
          "name": "stderr",
          "text": [
            "\r 72%|███████▏  | 17.875/25 [03:14<01:37, 13.66s/it]"
          ]
        },
        {
          "output_type": "stream",
          "name": "stdout",
          "text": [
            "\n",
            "Valid Epoch: 18\tAccuracy: 7/12 (58%)\n",
            "\n"
          ]
        },
        {
          "output_type": "stream",
          "name": "stderr",
          "text": [
            " 75%|███████▌  | 18.75/25 [03:19<00:28,  4.56s/it] "
          ]
        },
        {
          "output_type": "stream",
          "name": "stdout",
          "text": [
            "\n",
            "Train Epoch: 19\tAccuracy: 45/52 (87%)\n",
            "\n"
          ]
        },
        {
          "output_type": "stream",
          "name": "stderr",
          "text": [
            "\r 76%|███████▌  | 18.875/25 [03:22<00:59,  9.71s/it]"
          ]
        },
        {
          "output_type": "stream",
          "name": "stdout",
          "text": [
            "\n",
            "Valid Epoch: 19\tAccuracy: 5/12 (42%)\n",
            "\n"
          ]
        },
        {
          "output_type": "stream",
          "name": "stderr",
          "text": [
            " 79%|███████▉  | 19.75/25 [03:29<00:25,  4.82s/it]"
          ]
        },
        {
          "output_type": "stream",
          "name": "stdout",
          "text": [
            "\n",
            "Train Epoch: 20\tAccuracy: 44/52 (85%)\n",
            "\n"
          ]
        },
        {
          "output_type": "stream",
          "name": "stderr",
          "text": [
            "\r 80%|███████▉  | 19.875/25 [03:34<01:12, 14.17s/it]"
          ]
        },
        {
          "output_type": "stream",
          "name": "stdout",
          "text": [
            "\n",
            "Valid Epoch: 20\tAccuracy: 7/12 (58%)\n",
            "\n"
          ]
        },
        {
          "output_type": "stream",
          "name": "stderr",
          "text": [
            " 83%|████████▎ | 20.75/25 [03:40<00:20,  4.83s/it] "
          ]
        },
        {
          "output_type": "stream",
          "name": "stdout",
          "text": [
            "\n",
            "Train Epoch: 21\tAccuracy: 43/52 (83%)\n",
            "\n"
          ]
        },
        {
          "output_type": "stream",
          "name": "stderr",
          "text": [
            "\r 84%|████████▎ | 20.875/25 [03:44<00:54, 13.29s/it]"
          ]
        },
        {
          "output_type": "stream",
          "name": "stdout",
          "text": [
            "\n",
            "Valid Epoch: 21\tAccuracy: 10/12 (83%)\n",
            "\n"
          ]
        },
        {
          "output_type": "stream",
          "name": "stderr",
          "text": [
            " 87%|████████▋ | 21.75/25 [03:49<00:15,  4.64s/it] "
          ]
        },
        {
          "output_type": "stream",
          "name": "stdout",
          "text": [
            "\n",
            "Train Epoch: 22\tAccuracy: 45/52 (87%)\n",
            "\n"
          ]
        },
        {
          "output_type": "stream",
          "name": "stderr",
          "text": [
            "\r 88%|████████▊ | 21.875/25 [03:53<00:38, 12.45s/it]"
          ]
        },
        {
          "output_type": "stream",
          "name": "stdout",
          "text": [
            "\n",
            "Valid Epoch: 22\tAccuracy: 11/12 (92%)\n",
            "\n"
          ]
        },
        {
          "output_type": "stream",
          "name": "stderr",
          "text": [
            " 91%|█████████ | 22.75/25 [03:59<00:09,  4.34s/it] "
          ]
        },
        {
          "output_type": "stream",
          "name": "stdout",
          "text": [
            "save mode at  23\n",
            "\n",
            "Train Epoch: 23\tAccuracy: 44/52 (85%)\n",
            "\n"
          ]
        },
        {
          "output_type": "stream",
          "name": "stderr",
          "text": [
            "\r 92%|█████████▏| 22.875/25 [04:02<00:21,  9.93s/it]"
          ]
        },
        {
          "output_type": "stream",
          "name": "stdout",
          "text": [
            "\n",
            "Valid Epoch: 23\tAccuracy: 10/12 (83%)\n",
            "\n"
          ]
        },
        {
          "output_type": "stream",
          "name": "stderr",
          "text": [
            " 94%|█████████▍| 23.625/25 [04:08<00:07,  5.19s/it]"
          ]
        },
        {
          "output_type": "stream",
          "name": "stdout",
          "text": [
            "\n",
            "Train Epoch: 24\tAccuracy: 47/52 (90%)\n",
            "\n"
          ]
        },
        {
          "output_type": "stream",
          "name": "stderr",
          "text": [
            "\r 96%|█████████▌| 23.875/25 [04:13<00:12, 11.17s/it]"
          ]
        },
        {
          "output_type": "stream",
          "name": "stdout",
          "text": [
            "\n",
            "Valid Epoch: 24\tAccuracy: 11/12 (92%)\n",
            "\n"
          ]
        },
        {
          "output_type": "stream",
          "name": "stderr",
          "text": [
            " 99%|█████████▉| 24.75/25 [04:19<00:01,  5.22s/it] "
          ]
        },
        {
          "output_type": "stream",
          "name": "stdout",
          "text": [
            "\n",
            "Train Epoch: 25\tAccuracy: 46/52 (88%)\n",
            "\n"
          ]
        },
        {
          "output_type": "stream",
          "name": "stderr",
          "text": [
            "100%|██████████| 25.0/25 [04:24<00:00, 10.59s/it]  "
          ]
        },
        {
          "output_type": "stream",
          "name": "stdout",
          "text": [
            "\n",
            "Valid Epoch: 25\tAccuracy: 9/12 (75%)\n",
            "\n"
          ]
        },
        {
          "output_type": "stream",
          "name": "stderr",
          "text": [
            "\n"
          ]
        }
      ]
    },
    {
      "cell_type": "code",
      "execution_count": 21,
      "metadata": {
        "id": "e_QJJy1ZMPDZ",
        "colab": {
          "base_uri": "https://localhost:8080/",
          "height": 200
        },
        "outputId": "0ca3cd19-a764-4729-a3f2-3abc52c651e8"
      },
      "outputs": [
        {
          "output_type": "error",
          "ename": "NameError",
          "evalue": "ignored",
          "traceback": [
            "\u001b[0;31m---------------------------------------------------------------------------\u001b[0m",
            "\u001b[0;31mNameError\u001b[0m                                 Traceback (most recent call last)",
            "\u001b[0;32m<ipython-input-21-d9101964e045>\u001b[0m in \u001b[0;36m<cell line: 1>\u001b[0;34m()\u001b[0m\n\u001b[0;32m----> 1\u001b[0;31m \u001b[0mplt\u001b[0m\u001b[0;34m.\u001b[0m\u001b[0mplot\u001b[0m\u001b[0;34m(\u001b[0m\u001b[0mlosses\u001b[0m\u001b[0;34m)\u001b[0m\u001b[0;34m;\u001b[0m\u001b[0;34m\u001b[0m\u001b[0;34m\u001b[0m\u001b[0m\n\u001b[0m\u001b[1;32m      2\u001b[0m \u001b[0mplt\u001b[0m\u001b[0;34m.\u001b[0m\u001b[0mtitle\u001b[0m\u001b[0;34m(\u001b[0m\u001b[0;34m\"training loss\"\u001b[0m\u001b[0;34m)\u001b[0m\u001b[0;34m;\u001b[0m\u001b[0;34m\u001b[0m\u001b[0;34m\u001b[0m\u001b[0m\n",
            "\u001b[0;31mNameError\u001b[0m: name 'losses' is not defined"
          ]
        }
      ],
      "source": [
        "plt.plot(losses);\n",
        "plt.title(\"training loss\");"
      ]
    },
    {
      "cell_type": "code",
      "source": [
        "class ObjectHelper():\n",
        "    @classmethod\n",
        "    def is_NestedIterable(cls, target):\n",
        "        if cls.isIterable(target) and all(cls.isIterable(target) for sublist in target):\n",
        "            return True\n",
        "        else:\n",
        "            return False\n",
        "\n",
        "    @classmethod\n",
        "    def isIterable(self, target):\n",
        "        return True if isinstance(target, Iterable) else False\n",
        "\n",
        "class PlotManager():\n",
        "    def __init__(self, row=1, col=1, size=[7,3], type=\"melspectrogram\"):\n",
        "        self.row = row\n",
        "        self.col = col\n",
        "        self.figure = None\n",
        "        self.type_dict = {'plot_list': self.plot_list}\n",
        "        self.plotMethod = self.getPlotMethod(type)\n",
        "\n",
        "    def getPlotMethod(self, type):\n",
        "        return self.type_dict[type]\n",
        "\n",
        "    def preparePlot(self):\n",
        "        plt.clf()\n",
        "        fig, axs = plt.subplots(self.row, self.col, figsize=(10, 6), constrained_layout=True)\n",
        "        return fig, axs\n",
        "\n",
        "    def drawPlot(self, plot_list):\n",
        "        self.figure, axs = self.preparePlot()\n",
        "\n",
        "        if not ObjectHelper.is_NestedIterable(axs):\n",
        "            axs = [[axs]]\n",
        "\n",
        "        for content_dict in plot_list:\n",
        "            pos_1 = content_dict['position'][0]\n",
        "            pos_2 = content_dict['position'][1]\n",
        "\n",
        "            self.plotMethod(axs[pos_1][pos_2], content_dict['content'], title = content_dict['title'])\n",
        "        plt.show(block=False)\n",
        "\n",
        "    def plot_list(self, axis, content, title=None, ylabel=\"db\"):\n",
        "        axis.set_title(title)\n",
        "        axis.set_xlabel(\"epoch\")\n",
        "        axis.set_ylabel(\"percentage\")\n",
        "        axis.plot(content[0], label=\"train_acc\")\n",
        "        axis.plot(content[1], label=\"test_acc\")"
      ],
      "metadata": {
        "id": "0rUfiluX3bQK"
      },
      "execution_count": 22,
      "outputs": []
    },
    {
      "cell_type": "code",
      "source": [
        "plotmanager = PlotManager(row=3, col=2, type='plot_list')"
      ],
      "metadata": {
        "id": "JfVUSP513zZm"
      },
      "execution_count": 33,
      "outputs": []
    },
    {
      "cell_type": "code",
      "source": [
        "plot_list = [\n",
        "    {\"content\": [all_train_accuracy[0], all_valid_accuracy[0]], \"position\": [0,0], \"title\":\"fold0\"},\n",
        "    {\"content\": [all_train_accuracy[1], all_valid_accuracy[1]], \"position\": [0,1], \"title\":\"fold1\"},\n",
        "    {\"content\": [all_train_accuracy[2], all_valid_accuracy[2]], \"position\": [1,0], \"title\":\"fold2\"},\n",
        "    {\"content\": [all_train_accuracy[3], all_valid_accuracy[3]], \"position\": [1,1], \"title\":\"fold3\"},\n",
        "    {\"content\": [all_train_accuracy[4], all_valid_accuracy[4]], \"position\": [2,0], \"title\":\"fold4\"},\n",
        "]"
      ],
      "metadata": {
        "id": "fMZ2oS2B3eXS"
      },
      "execution_count": 34,
      "outputs": []
    },
    {
      "cell_type": "code",
      "source": [
        "plotmanager.drawPlot(plot_list)"
      ],
      "metadata": {
        "id": "LyN7OuMp35UV",
        "colab": {
          "base_uri": "https://localhost:8080/",
          "height": 437
        },
        "outputId": "73610708-182f-45c2-8006-ed09ce6792f1"
      },
      "execution_count": 35,
      "outputs": [
        {
          "output_type": "display_data",
          "data": {
            "text/plain": [
              "<Figure size 640x480 with 0 Axes>"
            ]
          },
          "metadata": {}
        },
        {
          "output_type": "display_data",
          "data": {
            "text/plain": [
              "<Figure size 1000x600 with 6 Axes>"
            ],
            "image/png": "[encoded data removed]"
          },
          "metadata": {}
        }
      ]
    },
    {
      "cell_type": "code",
      "source": [
        "class Ensemble():\n",
        "  def __init__(self, model_list):\n",
        "    self.model_list = []\n",
        "    for model in model_list:\n",
        "        self.model_list.append(model)\n",
        "\n",
        "  def __call__(self,x):\n",
        "    tensor_list = []\n",
        "    for model in self.model_list:\n",
        "        model.eval()\n",
        "        output = model(x)\n",
        "        tensor_list.append( get_likely_index(output) )\n",
        "\n",
        "    print(tensor_list)\n",
        "    prediction_list = torch.stack(tensor_list, dim=0)\n",
        "    print(prediction_list)\n",
        "    ensemble = torch.sum(prediction_list, 0)\n",
        "    ensemble_output = torch.where(ensemble>2, 1, 0)\n",
        "\n",
        "    print(ensemble_output)\n",
        "\n",
        "    return ensemble_output"
      ],
      "metadata": {
        "id": "495yYhmcFp-E"
      },
      "execution_count": 44,
      "outputs": []
    },
    {
      "cell_type": "code",
      "execution_count": 45,
      "metadata": {
        "id": "EnPKmcZ9YLWs"
      },
      "outputs": [],
      "source": [
        "def test(model_path):\n",
        "    model_list = []\n",
        "    for path in model_path:\n",
        "        model = prepare_model()\n",
        "        model.load_state_dict(torch.load(path))\n",
        "        model.to('cpu')\n",
        "\n",
        "        model_list.append(copy.deepcopy(model))\n",
        "        model = None\n",
        "    ensembler = Ensemble(model_list)\n",
        "    correct = 0\n",
        "\n",
        "    for data, target in test_loader:\n",
        "\n",
        "        data = data.to('cpu')\n",
        "        target = target.to('cpu')\n",
        "\n",
        "        expanded_data = torch.stack([data]*3, dim=1)\n",
        "        output = ensembler(expanded_data)\n",
        "\n",
        "        target = get_likely_index(target)\n",
        "        print(output, target)\n",
        "        correct += number_of_correct(output, target)\n",
        "\n",
        "    ensembler.model_list = None\n",
        "    print(f\"\\tAccuracy: {correct}/{len(test_loader.dataset)} ({100. * correct / len(test_loader.dataset):.0f}%)\\n\")"
      ]
    },
    {
      "cell_type": "code",
      "execution_count": 46,
      "metadata": {
        "id": "xr_quJg-bxXc",
        "colab": {
          "base_uri": "https://localhost:8080/"
        },
        "outputId": "e212a79f-b40f-4a59-cdd1-7ace43f3ad35"
      },
      "outputs": [
        {
          "output_type": "stream",
          "name": "stdout",
          "text": [
            "[tensor([1, 1, 1, 1, 1, 1, 0, 1, 1, 1, 0, 1, 1, 1, 1, 1]), tensor([1, 1, 1, 1, 1, 1, 1, 1, 1, 1, 1, 1, 1, 1, 1, 1]), tensor([1, 1, 1, 1, 1, 1, 0, 1, 1, 1, 0, 1, 1, 1, 1, 1]), tensor([0, 0, 1, 1, 0, 0, 0, 0, 0, 0, 0, 0, 0, 0, 0, 0]), tensor([0, 0, 1, 1, 0, 0, 0, 0, 0, 0, 0, 0, 1, 0, 0, 1])]\n",
            "tensor([[1, 1, 1, 1, 1, 1, 0, 1, 1, 1, 0, 1, 1, 1, 1, 1],\n",
            "        [1, 1, 1, 1, 1, 1, 1, 1, 1, 1, 1, 1, 1, 1, 1, 1],\n",
            "        [1, 1, 1, 1, 1, 1, 0, 1, 1, 1, 0, 1, 1, 1, 1, 1],\n",
            "        [0, 0, 1, 1, 0, 0, 0, 0, 0, 0, 0, 0, 0, 0, 0, 0],\n",
            "        [0, 0, 1, 1, 0, 0, 0, 0, 0, 0, 0, 0, 1, 0, 0, 1]])\n",
            "tensor([1, 1, 1, 1, 1, 1, 0, 1, 1, 1, 0, 1, 1, 1, 1, 1])\n",
            "tensor([1, 1, 1, 1, 1, 1, 0, 1, 1, 1, 0, 1, 1, 1, 1, 1]) tensor([1, 1, 1, 1, 1, 1, 0, 1, 1, 1, 1, 1, 1, 1, 1, 1])\n",
            "\tAccuracy: 15/16 (94%)\n",
            "\n"
          ]
        }
      ],
      "source": [
        "model_path = ['./best_model_fold0.pt', './best_model_fold1.pt', './best_model_fold2.pt', './best_model_fold3.pt', './best_model_fold4.pt']\n",
        "test(model_path)"
      ]
    },
    {
      "cell_type": "markdown",
      "metadata": {
        "id": "ANvxIRBvEILG"
      },
      "source": [
        "# Inference"
      ]
    },
    {
      "cell_type": "code",
      "execution_count": 47,
      "metadata": {
        "id": "hJGoFZLgF-kW"
      },
      "outputs": [],
      "source": [
        "def get_other_sound():\n",
        "    # 병합할 다른 소리 파일 가져오기\n",
        "        _meta = pd.read_csv( othersourcePath + \"/meta.csv\", index_col=[0] )\n",
        "\n",
        "        _meta = _meta['mp3_path']\n",
        "        path = _meta.iloc[random.randrange(1,len(_meta))]\n",
        "\n",
        "        waveform, sample_rate = torchaudio.load( othersourcePath / Path(str(path)).with_suffix('.mp3'))\n",
        "        audio_sample = F.resample(waveform[0], sample_rate, config['sr'], lowpass_filter_width=6)\n",
        "        return audio_sample\n",
        "\n",
        "def minmaxScaler(data):\n",
        "    # 정규화 수행\n",
        "        data_min, data_max = data.min(), data.max()\n",
        "        new_lower, new_upper = -1, 1\n",
        "        scaled_data = (data - data_min)/(data_max - data_min)*(new_upper - new_lower) + new_lower\n",
        "        return scaled_data\n",
        "\n",
        "def mixOtherSound(audio_sample, mix_rate=1.0):\n",
        "    # 시험 데이터를 실 데이터로 전이시키는 함수\n",
        "        other_sound = get_other_sound()\n",
        "        if len(other_sound) > len(audio_sample):\n",
        "            other_sound = other_sound[:len(audio_sample)]\n",
        "        else:\n",
        "            other_sound = other_sound[:len(audio_sample)]\n",
        "            front = int( (len(audio_sample) - len(other_sound)) / 4 ) * 3\n",
        "            back = (len(audio_sample) - len(other_sound)) - front\n",
        "            other_sound = nn.functional.pad(other_sound, (front, back) , 'constant', value=0)\n",
        "\n",
        "        scaled_audio_data = minmaxScaler(audio_sample)\n",
        "        scaled_other_data = minmaxScaler(other_sound)\n",
        "\n",
        "        audio_sample = scaled_audio_data + (scaled_other_data*mix_rate)\n",
        "\n",
        "        return audio_sample"
      ]
    },
    {
      "cell_type": "code",
      "execution_count": 48,
      "metadata": {
        "id": "uW0YHPI9Fx7F"
      },
      "outputs": [],
      "source": [
        "path = \"221109_hydrogen_S206_Num_1_Horn_Yes_2_22.wav\"\n",
        "waveform, sample_rate = torchaudio.load( dirPath / Path(path).with_suffix('.wav'))\n",
        "audio_sample = F.resample(waveform[0], sample_rate, config['sr'], lowpass_filter_width=6)\n",
        "\n",
        "audio_sample = mixOtherSound(audio_sample, mix_rate=0.2)\n",
        "\n",
        "noisy_path = \"./noisy_audio.wav\"\n",
        "torchaudio.save(noisy_path, audio_sample.unsqueeze(0), config['sr'])"
      ]
    },
    {
      "cell_type": "code",
      "execution_count": 51,
      "metadata": {
        "id": "oeLuQJEeEIC7"
      },
      "outputs": [],
      "source": [
        "#model = AudioModel(sr=config['sr'], n_mels = config['n_mels'], hidden_size = 40, num_output = 2)\n",
        "#yes가 1임\n",
        "waveform, sample_rate = torchaudio.load( dirPath / Path(path).with_suffix('.wav'))\n",
        "audio_sample = F.resample(waveform[0], sample_rate, config['sr'], lowpass_filter_width=6)\n",
        "\n",
        "mel_converter = torchaudio.transforms.MelSpectrogram(sample_rate=config['sr'], n_mels=config['n_mels'])\n",
        "db_converter = torchaudio.transforms.AmplitudeToDB()\n",
        "\n",
        "feature = db_converter(mel_converter(audio_sample))\n",
        "\n",
        "model = prepare_model()\n",
        "model.load_state_dict(torch.load(\"./best_model_fold0.pt\"))\n",
        "model.to(config['device'])\n",
        "model.eval()\n",
        "\n",
        "feature = feature.unsqueeze(0)\n",
        "expanded_data = torch.stack([feature]*3, dim=1)\n",
        "expanded_data = expanded_data.to(config['device'])\n",
        "output = model(expanded_data)\n",
        "pred = get_likely_index(output)"
      ]
    },
    {
      "cell_type": "code",
      "execution_count": 52,
      "metadata": {
        "id": "eMZml0fnLPOL",
        "colab": {
          "base_uri": "https://localhost:8080/"
        },
        "outputId": "e9fa0866-0f34-44a9-c4bd-20dfcc3bae59"
      },
      "outputs": [
        {
          "output_type": "stream",
          "name": "stdout",
          "text": [
            "이상치 감지\n"
          ]
        }
      ],
      "source": [
        "print( \"이상치 감지\" if int(pred[0]) == 1 else \"이상치 불검출\")"
      ]
    },
    {
      "cell_type": "markdown",
      "metadata": {
        "id": "R2XSht09Ux9c"
      },
      "source": [
        "# 예비 코드"
      ]
    },
    {
      "cell_type": "code",
      "execution_count": null,
      "metadata": {
        "id": "ogbhrpMeU2SC"
      },
      "outputs": [],
      "source": [
        "def SoundAugment():\n",
        "    def __init__(self, other_sound_path=None):\n",
        "        assert other_sound_path is not None, \"it must be filled\"\n",
        "        self.other_sound_dir = other_sound_path\n",
        "\n",
        "    def _get_other_sound(self, sound, amplitude):\n",
        "        _meta = pd.read_csv( self.other_sound_dir + \"/meta.csv\", index_col=[0] )\n",
        "\n",
        "        _meta = _meta['mp3_path']\n",
        "        path = _meta.iloc[random.randrange(1,len(_meta))]\n",
        "\n",
        "        waveform, sample_rate = torchaudio.load( self.other_sound_dir / Path(str(path)).with_suffix('.mp3'))\n",
        "        audio_sample = F.resample(waveform[0], sample_rate, self.config['sr'], lowpass_filter_width=6)\n",
        "        augmented_sound = sound + audio_sample\n",
        "        return augmented_sound\n",
        "\n",
        "    def augment(self, feature):\n",
        "        feature = self._get_other_sound(feature)\n",
        "        return feature"
      ]
    },
    {
      "cell_type": "code",
      "execution_count": null,
      "metadata": {
        "id": "0FwtkQAiNGdL"
      },
      "outputs": [],
      "source": [
        "def prepare_model():\n",
        "    resnet_model = resnet18(weights='IMAGENET1K_V1')\n",
        "    resnet_model.fc = nn.Linear(512,1)\n",
        "\n",
        "    for m in resnet_model.modules():\n",
        "        if isinstance(m, nn.Conv2d):\n",
        "            nn.init.kaiming_normal_(m.weight, mode=\"fan_out\", nonlinearity=\"relu\")\n",
        "        elif isinstance(m, (nn.BatchNorm2d, nn.GroupNorm)):\n",
        "            nn.init.constant_(m.weight, 1)\n",
        "            nn.init.constant_(m.bias, 0)\n",
        "\n",
        "    return resnet_model"
      ]
    },
    {
      "cell_type": "code",
      "execution_count": null,
      "metadata": {
        "id": "GDs-TJwP6p4H"
      },
      "outputs": [],
      "source": [
        "class AudioModel(nn.Module):\n",
        "    def __init__(self, sr, n_mels, hidden_size, num_output, augmentation=False):\n",
        "        super().__init__()\n",
        "        self.sr = sr\n",
        "        self.conv_layer = nn.Sequential(\n",
        "          nn.Conv1d(n_mels, out_channels=hidden_size, kernel_size=2),\n",
        "          nn.MaxPool1d(3),\n",
        "          nn.ReLU(),\n",
        "          nn.Conv1d(hidden_size, out_channels=hidden_size, kernel_size=3),\n",
        "          nn.MaxPool1d(3),\n",
        "          nn.ReLU(),\n",
        "        )\n",
        "        self.final_layer = nn.Linear(hidden_size, num_output)\n",
        "\n",
        "    def forward(self, x):\n",
        "        out = self.conv_layer(x)\n",
        "        out = torch.max(out, dim=-1)[0]\n",
        "        out = self.final_layer(out)\n",
        "        out = torch.sigmoid(out)\n",
        "        return out"
      ]
    }
  ],
  "metadata": {
    "accelerator": "GPU",
    "colab": {
      "machine_shape": "hm",
      "provenance": [],
      "collapsed_sections": [
        "R2XSht09Ux9c"
      ],
      "gpuType": "V100"
    },
    "kernelspec": {
      "display_name": "Python 3",
      "name": "python3"
    },
    "language_info": {
      "name": "python"
    }
  },
  "nbformat": 4,
  "nbformat_minor": 0
}