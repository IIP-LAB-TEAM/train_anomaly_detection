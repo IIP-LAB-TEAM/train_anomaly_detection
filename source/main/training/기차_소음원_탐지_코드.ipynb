{
  "cells": [
    {
      "cell_type": "markdown",
      "metadata": {
        "id": "L1mV6yfnwUtb"
      },
      "source": [
        "# 기차 대차 이상 소음원 탐지 모델"
      ]
    },
    {
      "cell_type": "code",
      "execution_count": 1,
      "metadata": {
        "id": "jVhUhNhTv-jx"
      },
      "outputs": [],
      "source": [
        "# Author jhCOR"
      ]
    },
    {
      "cell_type": "markdown",
      "metadata": {
        "id": "6EPhFob4woNW"
      },
      "source": [
        "### 드라이브 마운트 /  라이브러리 임포트 / 라이브러리 설치"
      ]
    },
    {
      "cell_type": "code",
      "execution_count": 2,
      "metadata": {
        "colab": {
          "base_uri": "https://localhost:8080/"
        },
        "id": "u9nPnyFAgTUg",
        "outputId": "699c7728-e98b-4236-8c9a-a11d75ee8667"
      },
      "outputs": [
        {
          "output_type": "stream",
          "name": "stdout",
          "text": [
            "Drive already mounted at /content/drive; to attempt to forcibly remount, call drive.mount(\"/content/drive\", force_remount=True).\n"
          ]
        }
      ],
      "source": [
        "from google.colab import drive\n",
        "drive.mount('/content/drive')"
      ]
    },
    {
      "cell_type": "code",
      "execution_count": 3,
      "metadata": {
        "colab": {
          "base_uri": "https://localhost:8080/"
        },
        "id": "G6Iz8nBbdhY2",
        "outputId": "a457b804-6d62-4803-b1e7-56a155153133"
      },
      "outputs": [
        {
          "output_type": "stream",
          "name": "stdout",
          "text": [
            "Collecting tensorflow_addons\n",
            "  Downloading tensorflow_addons-0.21.0-cp310-cp310-manylinux_2_17_x86_64.manylinux2014_x86_64.whl (612 kB)\n",
            "\u001b[?25l     \u001b[90m━━━━━━━━━━━━━━━━━━━━━━━━━━━━━━━━━━━━━━━━\u001b[0m \u001b[32m0.0/612.1 kB\u001b[0m \u001b[31m?\u001b[0m eta \u001b[36m-:--:--\u001b[0m\r\u001b[2K     \u001b[91m━━━━━━━━━━━━━━━━━━\u001b[0m\u001b[90m╺\u001b[0m\u001b[90m━━━━━━━━━━━━━━━━━━━━\u001b[0m \u001b[32m286.7/612.1 kB\u001b[0m \u001b[31m8.6 MB/s\u001b[0m eta \u001b[36m0:00:01\u001b[0m\r\u001b[2K     \u001b[90m━━━━━━━━━━━━━━━━━━━━━━━━━━━━━━━━━━━━━━\u001b[0m \u001b[32m612.1/612.1 kB\u001b[0m \u001b[31m12.5 MB/s\u001b[0m eta \u001b[36m0:00:00\u001b[0m\n",
            "\u001b[?25hRequirement already satisfied: packaging in /usr/local/lib/python3.10/dist-packages (from tensorflow_addons) (23.1)\n",
            "Collecting typeguard<3.0.0,>=2.7 (from tensorflow_addons)\n",
            "  Downloading typeguard-2.13.3-py3-none-any.whl (17 kB)\n",
            "Installing collected packages: typeguard, tensorflow_addons\n",
            "Successfully installed tensorflow_addons-0.21.0 typeguard-2.13.3\n"
          ]
        }
      ],
      "source": [
        "!pip install tensorflow_addons"
      ]
    },
    {
      "cell_type": "code",
      "execution_count": 4,
      "metadata": {
        "id": "LNiTlcgND6I5"
      },
      "outputs": [],
      "source": [
        "import torchaudio.functional as F\n",
        "import torch.nn as nn\n",
        "import torchaudio\n",
        "import torch\n",
        "\n",
        "import pandas as pd\n",
        "import numpy as np\n",
        "import librosa\n",
        "import glob\n",
        "import os\n",
        "import re\n",
        "from tqdm import tqdm\n",
        "import random\n",
        "import copy\n",
        "\n",
        "import matplotlib.pyplot as plt\n",
        "from datetime import datetime\n",
        "from pathlib import Path\n",
        "import torch.optim as optim\n",
        "from torch.utils.data import Dataset\n",
        "from collections.abc import Iterable\n",
        "from torch.utils.data import DataLoader, random_split\n",
        "\n",
        "from torchvision.models import resnet18"
      ]
    },
    {
      "cell_type": "markdown",
      "metadata": {
        "id": "ev8vqBr2xHUM"
      },
      "source": [
        "### 시드 고정 / device설정 / 실험 세팅 값 설정"
      ]
    },
    {
      "cell_type": "code",
      "execution_count": 5,
      "metadata": {
        "colab": {
          "base_uri": "https://localhost:8080/"
        },
        "id": "rKP2SbcRBdNE",
        "outputId": "9ec72819-b8c0-43ac-fc53-ef4928eec075"
      },
      "outputs": [
        {
          "output_type": "stream",
          "name": "stdout",
          "text": [
            "cuda\n",
            "Current cuda device: 0\n",
            "Count of using GPUs: 1\n"
          ]
        }
      ],
      "source": [
        "print(\"cuda\" if torch.cuda.is_available() else \"cpu\")\n",
        "device = \"cpu\"\n",
        "if torch.cuda.is_available():\n",
        "    device = \"cuda\"\n",
        "    print('Current cuda device:', torch.cuda.current_device())\n",
        "    print('Count of using GPUs:', torch.cuda.device_count())\n",
        "\n",
        "#################\n",
        "\n",
        "config = {'sr' : 25600, 'device':device, 'n_mels':80, 'core':os.cpu_count(), \"train_ratio\":0.6,\n",
        "           \"valid_ratio\":0.2, \"test_ratio\":0.2, \"path\":\"./best_model.pt\", \"seed\": 42}\n",
        "\n",
        "#################\n",
        "\n",
        "dirPath = \"/content/drive/MyDrive/Artificial_Intelligence/ai_data/기차대차소음/S206_wav\"\n",
        "csvPath = \"/content/drive/MyDrive/Artificial_Intelligence/ai_data/기차대차소음/metadata.csv\"\n",
        "othersourcePath = \"/content/drive/MyDrive/Artificial_Intelligence/ai_data/MTAT_SMALL\"\n",
        "model_save_path = \"./best_model.pt\""
      ]
    },
    {
      "cell_type": "code",
      "execution_count": 6,
      "metadata": {
        "id": "BbNCeraIt-oB"
      },
      "outputs": [],
      "source": [
        "def restrict_seed(seed):\n",
        "    print(\"시드 고정: \", seed)\n",
        "    random.seed(seed)\n",
        "    np.random.seed(seed)\n",
        "    torch.manual_seed(seed)\n",
        "    torch.cuda.manual_seed(seed)\n",
        "    torch.cuda.manual_seed_all(seed)\n",
        "    torch.backends.cudnn.deterministic = True\n",
        "    torch.backends.cudnn.benchmark = False\n",
        "\n",
        "def isIterable(target):\n",
        "    return True if isinstance(target, Iterable) else False\n",
        "\n",
        "def plot_spectrogram(spectrogram, title=None, ylabel=\"freq_bin\"):\n",
        "    plt.clf()\n",
        "    fig, axs = plt.subplots(1, 1, figsize=(10, 4))\n",
        "    axs.set_title(title or \"Spectrogram\")\n",
        "    axs.set_ylabel(ylabel)\n",
        "    axs.set_xlabel(\"frame\")\n",
        "    im = axs.imshow(librosa.power_to_db(spectrogram), origin=\"lower\", aspect=\"auto\")\n",
        "    fig.colorbar(im, ax=axs)\n",
        "    plt.show(block=False)"
      ]
    },
    {
      "cell_type": "code",
      "execution_count": 7,
      "metadata": {
        "colab": {
          "base_uri": "https://localhost:8080/"
        },
        "id": "-pnryF9LBkz-",
        "outputId": "6b38213a-87f5-44c0-a230-d67436264424"
      },
      "outputs": [
        {
          "output_type": "stream",
          "name": "stdout",
          "text": [
            "시드 고정:  42\n",
            "{'sr': 25600, 'device': 'cuda', 'n_mels': 80, 'core': 8, 'train_ratio': 0.6, 'valid_ratio': 0.2, 'test_ratio': 0.2, 'path': './best_model.pt', 'seed': 42}\n"
          ]
        }
      ],
      "source": [
        "restrict_seed(config['seed'])\n",
        "print(config)"
      ]
    },
    {
      "cell_type": "markdown",
      "metadata": {
        "id": "JB9ViXVnxY4B"
      },
      "source": [
        "### 데이터셋 정의"
      ]
    },
    {
      "cell_type": "code",
      "execution_count": 8,
      "metadata": {
        "id": "v0g9gfOqfd9m"
      },
      "outputs": [],
      "source": [
        "class soundDataset(Dataset):\n",
        "    def __init__(self, dir_path, csv_path, mode=\"train\", config=None, other_sound_path=None, mixSoundRatio=0):\n",
        "        self.mel_converter = torchaudio.transforms.MelSpectrogram(sample_rate=config['sr'], n_mels=config['n_mels'])\n",
        "        self.db_converter = torchaudio.transforms.AmplitudeToDB()\n",
        "        self.dir = dir_path\n",
        "        self.mixSoundRatio = mixSoundRatio\n",
        "        self.config = config\n",
        "\n",
        "        assert other_sound_path is not None, \"it must be filled\"\n",
        "        self.other_sound_dir = other_sound_path\n",
        "\n",
        "        colume_list = ['title',  'Car_type', 'Horn', 'Position', 'S206_position','Length', 'Car_num', 'path']\n",
        "\n",
        "        metaData = pd.read_csv(csv_path)\n",
        "        metaData = metaData[colume_list]\n",
        "        metaData = metaData.sort_values(by=\"Car_type\")\n",
        "        metaData['label'] = metaData['Horn'].apply(lambda x: 1 if x == \"Yes\" else 0)\n",
        "        metaData['Position'] = metaData['Position'].fillna(-1)\n",
        "\n",
        "        self.meta = metaData\n",
        "        self.meta = self._check_all_file_exist()\n",
        "        self.meta['length'] = self._check_all_file_size()\n",
        "        display(self.meta)\n",
        "        print(\"Horn Yes 개수\", len(self.meta[self.meta['Horn']==\"Yes\" ]), \"Horn No 개수\", len(self.meta[self.meta['Horn']==\"No\" ]))\n",
        "\n",
        "    def _get_other_sound(self):\n",
        "    # 병합할 다른 소리 파일 가져오기\n",
        "        _meta = pd.read_csv( self.other_sound_dir + \"/meta.csv\", index_col=[0] )\n",
        "\n",
        "        _meta = _meta['mp3_path']\n",
        "        path = _meta.iloc[random.randrange(1,len(_meta))]\n",
        "\n",
        "        waveform, sample_rate = torchaudio.load( self.other_sound_dir / Path(str(path)).with_suffix('.mp3'))\n",
        "        audio_sample = F.resample(waveform[0], sample_rate, self.config['sr'], lowpass_filter_width=6)\n",
        "        return audio_sample\n",
        "\n",
        "    def _check_all_file_exist(self):\n",
        "    # 파일-음원 매칭을 체크하여 소리 파일이 없는 경우 제외\n",
        "        for i in range(len(self.meta['path'])):\n",
        "            path = self.meta['path'].iloc[i]\n",
        "            if not os.path.exists(self.dir / Path(path).with_suffix('.wav')):\n",
        "                meata_data = self.meta [self.meta['path']!=path]\n",
        "                return meata_data\n",
        "\n",
        "    def _check_all_file_size(self):\n",
        "\n",
        "        length_list = []\n",
        "        for i in range(len(self.meta['path'])):\n",
        "            waveform, sample_rate = torchaudio.load(self.dir / Path(self.meta['path'].iloc[i]).with_suffix('.wav'))\n",
        "            audio_sample = F.resample(waveform[0], sample_rate, self.config['sr'], lowpass_filter_width=6)\n",
        "\n",
        "            length_list.append(len(audio_sample))\n",
        "        return length_list\n",
        "\n",
        "    def minmaxScaler(self, data):\n",
        "    # 정규화 수행\n",
        "        data_min, data_max = data.min(), data.max()\n",
        "        new_lower, new_upper = -1, 1\n",
        "        scaled_data = (data - data_min)/(data_max - data_min)*(new_upper - new_lower) + new_lower\n",
        "        return scaled_data\n",
        "\n",
        "    def mixOtherSound(self, audio_sample, mix_rate=1.0):\n",
        "    # 시험 데이터를 실 데이터로 전이시키는 함수\n",
        "        other_sound = self._get_other_sound()\n",
        "        if len(other_sound) > len(audio_sample):\n",
        "            other_sound = other_sound[:len(audio_sample)]\n",
        "        else:\n",
        "            other_sound = other_sound[:len(audio_sample)]\n",
        "            front = int( (len(audio_sample) - len(other_sound)) / 4 )\n",
        "            back = (len(audio_sample) - len(other_sound)) - front\n",
        "            other_sound = nn.functional.pad(other_sound, (front, back) , 'constant', value=0)\n",
        "\n",
        "        scaled_audio_data = self.minmaxScaler(audio_sample)\n",
        "        scaled_other_data = self.minmaxScaler(other_sound)\n",
        "\n",
        "        audio_sample = scaled_audio_data + (scaled_other_data*mix_rate)\n",
        "\n",
        "        return audio_sample\n",
        "\n",
        "    def __getitem__(self, idx):\n",
        "        row =  self.meta.iloc[idx]\n",
        "        path = row['path']\n",
        "        label = row['label']\n",
        "\n",
        "        waveform, sample_rate = torchaudio.load(self.dir / Path(path).with_suffix('.wav'))\n",
        "        audio_sample = F.resample(waveform[0], sample_rate, self.config['sr'], lowpass_filter_width=6)\n",
        "\n",
        "        if self.mixSoundRatio > 0:\n",
        "            audio_sample = self.mixOtherSound(audio_sample, mix_rate=self.mixSoundRatio)\n",
        "\n",
        "        feature = self.db_converter(self.mel_converter(audio_sample))\n",
        "        label = nn.functional.one_hot(torch.tensor(label), num_classes=2)\n",
        "\n",
        "        return feature, label\n",
        "\n",
        "    def __len__(self):\n",
        "        return len(self.meta)\n",
        "\n",
        "def collate_padder(batch):\n",
        "# 각 시퀀스를 패딩\n",
        "    sequence_lengths = [item[0].size(1) for item in batch]\n",
        "    max_length = max(sequence_lengths)\n",
        "\n",
        "\n",
        "    padded_features = [torch.nn.functional.pad(item[0], (0, max_length - item[0].size(1))) for item in batch]\n",
        "\n",
        "    labels = [item[1] for item in batch]\n",
        "    return torch.stack(padded_features, dim=0), torch.stack(labels, dim=0).float()"
      ]
    },
    {
      "cell_type": "code",
      "execution_count": 9,
      "metadata": {
        "colab": {
          "base_uri": "https://localhost:8080/",
          "height": 609
        },
        "id": "qq0oJs4Y6yTK",
        "outputId": "f88e107a-ebdf-4e5c-d392-2b224662940a"
      },
      "outputs": [
        {
          "output_type": "stream",
          "name": "stderr",
          "text": [
            "/usr/local/lib/python3.10/dist-packages/torchaudio/functional/functional.py:576: UserWarning: At least one mel filterbank has all zero values. The value for `n_mels` (80) may be set too high. Or, the value for `n_freqs` (201) may be set too low.\n",
            "  warnings.warn(\n",
            "<ipython-input-8-c133147a1f10>:22: SettingWithCopyWarning: \n",
            "A value is trying to be set on a copy of a slice from a DataFrame.\n",
            "Try using .loc[row_indexer,col_indexer] = value instead\n",
            "\n",
            "See the caveats in the documentation: https://pandas.pydata.org/pandas-docs/stable/user_guide/indexing.html#returning-a-view-versus-a-copy\n",
            "  self.meta['length'] = self._check_all_file_size()\n"
          ]
        },
        {
          "output_type": "display_data",
          "data": {
            "text/plain": [
              "           title Car_type Horn  Position  S206_position  Length  Car_num  \\\n",
              "0   test_01.tdms     수소열차  Yes      22.0             22      44        2   \n",
              "62   test_5.tdms     수소열차   No      -1.0             22      44        2   \n",
              "63   test_6.tdms     수소열차   No      -1.0             22      44        2   \n",
              "64   test_7.tdms     수소열차   No      -1.0             22      44        2   \n",
              "65   test_8.tdms     수소열차   No      -1.0             22      44        2   \n",
              "..           ...      ...  ...       ...            ...     ...      ...   \n",
              "43  test_11.tdms   차세대전동차  Yes      61.0             22     122        6   \n",
              "44  test_12.tdms   차세대전동차  Yes      61.0             22     122        6   \n",
              "45  test_13.tdms   차세대전동차  Yes      61.0             22     122        6   \n",
              "31  test_08.tdms   차세대전동차  Yes      61.0             22     122        6   \n",
              "80  test_12.tdms   차세대전동차   No      -1.0             22     122        6   \n",
              "\n",
              "                                            path  label   length  \n",
              "0   221102_hydrogen_S206_Num_0_Horn_Yes_2_22.wav      1  2002044  \n",
              "62     221109_hydrogen_S206_Num_4_Horn_No_2_.wav      0   599187  \n",
              "63     221109_hydrogen_S206_Num_5_Horn_No_2_.wav      0   689540  \n",
              "64     221109_hydrogen_S206_Num_6_Horn_No_2_.wav      0   418480  \n",
              "65     221109_hydrogen_S206_Num_7_Horn_No_2_.wav      0   570654  \n",
              "..                                           ...    ...      ...  \n",
              "43  221107_nextgen_S206_Num_10_Horn_Yes_6_61.wav      1  1127041  \n",
              "44  221107_nextgen_S206_Num_11_Horn_Yes_6_61.wav      1  1176974  \n",
              "45  221107_nextgen_S206_Num_12_Horn_Yes_6_61.wav      1   957034  \n",
              "31   221104_nextgen_S206_Num_7_Horn_Yes_6_61.wav      1  1176974  \n",
              "80     221110_nextgen_S206_Num_11_Horn_No_6_.wav      0   760872  \n",
              "\n",
              "[80 rows x 10 columns]"
            ],
            "text/html": [
              "\n",
              "  <div id=\"df-5e677f3f-ae55-4809-9b55-ab2903eba5cc\" class=\"colab-df-container\">\n",
              "    <div>\n",
              "<style scoped>\n",
              "    .dataframe tbody tr th:only-of-type {\n",
              "        vertical-align: middle;\n",
              "    }\n",
              "\n",
              "    .dataframe tbody tr th {\n",
              "        vertical-align: top;\n",
              "    }\n",
              "\n",
              "    .dataframe thead th {\n",
              "        text-align: right;\n",
              "    }\n",
              "</style>\n",
              "<table border=\"1\" class=\"dataframe\">\n",
              "  <thead>\n",
              "    <tr style=\"text-align: right;\">\n",
              "      <th></th>\n",
              "      <th>title</th>\n",
              "      <th>Car_type</th>\n",
              "      <th>Horn</th>\n",
              "      <th>Position</th>\n",
              "      <th>S206_position</th>\n",
              "      <th>Length</th>\n",
              "      <th>Car_num</th>\n",
              "      <th>path</th>\n",
              "      <th>label</th>\n",
              "      <th>length</th>\n",
              "    </tr>\n",
              "  </thead>\n",
              "  <tbody>\n",
              "    <tr>\n",
              "      <th>0</th>\n",
              "      <td>test_01.tdms</td>\n",
              "      <td>수소열차</td>\n",
              "      <td>Yes</td>\n",
              "      <td>22.0</td>\n",
              "      <td>22</td>\n",
              "      <td>44</td>\n",
              "      <td>2</td>\n",
              "      <td>221102_hydrogen_S206_Num_0_Horn_Yes_2_22.wav</td>\n",
              "      <td>1</td>\n",
              "      <td>2002044</td>\n",
              "    </tr>\n",
              "    <tr>\n",
              "      <th>62</th>\n",
              "      <td>test_5.tdms</td>\n",
              "      <td>수소열차</td>\n",
              "      <td>No</td>\n",
              "      <td>-1.0</td>\n",
              "      <td>22</td>\n",
              "      <td>44</td>\n",
              "      <td>2</td>\n",
              "      <td>221109_hydrogen_S206_Num_4_Horn_No_2_.wav</td>\n",
              "      <td>0</td>\n",
              "      <td>599187</td>\n",
              "    </tr>\n",
              "    <tr>\n",
              "      <th>63</th>\n",
              "      <td>test_6.tdms</td>\n",
              "      <td>수소열차</td>\n",
              "      <td>No</td>\n",
              "      <td>-1.0</td>\n",
              "      <td>22</td>\n",
              "      <td>44</td>\n",
              "      <td>2</td>\n",
              "      <td>221109_hydrogen_S206_Num_5_Horn_No_2_.wav</td>\n",
              "      <td>0</td>\n",
              "      <td>689540</td>\n",
              "    </tr>\n",
              "    <tr>\n",
              "      <th>64</th>\n",
              "      <td>test_7.tdms</td>\n",
              "      <td>수소열차</td>\n",
              "      <td>No</td>\n",
              "      <td>-1.0</td>\n",
              "      <td>22</td>\n",
              "      <td>44</td>\n",
              "      <td>2</td>\n",
              "      <td>221109_hydrogen_S206_Num_6_Horn_No_2_.wav</td>\n",
              "      <td>0</td>\n",
              "      <td>418480</td>\n",
              "    </tr>\n",
              "    <tr>\n",
              "      <th>65</th>\n",
              "      <td>test_8.tdms</td>\n",
              "      <td>수소열차</td>\n",
              "      <td>No</td>\n",
              "      <td>-1.0</td>\n",
              "      <td>22</td>\n",
              "      <td>44</td>\n",
              "      <td>2</td>\n",
              "      <td>221109_hydrogen_S206_Num_7_Horn_No_2_.wav</td>\n",
              "      <td>0</td>\n",
              "      <td>570654</td>\n",
              "    </tr>\n",
              "    <tr>\n",
              "      <th>...</th>\n",
              "      <td>...</td>\n",
              "      <td>...</td>\n",
              "      <td>...</td>\n",
              "      <td>...</td>\n",
              "      <td>...</td>\n",
              "      <td>...</td>\n",
              "      <td>...</td>\n",
              "      <td>...</td>\n",
              "      <td>...</td>\n",
              "      <td>...</td>\n",
              "    </tr>\n",
              "    <tr>\n",
              "      <th>43</th>\n",
              "      <td>test_11.tdms</td>\n",
              "      <td>차세대전동차</td>\n",
              "      <td>Yes</td>\n",
              "      <td>61.0</td>\n",
              "      <td>22</td>\n",
              "      <td>122</td>\n",
              "      <td>6</td>\n",
              "      <td>221107_nextgen_S206_Num_10_Horn_Yes_6_61.wav</td>\n",
              "      <td>1</td>\n",
              "      <td>1127041</td>\n",
              "    </tr>\n",
              "    <tr>\n",
              "      <th>44</th>\n",
              "      <td>test_12.tdms</td>\n",
              "      <td>차세대전동차</td>\n",
              "      <td>Yes</td>\n",
              "      <td>61.0</td>\n",
              "      <td>22</td>\n",
              "      <td>122</td>\n",
              "      <td>6</td>\n",
              "      <td>221107_nextgen_S206_Num_11_Horn_Yes_6_61.wav</td>\n",
              "      <td>1</td>\n",
              "      <td>1176974</td>\n",
              "    </tr>\n",
              "    <tr>\n",
              "      <th>45</th>\n",
              "      <td>test_13.tdms</td>\n",
              "      <td>차세대전동차</td>\n",
              "      <td>Yes</td>\n",
              "      <td>61.0</td>\n",
              "      <td>22</td>\n",
              "      <td>122</td>\n",
              "      <td>6</td>\n",
              "      <td>221107_nextgen_S206_Num_12_Horn_Yes_6_61.wav</td>\n",
              "      <td>1</td>\n",
              "      <td>957034</td>\n",
              "    </tr>\n",
              "    <tr>\n",
              "      <th>31</th>\n",
              "      <td>test_08.tdms</td>\n",
              "      <td>차세대전동차</td>\n",
              "      <td>Yes</td>\n",
              "      <td>61.0</td>\n",
              "      <td>22</td>\n",
              "      <td>122</td>\n",
              "      <td>6</td>\n",
              "      <td>221104_nextgen_S206_Num_7_Horn_Yes_6_61.wav</td>\n",
              "      <td>1</td>\n",
              "      <td>1176974</td>\n",
              "    </tr>\n",
              "    <tr>\n",
              "      <th>80</th>\n",
              "      <td>test_12.tdms</td>\n",
              "      <td>차세대전동차</td>\n",
              "      <td>No</td>\n",
              "      <td>-1.0</td>\n",
              "      <td>22</td>\n",
              "      <td>122</td>\n",
              "      <td>6</td>\n",
              "      <td>221110_nextgen_S206_Num_11_Horn_No_6_.wav</td>\n",
              "      <td>0</td>\n",
              "      <td>760872</td>\n",
              "    </tr>\n",
              "  </tbody>\n",
              "</table>\n",
              "<p>80 rows × 10 columns</p>\n",
              "</div>\n",
              "    <div class=\"colab-df-buttons\">\n",
              "\n",
              "  <div class=\"colab-df-container\">\n",
              "    <button class=\"colab-df-convert\" onclick=\"convertToInteractive('df-5e677f3f-ae55-4809-9b55-ab2903eba5cc')\"\n",
              "            title=\"Convert this dataframe to an interactive table.\"\n",
              "            style=\"display:none;\">\n",
              "\n",
              "  <svg xmlns=\"http://www.w3.org/2000/svg\" height=\"24px\" viewBox=\"0 -960 960 960\">\n",
              "    <path d=\"M120-120v-720h720v720H120Zm60-500h600v-160H180v160Zm220 220h160v-160H400v160Zm0 220h160v-160H400v160ZM180-400h160v-160H180v160Zm440 0h160v-160H620v160ZM180-180h160v-160H180v160Zm440 0h160v-160H620v160Z\"/>\n",
              "  </svg>\n",
              "    </button>\n",
              "\n",
              "  <style>\n",
              "    .colab-df-container {\n",
              "      display:flex;\n",
              "      gap: 12px;\n",
              "    }\n",
              "\n",
              "    .colab-df-convert {\n",
              "      background-color: #E8F0FE;\n",
              "      border: none;\n",
              "      border-radius: 50%;\n",
              "      cursor: pointer;\n",
              "      display: none;\n",
              "      fill: #1967D2;\n",
              "      height: 32px;\n",
              "      padding: 0 0 0 0;\n",
              "      width: 32px;\n",
              "    }\n",
              "\n",
              "    .colab-df-convert:hover {\n",
              "      background-color: #E2EBFA;\n",
              "      box-shadow: 0px 1px 2px rgba(60, 64, 67, 0.3), 0px 1px 3px 1px rgba(60, 64, 67, 0.15);\n",
              "      fill: #174EA6;\n",
              "    }\n",
              "\n",
              "    .colab-df-buttons div {\n",
              "      margin-bottom: 4px;\n",
              "    }\n",
              "\n",
              "    [theme=dark] .colab-df-convert {\n",
              "      background-color: #3B4455;\n",
              "      fill: #D2E3FC;\n",
              "    }\n",
              "\n",
              "    [theme=dark] .colab-df-convert:hover {\n",
              "      background-color: #434B5C;\n",
              "      box-shadow: 0px 1px 3px 1px rgba(0, 0, 0, 0.15);\n",
              "      filter: drop-shadow(0px 1px 2px rgba(0, 0, 0, 0.3));\n",
              "      fill: #FFFFFF;\n",
              "    }\n",
              "  </style>\n",
              "\n",
              "    <script>\n",
              "      const buttonEl =\n",
              "        document.querySelector('#df-5e677f3f-ae55-4809-9b55-ab2903eba5cc button.colab-df-convert');\n",
              "      buttonEl.style.display =\n",
              "        google.colab.kernel.accessAllowed ? 'block' : 'none';\n",
              "\n",
              "      async function convertToInteractive(key) {\n",
              "        const element = document.querySelector('#df-5e677f3f-ae55-4809-9b55-ab2903eba5cc');\n",
              "        const dataTable =\n",
              "          await google.colab.kernel.invokeFunction('convertToInteractive',\n",
              "                                                    [key], {});\n",
              "        if (!dataTable) return;\n",
              "\n",
              "        const docLinkHtml = 'Like what you see? Visit the ' +\n",
              "          '<a target=\"_blank\" href=https://colab.research.google.com/notebooks/data_table.ipynb>data table notebook</a>'\n",
              "          + ' to learn more about interactive tables.';\n",
              "        element.innerHTML = '';\n",
              "        dataTable['output_type'] = 'display_data';\n",
              "        await google.colab.output.renderOutput(dataTable, element);\n",
              "        const docLink = document.createElement('div');\n",
              "        docLink.innerHTML = docLinkHtml;\n",
              "        element.appendChild(docLink);\n",
              "      }\n",
              "    </script>\n",
              "  </div>\n",
              "\n",
              "\n",
              "<div id=\"df-064860b1-8b73-4e54-b23f-304e12a18cc1\">\n",
              "  <button class=\"colab-df-quickchart\" onclick=\"quickchart('df-064860b1-8b73-4e54-b23f-304e12a18cc1')\"\n",
              "            title=\"Suggest charts.\"\n",
              "            style=\"display:none;\">\n",
              "\n",
              "<svg xmlns=\"http://www.w3.org/2000/svg\" height=\"24px\"viewBox=\"0 0 24 24\"\n",
              "     width=\"24px\">\n",
              "    <g>\n",
              "        <path d=\"M19 3H5c-1.1 0-2 .9-2 2v14c0 1.1.9 2 2 2h14c1.1 0 2-.9 2-2V5c0-1.1-.9-2-2-2zM9 17H7v-7h2v7zm4 0h-2V7h2v10zm4 0h-2v-4h2v4z\"/>\n",
              "    </g>\n",
              "</svg>\n",
              "  </button>\n",
              "\n",
              "<style>\n",
              "  .colab-df-quickchart {\n",
              "      --bg-color: #E8F0FE;\n",
              "      --fill-color: #1967D2;\n",
              "      --hover-bg-color: #E2EBFA;\n",
              "      --hover-fill-color: #174EA6;\n",
              "      --disabled-fill-color: #AAA;\n",
              "      --disabled-bg-color: #DDD;\n",
              "  }\n",
              "\n",
              "  [theme=dark] .colab-df-quickchart {\n",
              "      --bg-color: #3B4455;\n",
              "      --fill-color: #D2E3FC;\n",
              "      --hover-bg-color: #434B5C;\n",
              "      --hover-fill-color: #FFFFFF;\n",
              "      --disabled-bg-color: #3B4455;\n",
              "      --disabled-fill-color: #666;\n",
              "  }\n",
              "\n",
              "  .colab-df-quickchart {\n",
              "    background-color: var(--bg-color);\n",
              "    border: none;\n",
              "    border-radius: 50%;\n",
              "    cursor: pointer;\n",
              "    display: none;\n",
              "    fill: var(--fill-color);\n",
              "    height: 32px;\n",
              "    padding: 0;\n",
              "    width: 32px;\n",
              "  }\n",
              "\n",
              "  .colab-df-quickchart:hover {\n",
              "    background-color: var(--hover-bg-color);\n",
              "    box-shadow: 0 1px 2px rgba(60, 64, 67, 0.3), 0 1px 3px 1px rgba(60, 64, 67, 0.15);\n",
              "    fill: var(--button-hover-fill-color);\n",
              "  }\n",
              "\n",
              "  .colab-df-quickchart-complete:disabled,\n",
              "  .colab-df-quickchart-complete:disabled:hover {\n",
              "    background-color: var(--disabled-bg-color);\n",
              "    fill: var(--disabled-fill-color);\n",
              "    box-shadow: none;\n",
              "  }\n",
              "\n",
              "  .colab-df-spinner {\n",
              "    border: 2px solid var(--fill-color);\n",
              "    border-color: transparent;\n",
              "    border-bottom-color: var(--fill-color);\n",
              "    animation:\n",
              "      spin 1s steps(1) infinite;\n",
              "  }\n",
              "\n",
              "  @keyframes spin {\n",
              "    0% {\n",
              "      border-color: transparent;\n",
              "      border-bottom-color: var(--fill-color);\n",
              "      border-left-color: var(--fill-color);\n",
              "    }\n",
              "    20% {\n",
              "      border-color: transparent;\n",
              "      border-left-color: var(--fill-color);\n",
              "      border-top-color: var(--fill-color);\n",
              "    }\n",
              "    30% {\n",
              "      border-color: transparent;\n",
              "      border-left-color: var(--fill-color);\n",
              "      border-top-color: var(--fill-color);\n",
              "      border-right-color: var(--fill-color);\n",
              "    }\n",
              "    40% {\n",
              "      border-color: transparent;\n",
              "      border-right-color: var(--fill-color);\n",
              "      border-top-color: var(--fill-color);\n",
              "    }\n",
              "    60% {\n",
              "      border-color: transparent;\n",
              "      border-right-color: var(--fill-color);\n",
              "    }\n",
              "    80% {\n",
              "      border-color: transparent;\n",
              "      border-right-color: var(--fill-color);\n",
              "      border-bottom-color: var(--fill-color);\n",
              "    }\n",
              "    90% {\n",
              "      border-color: transparent;\n",
              "      border-bottom-color: var(--fill-color);\n",
              "    }\n",
              "  }\n",
              "</style>\n",
              "\n",
              "  <script>\n",
              "    async function quickchart(key) {\n",
              "      const quickchartButtonEl =\n",
              "        document.querySelector('#' + key + ' button');\n",
              "      quickchartButtonEl.disabled = true;  // To prevent multiple clicks.\n",
              "      quickchartButtonEl.classList.add('colab-df-spinner');\n",
              "      try {\n",
              "        const charts = await google.colab.kernel.invokeFunction(\n",
              "            'suggestCharts', [key], {});\n",
              "      } catch (error) {\n",
              "        console.error('Error during call to suggestCharts:', error);\n",
              "      }\n",
              "      quickchartButtonEl.classList.remove('colab-df-spinner');\n",
              "      quickchartButtonEl.classList.add('colab-df-quickchart-complete');\n",
              "    }\n",
              "    (() => {\n",
              "      let quickchartButtonEl =\n",
              "        document.querySelector('#df-064860b1-8b73-4e54-b23f-304e12a18cc1 button');\n",
              "      quickchartButtonEl.style.display =\n",
              "        google.colab.kernel.accessAllowed ? 'block' : 'none';\n",
              "    })();\n",
              "  </script>\n",
              "</div>\n",
              "    </div>\n",
              "  </div>\n"
            ]
          },
          "metadata": {}
        },
        {
          "output_type": "stream",
          "name": "stdout",
          "text": [
            "Horn Yes 개수 56 Horn No 개수 24\n"
          ]
        }
      ],
      "source": [
        "sound_dataset = soundDataset(dirPath, csvPath, config=config, other_sound_path=othersourcePath, mixSoundRatio=0.5)"
      ]
    },
    {
      "cell_type": "code",
      "execution_count": 10,
      "metadata": {
        "id": "ymdaVbe4_Cwo"
      },
      "outputs": [],
      "source": [
        "train_dataset, val_dataset, test_dataset = random_split(sound_dataset, [config['train_ratio'], config['valid_ratio'], config['test_ratio']])\n",
        "#train_dataset[0]"
      ]
    },
    {
      "cell_type": "code",
      "execution_count": 11,
      "metadata": {
        "id": "VUl9cCdMrSp9"
      },
      "outputs": [],
      "source": [
        "train_loader = DataLoader(train_dataset, batch_size=10, shuffle=True, num_workers=config['core'], collate_fn = collate_padder)\n",
        "valid_loader = DataLoader(val_dataset, batch_size=10, shuffle=False , num_workers=config['core'], collate_fn = collate_padder)\n",
        "test_loader  = DataLoader(test_dataset, batch_size=10, shuffle=False , num_workers=config['core'], collate_fn = collate_padder)"
      ]
    },
    {
      "cell_type": "markdown",
      "metadata": {
        "id": "Fooc1C8CyBE6"
      },
      "source": [
        "### 데이터 증강 기법(SpecAugment) 코드 정의 및 테스트"
      ]
    },
    {
      "cell_type": "code",
      "execution_count": 12,
      "metadata": {
        "id": "XHsF1AjJcV-h",
        "colab": {
          "base_uri": "https://localhost:8080/"
        },
        "outputId": "33b41a04-a4a4-4698-ef7c-92353dccc195"
      },
      "outputs": [
        {
          "output_type": "stream",
          "name": "stderr",
          "text": [
            "/usr/local/lib/python3.10/dist-packages/tensorflow_addons/utils/tfa_eol_msg.py:23: UserWarning: \n",
            "\n",
            "TensorFlow Addons (TFA) has ended development and introduction of new features.\n",
            "TFA has entered a minimal maintenance and release mode until a planned end of life in May 2024.\n",
            "Please modify downstream libraries to take dependencies from other repositories in our TensorFlow community (e.g. Keras, Keras-CV, and Keras-NLP). \n",
            "\n",
            "For more information see: https://github.com/tensorflow/addons/issues/2807 \n",
            "\n",
            "  warnings.warn(\n"
          ]
        }
      ],
      "source": [
        "import random\n",
        "import numpy as np\n",
        "import tensorflow as tf\n",
        "from tensorflow_addons.image import sparse_image_warp\n",
        "# reference: https://github.com/pyyush/SpecAugment\n",
        "class SpecAugment():\n",
        "    def __init__(self, policy, zero_mean_normalized=True):\n",
        "        self.policy = policy\n",
        "        self.zero_mean_normalized = zero_mean_normalized\n",
        "\n",
        "        # Policy Specific Parameters\n",
        "        if self.policy == 'LB':\n",
        "            self.W, self.F, self.m_F, self.T, self.p, self.m_T = 80, 27, 1, 100, 1.0, 1\n",
        "        elif self.policy == 'LD':\n",
        "            self.W, self.F, self.m_F, self.T, self.p, self.m_T = 80, 27, 2, 100, 1.0, 2\n",
        "        elif self.policy == 'SM':\n",
        "            self.W, self.F, self.m_F, self.T, self.p, self.m_T = 40, 15, 2, 70, 0.2, 2\n",
        "        elif self.policy == 'SS':\n",
        "            self.W, self.F, self.m_F, self.T, self.p, self.m_T = 40, 27, 2, 70, 0.2, 2\n",
        "        elif self.policy == 'big':\n",
        "            self.W, self.F, self.m_F, self.T, self.p, self.m_T = 200, 40, 2, 100, 1.0, 4\n",
        "\n",
        "    def timeWarping(self, feature):\n",
        "        # Reshape to [Batch_size, time, freq, 1] for sparse_image_warp func.\n",
        "        feature = np.reshape(feature, (-1, feature.shape[0], feature.shape[1], 1))\n",
        "\n",
        "        v, tau = feature.shape[1], feature.shape[2]\n",
        "\n",
        "        horiz_line_thru_ctr = feature[0][v//2]\n",
        "\n",
        "        random_pt = horiz_line_thru_ctr[random.randrange(self.W, tau - self.W)] # random point along the horizontal/time axis\n",
        "        w = np.random.uniform((-self.W), self.W) # distance\n",
        "\n",
        "        # Source Points\n",
        "        src_points = [[[v//2, random_pt[0]]]]\n",
        "\n",
        "        # Destination Points\n",
        "        dest_points = [[[v//2, random_pt[0] + w]]]\n",
        "\n",
        "        feature, _ = sparse_image_warp(feature, src_points, dest_points, num_boundary_points=2)\n",
        "\n",
        "        return feature\n",
        "\n",
        "    def timeMasking(self, feature):\n",
        "        tau = feature.shape[2] # time frames\n",
        "\n",
        "        # apply m_T time masks to the mel spectrogram\n",
        "        for i in range(self.m_T):\n",
        "            t = int(np.random.uniform(0, self.T)) # [0, T)\n",
        "            upper = tau if t>tau else t#make limitation\n",
        "            t0 = random.randint(0, tau - upper) # [0, tau - t)\n",
        "            feature[:, :, t0:t0 + t] = 0\n",
        "\n",
        "        return feature\n",
        "\n",
        "    def freqMasking(self, feature):\n",
        "        size = feature.shape[1]\n",
        "\n",
        "        for i in range(self.m_F):\n",
        "            f = int(np.random.uniform(0, self.F)) # [0, F)\n",
        "            f0 = random.randint(0, size - f) # [0, v - f)\n",
        "            feature[:, f0:f0 + f] = 0\n",
        "\n",
        "        return feature\n",
        "\n",
        "    def augment(self, feature):\n",
        "        #feature = self.freqMasking(feature)\n",
        "        feature = self.timeMasking(feature)\n",
        "\n",
        "        return feature"
      ]
    },
    {
      "cell_type": "code",
      "execution_count": 13,
      "metadata": {
        "id": "cyzv_CZC864K"
      },
      "outputs": [],
      "source": [
        "augmentor = SpecAugment('big')"
      ]
    },
    {
      "cell_type": "code",
      "execution_count": 14,
      "metadata": {
        "id": "uXmo4nmYKOjR"
      },
      "outputs": [],
      "source": [
        "test = train_dataset[0][0].unsqueeze(0)"
      ]
    },
    {
      "cell_type": "code",
      "execution_count": 15,
      "metadata": {
        "colab": {
          "base_uri": "https://localhost:8080/",
          "height": 428
        },
        "id": "Z-okxKbs8zSF",
        "outputId": "71217bd5-a316-4864-963d-b531ebf1a959"
      },
      "outputs": [
        {
          "output_type": "display_data",
          "data": {
            "text/plain": [
              "<Figure size 640x480 with 0 Axes>"
            ]
          },
          "metadata": {}
        },
        {
          "output_type": "display_data",
          "data": {
            "text/plain": [
              "<Figure size 1000x400 with 2 Axes>"
            ],
            "image/png": "[encoded data removed]"
          },
          "metadata": {}
        }
      ],
      "source": [
        "plot_spectrogram(augmentor.augment(copy.deepcopy( test ) ).squeeze(), str(train_dataset[0][1]))"
      ]
    },
    {
      "cell_type": "markdown",
      "metadata": {
        "id": "dVBiBwoMyOeL"
      },
      "source": [
        "### 모델 정의(resnet18)"
      ]
    },
    {
      "cell_type": "code",
      "execution_count": 16,
      "metadata": {
        "id": "s_5xAbWwsPxP"
      },
      "outputs": [],
      "source": [
        "def prepare_model():\n",
        "    resnet_model = resnet18( weights='IMAGENET1K_V1' )\n",
        "    resnet_model.fc = nn.Linear(512,2)\n",
        "\n",
        "    for m in resnet_model.modules():\n",
        "        if isinstance(m, nn.Conv2d):\n",
        "            nn.init.kaiming_normal_(m.weight, mode=\"fan_out\", nonlinearity=\"relu\")\n",
        "        elif isinstance(m, (nn.BatchNorm2d, nn.GroupNorm)):\n",
        "            nn.init.constant_(m.weight, 1)\n",
        "            nn.init.constant_(m.bias, 0)\n",
        "\n",
        "    return resnet_model"
      ]
    },
    {
      "cell_type": "code",
      "execution_count": 17,
      "metadata": {
        "colab": {
          "base_uri": "https://localhost:8080/"
        },
        "id": "7FHxJR9tBR_Z",
        "outputId": "086b7a9a-d341-4e69-f095-9c3438166867"
      },
      "outputs": [
        {
          "output_type": "stream",
          "name": "stderr",
          "text": [
            "Downloading: \"https://download.pytorch.org/models/resnet18-f37072fd.pth\" to /root/.cache/torch/hub/checkpoints/resnet18-f37072fd.pth\n",
            "100%|██████████| 44.7M/44.7M [00:00<00:00, 137MB/s]\n"
          ]
        }
      ],
      "source": [
        "#model = AudioModel(sr=config['sr'], n_mels = config['n_mels'], hidden_size = 40, num_output = 2)\n",
        "model = prepare_model()\n",
        "model = model.to(device)"
      ]
    },
    {
      "cell_type": "code",
      "execution_count": 18,
      "metadata": {
        "id": "50U_HfJ3_5Oo"
      },
      "outputs": [],
      "source": [
        "optimizer = optim.Adam(model.parameters(), lr=0.001, weight_decay=0.0001)\n",
        "scheduler = optim.lr_scheduler.StepLR(optimizer, step_size=10, gamma=0.5)\n",
        "criterion = nn.CrossEntropyLoss()"
      ]
    },
    {
      "cell_type": "code",
      "execution_count": 19,
      "metadata": {
        "id": "5nwG2pqHBLgy"
      },
      "outputs": [],
      "source": [
        "def number_of_correct(pred, target):\n",
        "    # count number of correct predictions\n",
        "    return pred.squeeze().eq(target).sum().item()\n",
        "\n",
        "def get_likely_index(tensor):\n",
        "    # find most likely label index for each element in the batch\n",
        "    return tensor.argmax(dim=-1)\n",
        "\n",
        "def train(model, epoch, log_interval, train_loader=train_loader, path=model_save_path, loss_record=None):\n",
        "    model.train()\n",
        "\n",
        "    correct_train = 0\n",
        "    for batch in train_loader:\n",
        "        audio, label = batch\n",
        "\n",
        "        data = audio.to(device)\n",
        "        target = label.to(device)\n",
        "        data = augmentor.augment(data)\n",
        "\n",
        "        expanded_data = torch.stack([data]*3, dim=1)\n",
        "        output = model(expanded_data)\n",
        "\n",
        "        pred = get_likely_index(output)\n",
        "        target = get_likely_index(target)\n",
        "        correct_train += number_of_correct(pred, target)\n",
        "\n",
        "        # negative log-likelihood for a tensor of size (batch x 1 x n_output)\n",
        "        loss = criterion(output, target)\n",
        "\n",
        "        optimizer.zero_grad()\n",
        "        loss.backward()\n",
        "        optimizer.step()\n",
        "\n",
        "        # update progress bar\n",
        "        pbar.update(pbar_update)\n",
        "        #save model\n",
        "        if len(loss_record)>0:\n",
        "            if min(loss_record) > loss.item():\n",
        "                print(\"save mode at \", epoch)\n",
        "                torch.save(model.state_dict(), path)\n",
        "        # record loss\n",
        "        loss_record.append(loss.item())\n",
        "\n",
        "    print(f\"\\nTrain Epoch: {epoch}\\tAccuracy: {correct_train}/{len(train_loader.dataset)} ({100. * correct_train / len(train_loader.dataset):.0f}%)\\n\")\n",
        "    return (100. * correct_train / len(train_loader.dataset))"
      ]
    },
    {
      "cell_type": "code",
      "execution_count": 20,
      "metadata": {
        "id": "tBjIeLAhBNqS"
      },
      "outputs": [],
      "source": [
        "def valid(model, epoch, valid_loader=valid_loader):\n",
        "    model.eval()\n",
        "    correct = 0\n",
        "    for data, target in valid_loader:\n",
        "\n",
        "        data = data.to(device)\n",
        "        target = target.to(device)\n",
        "\n",
        "        expanded_data = torch.stack([data]*3, dim=1)\n",
        "        output = model(expanded_data)\n",
        "\n",
        "        pred = get_likely_index(output)\n",
        "        target = get_likely_index(target)\n",
        "        correct += number_of_correct(pred, target)\n",
        "\n",
        "        # update progress bar\n",
        "        pbar.update(pbar_update)\n",
        "\n",
        "    print(f\"\\nValid Epoch: {epoch}\\tAccuracy: {correct}/{len(test_loader.dataset)} ({100. * correct / len(test_loader.dataset):.0f}%)\\n\")\n",
        "    return (100. * correct / len(test_loader.dataset))\n"
      ]
    },
    {
      "cell_type": "code",
      "execution_count": 21,
      "metadata": {
        "id": "v4y06GkUBPWK",
        "colab": {
          "base_uri": "https://localhost:8080/"
        },
        "outputId": "d7de44fe-d8ea-4508-e003-8110a147524c"
      },
      "outputs": [
        {
          "output_type": "stream",
          "name": "stderr",
          "text": [
            "  2%|▏         | 0.42857142857142855/25 [00:24<16:18, 39.84s/it]"
          ]
        },
        {
          "output_type": "stream",
          "name": "stdout",
          "text": [
            "save mode at  1\n"
          ]
        },
        {
          "output_type": "stream",
          "name": "stderr",
          "text": [
            "  3%|▎         | 0.7142857142857142/25 [00:25<07:02, 17.42s/it]"
          ]
        },
        {
          "output_type": "stream",
          "name": "stdout",
          "text": [
            "save mode at  1\n",
            "\n",
            "Train Epoch: 1\tAccuracy: 30/48 (62%)\n",
            "\n"
          ]
        },
        {
          "output_type": "stream",
          "name": "stderr",
          "text": [
            "\r  3%|▎         | 0.857142857142857/25 [00:34<12:46, 31.75s/it] "
          ]
        },
        {
          "output_type": "stream",
          "name": "stdout",
          "text": [
            "\n",
            "Valid Epoch: 1\tAccuracy: 9/16 (56%)\n",
            "\n"
          ]
        },
        {
          "output_type": "stream",
          "name": "stderr",
          "text": [
            "  5%|▌         | 1.2857142857142854/25 [00:43<09:44, 24.64s/it]"
          ]
        },
        {
          "output_type": "stream",
          "name": "stdout",
          "text": [
            "save mode at  2\n"
          ]
        },
        {
          "output_type": "stream",
          "name": "stderr",
          "text": [
            "\r  6%|▌         | 1.4285714285714282/25 [00:44<07:31, 19.15s/it]"
          ]
        },
        {
          "output_type": "stream",
          "name": "stdout",
          "text": [
            "save mode at  2\n"
          ]
        },
        {
          "output_type": "stream",
          "name": "stderr",
          "text": [
            "  7%|▋         | 1.7142857142857137/25 [00:45<04:32, 11.71s/it]"
          ]
        },
        {
          "output_type": "stream",
          "name": "stdout",
          "text": [
            "\n",
            "Train Epoch: 2\tAccuracy: 40/48 (83%)\n",
            "\n"
          ]
        },
        {
          "output_type": "stream",
          "name": "stderr",
          "text": [
            "\r  7%|▋         | 1.8571428571428565/25 [00:54<10:25, 27.02s/it]"
          ]
        },
        {
          "output_type": "stream",
          "name": "stdout",
          "text": [
            "\n",
            "Valid Epoch: 2\tAccuracy: 9/16 (56%)\n",
            "\n"
          ]
        },
        {
          "output_type": "stream",
          "name": "stderr",
          "text": [
            " 11%|█         | 2.7142857142857135/25 [01:04<03:54, 10.51s/it]"
          ]
        },
        {
          "output_type": "stream",
          "name": "stdout",
          "text": [
            "\n",
            "Train Epoch: 3\tAccuracy: 38/48 (79%)\n",
            "\n"
          ]
        },
        {
          "output_type": "stream",
          "name": "stderr",
          "text": [
            "\r 11%|█▏        | 2.8571428571428563/25 [01:14<10:03, 27.25s/it]"
          ]
        },
        {
          "output_type": "stream",
          "name": "stdout",
          "text": [
            "\n",
            "Valid Epoch: 3\tAccuracy: 9/16 (56%)\n",
            "\n"
          ]
        },
        {
          "output_type": "stream",
          "name": "stderr",
          "text": [
            " 15%|█▍        | 3.714285714285713/25 [01:24<03:45, 10.60s/it] "
          ]
        },
        {
          "output_type": "stream",
          "name": "stdout",
          "text": [
            "\n",
            "Train Epoch: 4\tAccuracy: 38/48 (79%)\n",
            "\n"
          ]
        },
        {
          "output_type": "stream",
          "name": "stderr",
          "text": [
            "\r 15%|█▌        | 3.857142857142856/25 [01:34<09:36, 27.27s/it]"
          ]
        },
        {
          "output_type": "stream",
          "name": "stdout",
          "text": [
            "\n",
            "Valid Epoch: 4\tAccuracy: 9/16 (56%)\n",
            "\n"
          ]
        },
        {
          "output_type": "stream",
          "name": "stderr",
          "text": [
            " 19%|█▉        | 4.714285714285714/25 [01:46<03:51, 11.41s/it]"
          ]
        },
        {
          "output_type": "stream",
          "name": "stdout",
          "text": [
            "\n",
            "Train Epoch: 5\tAccuracy: 41/48 (85%)\n",
            "\n"
          ]
        },
        {
          "output_type": "stream",
          "name": "stderr",
          "text": [
            "\r 19%|█▉        | 4.857142857142858/25 [01:54<08:29, 25.31s/it]"
          ]
        },
        {
          "output_type": "stream",
          "name": "stdout",
          "text": [
            "\n",
            "Valid Epoch: 5\tAccuracy: 9/16 (56%)\n",
            "\n"
          ]
        },
        {
          "output_type": "stream",
          "name": "stderr",
          "text": [
            " 23%|██▎       | 5.714285714285717/25 [02:06<03:27, 10.74s/it]"
          ]
        },
        {
          "output_type": "stream",
          "name": "stdout",
          "text": [
            "\n",
            "Train Epoch: 6\tAccuracy: 38/48 (79%)\n",
            "\n"
          ]
        },
        {
          "output_type": "stream",
          "name": "stderr",
          "text": [
            "\r 23%|██▎       | 5.85714285714286/25 [02:14<07:59, 25.02s/it] "
          ]
        },
        {
          "output_type": "stream",
          "name": "stdout",
          "text": [
            "\n",
            "Valid Epoch: 6\tAccuracy: 9/16 (56%)\n",
            "\n"
          ]
        },
        {
          "output_type": "stream",
          "name": "stderr",
          "text": [
            " 27%|██▋       | 6.71428571428572/25 [02:24<03:09, 10.37s/it]  "
          ]
        },
        {
          "output_type": "stream",
          "name": "stdout",
          "text": [
            "save mode at  7\n",
            "\n",
            "Train Epoch: 7\tAccuracy: 41/48 (85%)\n",
            "\n"
          ]
        },
        {
          "output_type": "stream",
          "name": "stderr",
          "text": [
            "\r 27%|██▋       | 6.857142857142863/25 [02:32<06:54, 22.86s/it]"
          ]
        },
        {
          "output_type": "stream",
          "name": "stdout",
          "text": [
            "\n",
            "Valid Epoch: 7\tAccuracy: 10/16 (62%)\n",
            "\n"
          ]
        },
        {
          "output_type": "stream",
          "name": "stderr",
          "text": [
            " 31%|███       | 7.714285714285722/25 [02:44<03:06, 10.78s/it]"
          ]
        },
        {
          "output_type": "stream",
          "name": "stdout",
          "text": [
            "\n",
            "Train Epoch: 8\tAccuracy: 40/48 (83%)\n",
            "\n"
          ]
        },
        {
          "output_type": "stream",
          "name": "stderr",
          "text": [
            "\r 31%|███▏      | 7.857142857142866/25 [02:52<06:44, 23.62s/it]"
          ]
        },
        {
          "output_type": "stream",
          "name": "stdout",
          "text": [
            "\n",
            "Valid Epoch: 8\tAccuracy: 13/16 (81%)\n",
            "\n"
          ]
        },
        {
          "output_type": "stream",
          "name": "stderr",
          "text": [
            " 35%|███▍      | 8.71428571428572/25 [03:05<03:04, 11.34s/it] "
          ]
        },
        {
          "output_type": "stream",
          "name": "stdout",
          "text": [
            "\n",
            "Train Epoch: 9\tAccuracy: 43/48 (90%)\n",
            "\n"
          ]
        },
        {
          "output_type": "stream",
          "name": "stderr",
          "text": [
            "\r 35%|███▌      | 8.857142857142863/25 [03:13<06:24, 23.80s/it]"
          ]
        },
        {
          "output_type": "stream",
          "name": "stdout",
          "text": [
            "\n",
            "Valid Epoch: 9\tAccuracy: 12/16 (75%)\n",
            "\n"
          ]
        },
        {
          "output_type": "stream",
          "name": "stderr",
          "text": [
            " 38%|███▊      | 9.571428571428575/25 [03:22<03:17, 12.81s/it]"
          ]
        },
        {
          "output_type": "stream",
          "name": "stdout",
          "text": [
            "save mode at  10\n"
          ]
        },
        {
          "output_type": "stream",
          "name": "stderr",
          "text": [
            "\r 39%|███▉      | 9.714285714285717/25 [03:23<02:36, 10.26s/it]"
          ]
        },
        {
          "output_type": "stream",
          "name": "stdout",
          "text": [
            "\n",
            "Train Epoch: 10\tAccuracy: 41/48 (85%)\n",
            "\n"
          ]
        },
        {
          "output_type": "stream",
          "name": "stderr",
          "text": [
            "\r 39%|███▉      | 9.85714285714286/25 [03:31<05:58, 23.71s/it] "
          ]
        },
        {
          "output_type": "stream",
          "name": "stdout",
          "text": [
            "\n",
            "Valid Epoch: 10\tAccuracy: 13/16 (81%)\n",
            "\n"
          ]
        },
        {
          "output_type": "stream",
          "name": "stderr",
          "text": [
            " 43%|████▎     | 10.714285714285714/25 [03:41<02:29, 10.46s/it]"
          ]
        },
        {
          "output_type": "stream",
          "name": "stdout",
          "text": [
            "\n",
            "Train Epoch: 11\tAccuracy: 40/48 (83%)\n",
            "\n"
          ]
        },
        {
          "output_type": "stream",
          "name": "stderr",
          "text": [
            "\r 43%|████▎     | 10.857142857142856/25 [03:50<05:52, 24.91s/it]"
          ]
        },
        {
          "output_type": "stream",
          "name": "stdout",
          "text": [
            "\n",
            "Valid Epoch: 11\tAccuracy: 13/16 (81%)\n",
            "\n"
          ]
        },
        {
          "output_type": "stream",
          "name": "stderr",
          "text": [
            " 46%|████▌     | 11.428571428571425/25 [03:59<03:39, 16.20s/it]"
          ]
        },
        {
          "output_type": "stream",
          "name": "stdout",
          "text": [
            "save mode at  12\n"
          ]
        },
        {
          "output_type": "stream",
          "name": "stderr",
          "text": [
            " 47%|████▋     | 11.71428571428571/25 [04:00<02:15, 10.21s/it] "
          ]
        },
        {
          "output_type": "stream",
          "name": "stdout",
          "text": [
            "\n",
            "Train Epoch: 12\tAccuracy: 41/48 (85%)\n",
            "\n"
          ]
        },
        {
          "output_type": "stream",
          "name": "stderr",
          "text": [
            "\r 47%|████▋     | 11.857142857142852/25 [04:08<05:02, 22.99s/it]"
          ]
        },
        {
          "output_type": "stream",
          "name": "stdout",
          "text": [
            "\n",
            "Valid Epoch: 12\tAccuracy: 12/16 (75%)\n",
            "\n"
          ]
        },
        {
          "output_type": "stream",
          "name": "stderr",
          "text": [
            " 51%|█████     | 12.714285714285706/25 [04:19<02:09, 10.50s/it]"
          ]
        },
        {
          "output_type": "stream",
          "name": "stdout",
          "text": [
            "\n",
            "Train Epoch: 13\tAccuracy: 42/48 (88%)\n",
            "\n"
          ]
        },
        {
          "output_type": "stream",
          "name": "stderr",
          "text": [
            "\r 51%|█████▏    | 12.857142857142849/25 [04:28<05:19, 26.31s/it]"
          ]
        },
        {
          "output_type": "stream",
          "name": "stdout",
          "text": [
            "\n",
            "Valid Epoch: 13\tAccuracy: 13/16 (81%)\n",
            "\n"
          ]
        },
        {
          "output_type": "stream",
          "name": "stderr",
          "text": [
            " 55%|█████▍    | 13.714285714285703/25 [04:38<01:56, 10.36s/it]"
          ]
        },
        {
          "output_type": "stream",
          "name": "stdout",
          "text": [
            "\n",
            "Train Epoch: 14\tAccuracy: 42/48 (88%)\n",
            "\n"
          ]
        },
        {
          "output_type": "stream",
          "name": "stderr",
          "text": [
            "\r 55%|█████▌    | 13.857142857142845/25 [04:45<03:58, 21.41s/it]"
          ]
        },
        {
          "output_type": "stream",
          "name": "stdout",
          "text": [
            "\n",
            "Valid Epoch: 14\tAccuracy: 14/16 (88%)\n",
            "\n"
          ]
        },
        {
          "output_type": "stream",
          "name": "stderr",
          "text": [
            " 59%|█████▉    | 14.7142857142857/25 [04:55<01:43, 10.04s/it]  "
          ]
        },
        {
          "output_type": "stream",
          "name": "stdout",
          "text": [
            "\n",
            "Train Epoch: 15\tAccuracy: 41/48 (85%)\n",
            "\n"
          ]
        },
        {
          "output_type": "stream",
          "name": "stderr",
          "text": [
            "\r 59%|█████▉    | 14.857142857142842/25 [05:02<03:29, 20.68s/it]"
          ]
        },
        {
          "output_type": "stream",
          "name": "stdout",
          "text": [
            "\n",
            "Valid Epoch: 15\tAccuracy: 14/16 (88%)\n",
            "\n"
          ]
        },
        {
          "output_type": "stream",
          "name": "stderr",
          "text": [
            " 63%|██████▎   | 15.714285714285696/25 [05:12<01:27,  9.48s/it]"
          ]
        },
        {
          "output_type": "stream",
          "name": "stdout",
          "text": [
            "\n",
            "Train Epoch: 16\tAccuracy: 41/48 (85%)\n",
            "\n"
          ]
        },
        {
          "output_type": "stream",
          "name": "stderr",
          "text": [
            "\r 63%|██████▎   | 15.857142857142838/25 [05:20<03:22, 22.16s/it]"
          ]
        },
        {
          "output_type": "stream",
          "name": "stdout",
          "text": [
            "\n",
            "Valid Epoch: 16\tAccuracy: 12/16 (75%)\n",
            "\n"
          ]
        },
        {
          "output_type": "stream",
          "name": "stderr",
          "text": [
            " 67%|██████▋   | 16.714285714285694/25 [05:29<01:23, 10.06s/it]"
          ]
        },
        {
          "output_type": "stream",
          "name": "stdout",
          "text": [
            "\n",
            "Train Epoch: 17\tAccuracy: 41/48 (85%)\n",
            "\n"
          ]
        },
        {
          "output_type": "stream",
          "name": "stderr",
          "text": [
            "\r 67%|██████▋   | 16.857142857142836/25 [05:36<02:47, 20.58s/it]"
          ]
        },
        {
          "output_type": "stream",
          "name": "stdout",
          "text": [
            "\n",
            "Valid Epoch: 17\tAccuracy: 12/16 (75%)\n",
            "\n"
          ]
        },
        {
          "output_type": "stream",
          "name": "stderr",
          "text": [
            " 71%|███████   | 17.71428571428569/25 [05:47<01:09,  9.60s/it] "
          ]
        },
        {
          "output_type": "stream",
          "name": "stdout",
          "text": [
            "\n",
            "Train Epoch: 18\tAccuracy: 41/48 (85%)\n",
            "\n"
          ]
        },
        {
          "output_type": "stream",
          "name": "stderr",
          "text": [
            "\r 71%|███████▏  | 17.857142857142833/25 [05:54<02:36, 21.88s/it]"
          ]
        },
        {
          "output_type": "stream",
          "name": "stdout",
          "text": [
            "\n",
            "Valid Epoch: 18\tAccuracy: 11/16 (69%)\n",
            "\n"
          ]
        },
        {
          "output_type": "stream",
          "name": "stderr",
          "text": [
            " 75%|███████▍  | 18.714285714285687/25 [06:04<01:03, 10.03s/it]"
          ]
        },
        {
          "output_type": "stream",
          "name": "stdout",
          "text": [
            "\n",
            "Train Epoch: 19\tAccuracy: 40/48 (83%)\n",
            "\n"
          ]
        },
        {
          "output_type": "stream",
          "name": "stderr",
          "text": [
            "\r 75%|███████▌  | 18.85714285714283/25 [06:11<02:02, 19.95s/it] "
          ]
        },
        {
          "output_type": "stream",
          "name": "stdout",
          "text": [
            "\n",
            "Valid Epoch: 19\tAccuracy: 13/16 (81%)\n",
            "\n"
          ]
        },
        {
          "output_type": "stream",
          "name": "stderr",
          "text": [
            " 79%|███████▉  | 19.714285714285683/25 [06:21<00:50,  9.59s/it]"
          ]
        },
        {
          "output_type": "stream",
          "name": "stdout",
          "text": [
            "\n",
            "Train Epoch: 20\tAccuracy: 43/48 (90%)\n",
            "\n"
          ]
        },
        {
          "output_type": "stream",
          "name": "stderr",
          "text": [
            "\r 79%|███████▉  | 19.857142857142826/25 [06:29<01:57, 22.84s/it]"
          ]
        },
        {
          "output_type": "stream",
          "name": "stdout",
          "text": [
            "\n",
            "Valid Epoch: 20\tAccuracy: 14/16 (88%)\n",
            "\n"
          ]
        },
        {
          "output_type": "stream",
          "name": "stderr",
          "text": [
            " 83%|████████▎ | 20.71428571428568/25 [06:40<00:43, 10.19s/it] "
          ]
        },
        {
          "output_type": "stream",
          "name": "stdout",
          "text": [
            "\n",
            "Train Epoch: 21\tAccuracy: 41/48 (85%)\n",
            "\n"
          ]
        },
        {
          "output_type": "stream",
          "name": "stderr",
          "text": [
            "\r 83%|████████▎ | 20.857142857142822/25 [06:47<01:30, 21.78s/it]"
          ]
        },
        {
          "output_type": "stream",
          "name": "stdout",
          "text": [
            "\n",
            "Valid Epoch: 21\tAccuracy: 14/16 (88%)\n",
            "\n"
          ]
        },
        {
          "output_type": "stream",
          "name": "stderr",
          "text": [
            " 87%|████████▋ | 21.714285714285676/25 [06:57<00:32,  9.78s/it]"
          ]
        },
        {
          "output_type": "stream",
          "name": "stdout",
          "text": [
            "\n",
            "Train Epoch: 22\tAccuracy: 43/48 (90%)\n",
            "\n"
          ]
        },
        {
          "output_type": "stream",
          "name": "stderr",
          "text": [
            "\r 87%|████████▋ | 21.85714285714282/25 [07:05<01:16, 24.35s/it] "
          ]
        },
        {
          "output_type": "stream",
          "name": "stdout",
          "text": [
            "\n",
            "Valid Epoch: 22\tAccuracy: 14/16 (88%)\n",
            "\n"
          ]
        },
        {
          "output_type": "stream",
          "name": "stderr",
          "text": [
            " 91%|█████████ | 22.714285714285673/25 [07:16<00:24, 10.62s/it]"
          ]
        },
        {
          "output_type": "stream",
          "name": "stdout",
          "text": [
            "\n",
            "Train Epoch: 23\tAccuracy: 44/48 (92%)\n",
            "\n"
          ]
        },
        {
          "output_type": "stream",
          "name": "stderr",
          "text": [
            "\r 91%|█████████▏| 22.857142857142815/25 [07:23<00:47, 22.28s/it]"
          ]
        },
        {
          "output_type": "stream",
          "name": "stdout",
          "text": [
            "\n",
            "Valid Epoch: 23\tAccuracy: 12/16 (75%)\n",
            "\n"
          ]
        },
        {
          "output_type": "stream",
          "name": "stderr",
          "text": [
            " 95%|█████████▍| 23.71428571428567/25 [07:32<00:11,  9.19s/it] "
          ]
        },
        {
          "output_type": "stream",
          "name": "stdout",
          "text": [
            "\n",
            "Train Epoch: 24\tAccuracy: 44/48 (92%)\n",
            "\n"
          ]
        },
        {
          "output_type": "stream",
          "name": "stderr",
          "text": [
            "\r 95%|█████████▌| 23.85714285714281/25 [07:38<00:20, 18.27s/it]"
          ]
        },
        {
          "output_type": "stream",
          "name": "stdout",
          "text": [
            "\n",
            "Valid Epoch: 24\tAccuracy: 13/16 (81%)\n",
            "\n"
          ]
        },
        {
          "output_type": "stream",
          "name": "stderr",
          "text": [
            " 99%|█████████▉| 24.714285714285666/25 [07:50<00:02,  9.80s/it]"
          ]
        },
        {
          "output_type": "stream",
          "name": "stdout",
          "text": [
            "\n",
            "Train Epoch: 25\tAccuracy: 43/48 (90%)\n",
            "\n"
          ]
        },
        {
          "output_type": "stream",
          "name": "stderr",
          "text": [
            "100%|█████████▉| 24.99999999999995/25 [07:57<00:00, 19.08s/it] "
          ]
        },
        {
          "output_type": "stream",
          "name": "stdout",
          "text": [
            "\n",
            "Valid Epoch: 25\tAccuracy: 13/16 (81%)\n",
            "\n"
          ]
        },
        {
          "output_type": "stream",
          "name": "stderr",
          "text": [
            "\n"
          ]
        }
      ],
      "source": [
        "log_interval = 20\n",
        "n_epoch = 25\n",
        "\n",
        "pbar_update = 1 / (len(train_loader) + len(test_loader))\n",
        "losses = []\n",
        "train_accuracy = []\n",
        "test_accuracy = []\n",
        "with tqdm(total=n_epoch) as pbar:\n",
        "    for epoch in range(1, n_epoch + 1):\n",
        "        train_acc_per_epoch = train(model, epoch, log_interval, path=config['path'], loss_record=losses)\n",
        "        test_acc_per_epoch = valid(model, epoch)\n",
        "        scheduler.step()\n",
        "\n",
        "        train_accuracy.append(train_acc_per_epoch)\n",
        "        test_accuracy.append(test_acc_per_epoch)"
      ]
    },
    {
      "cell_type": "code",
      "execution_count": 22,
      "metadata": {
        "id": "e_QJJy1ZMPDZ",
        "colab": {
          "base_uri": "https://localhost:8080/",
          "height": 452
        },
        "outputId": "03fcdfcd-6e46-4f51-b440-f3d98b391e7a"
      },
      "outputs": [
        {
          "output_type": "display_data",
          "data": {
            "text/plain": [
              "<Figure size 640x480 with 1 Axes>"
            ],
            "image/png": "[encoded data removed]"
          },
          "metadata": {}
        }
      ],
      "source": [
        "plt.plot(losses);\n",
        "plt.title(\"training loss\");"
      ]
    },
    {
      "cell_type": "code",
      "execution_count": 23,
      "metadata": {
        "id": "Q9616HAsQPhy",
        "colab": {
          "base_uri": "https://localhost:8080/",
          "height": 447
        },
        "outputId": "ca146d8d-b22e-4322-f6cf-4b091126433b"
      },
      "outputs": [
        {
          "output_type": "execute_result",
          "data": {
            "text/plain": [
              "[<matplotlib.lines.Line2D at 0x78d5c8412a10>]"
            ]
          },
          "metadata": {},
          "execution_count": 23
        },
        {
          "output_type": "display_data",
          "data": {
            "text/plain": [
              "<Figure size 640x480 with 0 Axes>"
            ]
          },
          "metadata": {}
        },
        {
          "output_type": "display_data",
          "data": {
            "text/plain": [
              "<Figure size 1000x400 with 1 Axes>"
            ],
            "image/png": "[encoded data removed]"
          },
          "metadata": {}
        }
      ],
      "source": [
        "plt.clf()\n",
        "fig, axs = plt.subplots(1, 1, figsize=(10, 4))\n",
        "axs.set_title(\"accuracy\")\n",
        "axs.set_xlabel(\"epoch\")\n",
        "axs.set_ylabel(\"percentage\")\n",
        "axs.plot(train_accuracy, label=\"train_acc\")\n",
        "axs.plot(test_accuracy, label=\"test_acc\")"
      ]
    },
    {
      "cell_type": "code",
      "execution_count": 24,
      "metadata": {
        "id": "EnPKmcZ9YLWs"
      },
      "outputs": [],
      "source": [
        "def test(model_path):\n",
        "\n",
        "    #model = AudioModel(sr=config['sr'], n_mels = config['n_mels'], hidden_size = 40, num_output = 2)\n",
        "    model = prepare_model()\n",
        "    model.load_state_dict(torch.load(model_path))\n",
        "    model.to(config['device'])\n",
        "    model.eval()\n",
        "    correct = 0\n",
        "    for data, target in test_loader:\n",
        "\n",
        "        data = data.to(device)\n",
        "        target = target.to(device)\n",
        "\n",
        "        expanded_data = torch.stack([data]*3, dim=1)\n",
        "        output = model(expanded_data)\n",
        "\n",
        "        pred = get_likely_index(output)\n",
        "        target = get_likely_index(target)\n",
        "        correct += number_of_correct(pred, target)\n",
        "\n",
        "    print(f\"\\nTest Epoch: {epoch}\\tAccuracy: {correct}/{len(test_loader.dataset)} ({100. * correct / len(test_loader.dataset):.0f}%)\\n\")"
      ]
    },
    {
      "cell_type": "code",
      "execution_count": 25,
      "metadata": {
        "id": "xr_quJg-bxXc",
        "colab": {
          "base_uri": "https://localhost:8080/"
        },
        "outputId": "f7a74868-57ae-423e-9a90-e46ba1c40e28"
      },
      "outputs": [
        {
          "output_type": "stream",
          "name": "stdout",
          "text": [
            "\n",
            "Test Epoch: 25\tAccuracy: 12/16 (75%)\n",
            "\n"
          ]
        }
      ],
      "source": [
        "test(config['path'])"
      ]
    },
    {
      "cell_type": "markdown",
      "metadata": {
        "id": "ANvxIRBvEILG"
      },
      "source": [
        "# Inference"
      ]
    },
    {
      "cell_type": "code",
      "execution_count": 26,
      "metadata": {
        "id": "YI4RfiPZG0ED",
        "colab": {
          "base_uri": "https://localhost:8080/"
        },
        "outputId": "524f3895-465e-46a1-8512-501a2f3a0ce9"
      },
      "outputs": [
        {
          "output_type": "stream",
          "name": "stdout",
          "text": [
            "Collecting speechbrain\n",
            "  Downloading speechbrain-0.5.15-py3-none-any.whl (553 kB)\n",
            "\u001b[?25l     \u001b[90m━━━━━━━━━━━━━━━━━━━━━━━━━━━━━━━━━━━━━━━━\u001b[0m \u001b[32m0.0/553.8 kB\u001b[0m \u001b[31m?\u001b[0m eta \u001b[36m-:--:--\u001b[0m\r\u001b[2K     \u001b[91m━━━━━━━━━━━━━━━\u001b[0m\u001b[91m╸\u001b[0m\u001b[90m━━━━━━━━━━━━━━━━━━━━━━━\u001b[0m \u001b[32m225.3/553.8 kB\u001b[0m \u001b[31m6.6 MB/s\u001b[0m eta \u001b[36m0:00:01\u001b[0m\r\u001b[2K     \u001b[90m━━━━━━━━━━━━━━━━━━━━━━━━━━━━━━━━━━━━━━\u001b[0m \u001b[32m553.8/553.8 kB\u001b[0m \u001b[31m11.2 MB/s\u001b[0m eta \u001b[36m0:00:00\u001b[0m\n",
            "\u001b[?25hCollecting hyperpyyaml (from speechbrain)\n",
            "  Downloading HyperPyYAML-1.2.2-py3-none-any.whl (16 kB)\n",
            "Requirement already satisfied: joblib in /usr/local/lib/python3.10/dist-packages (from speechbrain) (1.3.2)\n",
            "Requirement already satisfied: numpy in /usr/local/lib/python3.10/dist-packages (from speechbrain) (1.23.5)\n",
            "Requirement already satisfied: packaging in /usr/local/lib/python3.10/dist-packages (from speechbrain) (23.1)\n",
            "Requirement already satisfied: scipy in /usr/local/lib/python3.10/dist-packages (from speechbrain) (1.11.3)\n",
            "Collecting sentencepiece (from speechbrain)\n",
            "  Downloading sentencepiece-0.1.99-cp310-cp310-manylinux_2_17_x86_64.manylinux2014_x86_64.whl (1.3 MB)\n",
            "\u001b[2K     \u001b[90m━━━━━━━━━━━━━━━━━━━━━━━━━━━━━━━━━━━━━━━━\u001b[0m \u001b[32m1.3/1.3 MB\u001b[0m \u001b[31m73.2 MB/s\u001b[0m eta \u001b[36m0:00:00\u001b[0m\n",
            "\u001b[?25hRequirement already satisfied: torch>=1.9 in /usr/local/lib/python3.10/dist-packages (from speechbrain) (2.0.1+cu118)\n",
            "Requirement already satisfied: torchaudio in /usr/local/lib/python3.10/dist-packages (from speechbrain) (2.0.2+cu118)\n",
            "Requirement already satisfied: tqdm in /usr/local/lib/python3.10/dist-packages (from speechbrain) (4.66.1)\n",
            "Collecting huggingface-hub (from speechbrain)\n",
            "  Downloading huggingface_hub-0.17.3-py3-none-any.whl (295 kB)\n",
            "\u001b[2K     \u001b[90m━━━━━━━━━━━━━━━━━━━━━━━━━━━━━━━━━━━━━━\u001b[0m \u001b[32m295.0/295.0 kB\u001b[0m \u001b[31m32.6 MB/s\u001b[0m eta \u001b[36m0:00:00\u001b[0m\n",
            "\u001b[?25hRequirement already satisfied: filelock in /usr/local/lib/python3.10/dist-packages (from torch>=1.9->speechbrain) (3.12.4)\n",
            "Requirement already satisfied: typing-extensions in /usr/local/lib/python3.10/dist-packages (from torch>=1.9->speechbrain) (4.5.0)\n",
            "Requirement already satisfied: sympy in /usr/local/lib/python3.10/dist-packages (from torch>=1.9->speechbrain) (1.12)\n",
            "Requirement already satisfied: networkx in /usr/local/lib/python3.10/dist-packages (from torch>=1.9->speechbrain) (3.1)\n",
            "Requirement already satisfied: jinja2 in /usr/local/lib/python3.10/dist-packages (from torch>=1.9->speechbrain) (3.1.2)\n",
            "Requirement already satisfied: triton==2.0.0 in /usr/local/lib/python3.10/dist-packages (from torch>=1.9->speechbrain) (2.0.0)\n",
            "Requirement already satisfied: cmake in /usr/local/lib/python3.10/dist-packages (from triton==2.0.0->torch>=1.9->speechbrain) (3.27.5)\n",
            "Requirement already satisfied: lit in /usr/local/lib/python3.10/dist-packages (from triton==2.0.0->torch>=1.9->speechbrain) (17.0.1)\n",
            "Requirement already satisfied: fsspec in /usr/local/lib/python3.10/dist-packages (from huggingface-hub->speechbrain) (2023.6.0)\n",
            "Requirement already satisfied: requests in /usr/local/lib/python3.10/dist-packages (from huggingface-hub->speechbrain) (2.31.0)\n",
            "Requirement already satisfied: pyyaml>=5.1 in /usr/local/lib/python3.10/dist-packages (from huggingface-hub->speechbrain) (6.0.1)\n",
            "Collecting ruamel.yaml>=0.17.28 (from hyperpyyaml->speechbrain)\n",
            "  Downloading ruamel.yaml-0.17.35-py3-none-any.whl (112 kB)\n",
            "\u001b[2K     \u001b[90m━━━━━━━━━━━━━━━━━━━━━━━━━━━━━━━━━━━━━━\u001b[0m \u001b[32m112.9/112.9 kB\u001b[0m \u001b[31m15.0 MB/s\u001b[0m eta \u001b[36m0:00:00\u001b[0m\n",
            "\u001b[?25hCollecting ruamel.yaml.clib>=0.2.7 (from ruamel.yaml>=0.17.28->hyperpyyaml->speechbrain)\n",
            "  Downloading ruamel.yaml.clib-0.2.8-cp310-cp310-manylinux_2_17_x86_64.manylinux2014_x86_64.manylinux_2_24_x86_64.whl (526 kB)\n",
            "\u001b[2K     \u001b[90m━━━━━━━━━━━━━━━━━━━━━━━━━━━━━━━━━━━━━━\u001b[0m \u001b[32m526.7/526.7 kB\u001b[0m \u001b[31m51.6 MB/s\u001b[0m eta \u001b[36m0:00:00\u001b[0m\n",
            "\u001b[?25hRequirement already satisfied: MarkupSafe>=2.0 in /usr/local/lib/python3.10/dist-packages (from jinja2->torch>=1.9->speechbrain) (2.1.3)\n",
            "Requirement already satisfied: charset-normalizer<4,>=2 in /usr/local/lib/python3.10/dist-packages (from requests->huggingface-hub->speechbrain) (3.2.0)\n",
            "Requirement already satisfied: idna<4,>=2.5 in /usr/local/lib/python3.10/dist-packages (from requests->huggingface-hub->speechbrain) (3.4)\n",
            "Requirement already satisfied: urllib3<3,>=1.21.1 in /usr/local/lib/python3.10/dist-packages (from requests->huggingface-hub->speechbrain) (2.0.5)\n",
            "Requirement already satisfied: certifi>=2017.4.17 in /usr/local/lib/python3.10/dist-packages (from requests->huggingface-hub->speechbrain) (2023.7.22)\n",
            "Requirement already satisfied: mpmath>=0.19 in /usr/local/lib/python3.10/dist-packages (from sympy->torch>=1.9->speechbrain) (1.3.0)\n",
            "Installing collected packages: sentencepiece, ruamel.yaml.clib, ruamel.yaml, huggingface-hub, hyperpyyaml, speechbrain\n",
            "Successfully installed huggingface-hub-0.17.3 hyperpyyaml-1.2.2 ruamel.yaml-0.17.35 ruamel.yaml.clib-0.2.8 sentencepiece-0.1.99 speechbrain-0.5.15\n"
          ]
        }
      ],
      "source": [
        "!pip install speechbrain"
      ]
    },
    {
      "cell_type": "code",
      "execution_count": 27,
      "metadata": {
        "id": "hJGoFZLgF-kW"
      },
      "outputs": [],
      "source": [
        "def get_other_sound():\n",
        "    # 병합할 다른 소리 파일 가져오기\n",
        "        _meta = pd.read_csv( othersourcePath + \"/meta.csv\", index_col=[0] )\n",
        "\n",
        "        _meta = _meta['mp3_path']\n",
        "        path = _meta.iloc[random.randrange(1,len(_meta))]\n",
        "\n",
        "        waveform, sample_rate = torchaudio.load( othersourcePath / Path(str(path)).with_suffix('.mp3'))\n",
        "        audio_sample = F.resample(waveform[0], sample_rate, config['sr'], lowpass_filter_width=6)\n",
        "        return audio_sample\n",
        "\n",
        "def minmaxScaler(data):\n",
        "    # 정규화 수행\n",
        "        data_min, data_max = data.min(), data.max()\n",
        "        new_lower, new_upper = -1, 1\n",
        "        scaled_data = (data - data_min)/(data_max - data_min)*(new_upper - new_lower) + new_lower\n",
        "        return scaled_data\n",
        "\n",
        "def mixOtherSound(audio_sample, mix_rate=1.0):\n",
        "    # 시험 데이터를 실 데이터로 전이시키는 함수\n",
        "        other_sound = get_other_sound()\n",
        "        if len(other_sound) > len(audio_sample):\n",
        "            other_sound = other_sound[:len(audio_sample)]\n",
        "        else:\n",
        "            other_sound = other_sound[:len(audio_sample)]\n",
        "            front = int( (len(audio_sample) - len(other_sound)) / 4 ) * 3\n",
        "            back = (len(audio_sample) - len(other_sound)) - front\n",
        "            other_sound = nn.functional.pad(other_sound, (front, back) , 'constant', value=0)\n",
        "\n",
        "        scaled_audio_data = minmaxScaler(audio_sample)\n",
        "        scaled_other_data = minmaxScaler(other_sound)\n",
        "\n",
        "        audio_sample = scaled_audio_data + (scaled_other_data*mix_rate)\n",
        "\n",
        "        return audio_sample"
      ]
    },
    {
      "cell_type": "code",
      "execution_count": 28,
      "metadata": {
        "id": "uW0YHPI9Fx7F"
      },
      "outputs": [],
      "source": [
        "path = \"221109_hydrogen_S206_Num_1_Horn_Yes_2_22.wav\"\n",
        "waveform, sample_rate = torchaudio.load( dirPath / Path(path).with_suffix('.wav'))\n",
        "audio_sample = F.resample(waveform[0], sample_rate, config['sr'], lowpass_filter_width=6)\n",
        "\n",
        "audio_sample = mixOtherSound(audio_sample, mix_rate=0.2)\n",
        "\n",
        "noisy_path = \"./noisy_audio.wav\"\n",
        "torchaudio.save(noisy_path, audio_sample.unsqueeze(0), config['sr'])"
      ]
    },
    {
      "cell_type": "code",
      "execution_count": 29,
      "metadata": {
        "id": "0YgBCMOSFl5W"
      },
      "outputs": [],
      "source": [
        "from speechbrain.pretrained import SepformerSeparation as separator"
      ]
    },
    {
      "cell_type": "code",
      "execution_count": 30,
      "metadata": {
        "id": "oeLuQJEeEIC7",
        "colab": {
          "base_uri": "https://localhost:8080/"
        },
        "outputId": "35acc514-3858-4482-8c21-9a81753f1bed"
      },
      "outputs": [
        {
          "output_type": "stream",
          "name": "stderr",
          "text": [
            "/usr/local/lib/python3.10/dist-packages/torchaudio/functional/functional.py:576: UserWarning: At least one mel filterbank has all zero values. The value for `n_mels` (80) may be set too high. Or, the value for `n_freqs` (201) may be set too low.\n",
            "  warnings.warn(\n"
          ]
        }
      ],
      "source": [
        "#model = AudioModel(sr=config['sr'], n_mels = config['n_mels'], hidden_size = 40, num_output = 2)\n",
        "#yes가 1임\n",
        "waveform, sample_rate = torchaudio.load( dirPath / Path(path).with_suffix('.wav'))\n",
        "audio_sample = F.resample(waveform[0], sample_rate, config['sr'], lowpass_filter_width=6)\n",
        "\n",
        "mel_converter = torchaudio.transforms.MelSpectrogram(sample_rate=config['sr'], n_mels=config['n_mels'])\n",
        "db_converter = torchaudio.transforms.AmplitudeToDB()\n",
        "\n",
        "feature = db_converter(mel_converter(audio_sample))\n",
        "\n",
        "model = prepare_model()\n",
        "model.load_state_dict(torch.load(config['path']))\n",
        "model.to(config['device'])\n",
        "model.eval()\n",
        "\n",
        "feature = feature.unsqueeze(0)\n",
        "expanded_data = torch.stack([feature]*3, dim=1)\n",
        "expanded_data = expanded_data.to(config['device'])\n",
        "output = model(expanded_data)\n",
        "pred = get_likely_index(output)"
      ]
    },
    {
      "cell_type": "code",
      "execution_count": 31,
      "metadata": {
        "id": "eMZml0fnLPOL",
        "colab": {
          "base_uri": "https://localhost:8080/"
        },
        "outputId": "b4a5368e-0145-4912-c784-64ed836d7c2a"
      },
      "outputs": [
        {
          "output_type": "stream",
          "name": "stdout",
          "text": [
            "이상치 감지\n"
          ]
        }
      ],
      "source": [
        "print( \"이상치 감지\" if int(pred[0]) == 1 else \"이상치 불검출\")"
      ]
    },
    {
      "cell_type": "code",
      "execution_count": 32,
      "metadata": {
        "id": "HrE5CA6qSBPM"
      },
      "outputs": [],
      "source": [
        "# clean_waveform_2, sample_rate = torchaudio.load( \"./source2hat.wav\" )\n",
        "# audio_sample_2 = F.resample(clean_waveform_2[0], 16000, config['sr'], lowpass_filter_width=6)\n",
        "# plt.plot(audio_sample_2)"
      ]
    },
    {
      "cell_type": "code",
      "execution_count": 33,
      "metadata": {
        "id": "BuIWESHQSXQo"
      },
      "outputs": [],
      "source": [
        "# path = \"221102_hydrogen_S206_Num_0_Horn_Yes_2_22.wav\"\n",
        "# waveform_origin, sample_rate = torchaudio.load( dirPath / Path(path).with_suffix('.wav'))\n",
        "# audio_sample_origin = F.resample(waveform_origin[0], sample_rate, config['sr'], lowpass_filter_width=6)\n",
        "# plt.plot(audio_sample_origin)"
      ]
    },
    {
      "cell_type": "code",
      "execution_count": 34,
      "metadata": {
        "id": "qtoyf-tSSi1-"
      },
      "outputs": [],
      "source": [
        "# noisy_path = \"./noisy_audio.wav\"\n",
        "# waveform_noisy, sample_rate = torchaudio.load( Path(noisy_path).with_suffix('.wav'))\n",
        "# audio_sample_noisy = F.resample(waveform_noisy[0], sample_rate, config['sr'], lowpass_filter_width=6)\n",
        "# plt.title(\"Noisy\")\n",
        "# plt.plot(audio_sample_noisy)"
      ]
    },
    {
      "cell_type": "code",
      "source": [
        "#!cp /content/best_model.pt /content/drive/MyDrive/Artificial_Intelligence/ai_data/기차대차소음"
      ],
      "metadata": {
        "id": "l0ZbCLWlcfV5"
      },
      "execution_count": 35,
      "outputs": []
    },
    {
      "cell_type": "markdown",
      "metadata": {
        "id": "R2XSht09Ux9c"
      },
      "source": [
        "# 예비 코드"
      ]
    },
    {
      "cell_type": "code",
      "execution_count": 36,
      "metadata": {
        "id": "ogbhrpMeU2SC"
      },
      "outputs": [],
      "source": [
        "def SoundAugment():\n",
        "    def __init__(self, other_sound_path=None):\n",
        "        assert other_sound_path is not None, \"it must be filled\"\n",
        "        self.other_sound_dir = other_sound_path\n",
        "\n",
        "    def _get_other_sound(self, sound, amplitude):\n",
        "        _meta = pd.read_csv( self.other_sound_dir + \"/meta.csv\", index_col=[0] )\n",
        "\n",
        "        _meta = _meta['mp3_path']\n",
        "        path = _meta.iloc[random.randrange(1,len(_meta))]\n",
        "\n",
        "        waveform, sample_rate = torchaudio.load( self.other_sound_dir / Path(str(path)).with_suffix('.mp3'))\n",
        "        audio_sample = F.resample(waveform[0], sample_rate, self.config['sr'], lowpass_filter_width=6)\n",
        "        augmented_sound = sound + audio_sample\n",
        "        return augmented_sound\n",
        "\n",
        "    def augment(self, feature):\n",
        "        feature = self._get_other_sound(feature)\n",
        "        return feature"
      ]
    },
    {
      "cell_type": "code",
      "execution_count": 37,
      "metadata": {
        "id": "0FwtkQAiNGdL"
      },
      "outputs": [],
      "source": [
        "def prepare_model():\n",
        "    resnet_model = resnet18(weights='IMAGENET1K_V1')\n",
        "    resnet_model.fc = nn.Linear(512,1)\n",
        "\n",
        "    for m in resnet_model.modules():\n",
        "        if isinstance(m, nn.Conv2d):\n",
        "            nn.init.kaiming_normal_(m.weight, mode=\"fan_out\", nonlinearity=\"relu\")\n",
        "        elif isinstance(m, (nn.BatchNorm2d, nn.GroupNorm)):\n",
        "            nn.init.constant_(m.weight, 1)\n",
        "            nn.init.constant_(m.bias, 0)\n",
        "\n",
        "    return resnet_model"
      ]
    },
    {
      "cell_type": "code",
      "execution_count": 38,
      "metadata": {
        "id": "GDs-TJwP6p4H"
      },
      "outputs": [],
      "source": [
        "class AudioModel(nn.Module):\n",
        "    def __init__(self, sr, n_mels, hidden_size, num_output, augmentation=False):\n",
        "        super().__init__()\n",
        "        self.sr = sr\n",
        "        self.conv_layer = nn.Sequential(\n",
        "          nn.Conv1d(n_mels, out_channels=hidden_size, kernel_size=2),\n",
        "          nn.MaxPool1d(3),\n",
        "          nn.ReLU(),\n",
        "          nn.Conv1d(hidden_size, out_channels=hidden_size, kernel_size=3),\n",
        "          nn.MaxPool1d(3),\n",
        "          nn.ReLU(),\n",
        "        )\n",
        "        self.final_layer = nn.Linear(hidden_size, num_output)\n",
        "\n",
        "    def forward(self, x):\n",
        "        out = self.conv_layer(x)\n",
        "        out = torch.max(out, dim=-1)[0]\n",
        "        out = self.final_layer(out)\n",
        "        out = torch.sigmoid(out)\n",
        "        return out"
      ]
    }
  ],
  "metadata": {
    "accelerator": "GPU",
    "colab": {
      "machine_shape": "hm",
      "provenance": [],
      "collapsed_sections": [
        "R2XSht09Ux9c"
      ]
    },
    "kernelspec": {
      "display_name": "Python 3",
      "name": "python3"
    },
    "language_info": {
      "name": "python"
    }
  },
  "nbformat": 4,
  "nbformat_minor": 0
}